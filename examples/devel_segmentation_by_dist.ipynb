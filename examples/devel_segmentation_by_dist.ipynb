{
 "cells": [
  {
   "cell_type": "code",
   "execution_count": 1,
   "metadata": {},
   "outputs": [
    {
     "name": "stdout",
     "output_type": "stream",
     "text": [
      "Populating the interactive namespace from numpy and matplotlib\n"
     ]
    },
    {
     "data": {
      "text/plain": [
       "<matplotlib.image.AxesImage at 0x27c2da44400>"
      ]
     },
     "execution_count": 1,
     "metadata": {},
     "output_type": "execute_result"
    },
    {
     "data": {
      "image/png": "[encoded data removed]",
      "text/plain": [
       "<matplotlib.figure.Figure at 0x27c2b5609b0>"
      ]
     },
     "metadata": {},
     "output_type": "display_data"
    }
   ],
   "source": [
    "%pylab inline\n",
    "\n",
    "import numpy as np\n",
    "import scipy.ndimage\n",
    "\n",
    "seeds = np.zeros([8, 10])\n",
    "\n",
    "seeds[1:7, 8] = 1\n",
    "seeds[6, 5] = 2\n",
    "seeds[2, 0] = 3\n",
    "\n",
    "seeds\n",
    "\n",
    "plt.imshow(seeds, interpolation=\"nearest\")"
   ]
  },
  {
   "cell_type": "code",
   "execution_count": 2,
   "metadata": {},
   "outputs": [
    {
     "data": {
      "text/plain": [
       "array([[[2, 2, 2, 2, 1, 1, 1, 1, 1, 1],\n",
       "        [2, 2, 2, 2, 1, 1, 1, 1, 1, 1],\n",
       "        [2, 2, 2, 2, 2, 2, 2, 2, 2, 2],\n",
       "        [2, 2, 2, 2, 6, 6, 3, 3, 3, 3],\n",
       "        [2, 2, 2, 6, 6, 6, 4, 4, 4, 4],\n",
       "        [2, 2, 6, 6, 6, 6, 6, 5, 5, 5],\n",
       "        [2, 6, 6, 6, 6, 6, 6, 6, 6, 6],\n",
       "        [2, 6, 6, 6, 6, 6, 6, 6, 6, 6]],\n",
       "\n",
       "       [[0, 0, 0, 0, 8, 8, 8, 8, 8, 8],\n",
       "        [0, 0, 0, 0, 8, 8, 8, 8, 8, 8],\n",
       "        [0, 0, 0, 0, 0, 8, 8, 8, 8, 8],\n",
       "        [0, 0, 0, 0, 5, 5, 8, 8, 8, 8],\n",
       "        [0, 0, 0, 5, 5, 5, 8, 8, 8, 8],\n",
       "        [0, 0, 5, 5, 5, 5, 5, 8, 8, 8],\n",
       "        [0, 5, 5, 5, 5, 5, 5, 8, 8, 8],\n",
       "        [0, 5, 5, 5, 5, 5, 5, 8, 8, 8]]])"
      ]
     },
     "metadata": {},
     "output_type": "display_data"
    },
    {
     "data": {
      "text/plain": [
       "<matplotlib.image.AxesImage at 0x27c2db59be0>"
      ]
     },
     "execution_count": 2,
     "metadata": {},
     "output_type": "execute_result"
    },
    {
     "data": {
      "image/png": "[encoded data removed]",
      "text/plain": [
       "<matplotlib.figure.Figure at 0x27c2b545908>"
      ]
     },
     "metadata": {},
     "output_type": "display_data"
    }
   ],
   "source": [
    "dist, inds = scipy.ndimage.morphology.distance_transform_edt(\n",
    "    seeds == 0, return_indices=True, return_distances=True\n",
    ")\n",
    "display(inds)\n",
    "plt.imshow(dist, interpolation=\"nearest\")\n",
    "# display(dist)"
   ]
  },
  {
   "cell_type": "code",
   "execution_count": null,
   "metadata": {},
   "outputs": [],
   "source": [
    "plt.imshow(dist, interpolation=\"nearest\")"
   ]
  }
 ],
 "metadata": {
  "kernelspec": {
   "display_name": "Python 3",
   "language": "python",
   "name": "python3"
  },
  "language_info": {
   "codemirror_mode": {
    "name": "ipython",
    "version": 3
   },
   "file_extension": ".py",
   "mimetype": "text/x-python",
   "name": "python",
   "nbconvert_exporter": "python",
   "pygments_lexer": "ipython3",
   "version": "3.6.5"
  }
 },
 "nbformat": 4,
 "nbformat_minor": 2
}
