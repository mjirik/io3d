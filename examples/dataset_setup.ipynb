{
 "cells": [
  {
   "cell_type": "markdown",
   "source": [
    "# Datasets in `io3d`\n",
    "\n",
    "The default root directory for data is in user home directory: `~/data/` (`~` is user home directory).\n",
    "\n",
    "The expected structure in root directory is:\n",
    "\n",
    " `./{data_origin}/{processing_type}/{data_name}`\n",
    "\n",
    "* `{data_origin}` is `medical` for human medicine based data, `biomedical` for animal medicine data, `biology` for plan-like data and so on.\n",
    "* `{processing_type}` is `orig` for original data and `processed` for data produced by our processing\n",
    "\n",
    "Example:\n",
    "\n",
    "`medical/orig/sliver07/`\n"
   ],
   "metadata": {
    "collapsed": false,
    "pycharm": {
     "name": "#%% md\n"
    }
   }
  },
  {
   "cell_type": "markdown",
   "source": [
    "# Get path to the data"
   ],
   "metadata": {
    "collapsed": false,
    "pycharm": {
     "name": "#%% md\n"
    }
   }
  },
  {
   "cell_type": "code",
   "execution_count": 4,
   "outputs": [
    {
     "data": {
      "text/plain": "WindowsPath('C:/Users/Jirik/data/medical/orig/sliver07')"
     },
     "execution_count": 4,
     "metadata": {},
     "output_type": "execute_result"
    }
   ],
   "source": [
    "import io3d\n",
    "\n",
    "io3d.joinp(\"medical/orig/sliver07\")"
   ],
   "metadata": {
    "collapsed": false,
    "pycharm": {
     "name": "#%%\n"
    }
   }
  },
  {
   "cell_type": "markdown",
   "source": [
    "[See more about reading here](examples/dataset_read.ipynb)"
   ],
   "metadata": {
    "collapsed": false,
    "pycharm": {
     "name": "#%% md\n"
    }
   }
  },
  {
   "cell_type": "markdown",
   "source": [
    "# Change the dataset root\n",
    "\n",
    "If you want to store your data on other location just edit the file `~\\.io3d_cache.yaml`\n",
    "\n",
    "Example:\n",
    "\n",
    "If you want use `h:\\` as root dirctory, the content of `~\\.io3d_cache.yaml`\n",
    "```yaml\n",
    "local_dataset_dir: h:\\\n",
    "```\n",
    "\n",
    "# Put part of the dataset on other place\n",
    "\n",
    "Lets say you have some part of data stored in different location because you have not enough space in original location.\n",
    "Expected data location is `$ROOT/medical/orig/sliver07` and the real location is `g:/my_drive/data/medical/orig/sliver07`.\n",
    "\n",
    "\n",
    "```cmd\n",
    "python -m io3d -ssdp \"g:/my_drive/data/medical/orig/sliver07\" \"medical/orig/sliver07\"\n",
    "```\n",
    "this will change `~\\.io3d_cache.yml`\n",
    "\n",
    "```\n",
    "{\n",
    "local_dataset_dir: 'C:\\Users\\Jirik/data/',\n",
    "local_dataset_specific_dir_medical/orig/sliver07: 'g:/my_drive/data/medical/orig/sliver07'\n",
    "}\n",
    "```\n",
    "\n",
    "\n"
   ],
   "metadata": {
    "collapsed": false
   }
  }
 ],
 "metadata": {
  "kernelspec": {
   "display_name": "Python 3",
   "language": "python",
   "name": "python3"
  },
  "language_info": {
   "codemirror_mode": {
    "name": "ipython",
    "version": 2
   },
   "file_extension": ".py",
   "mimetype": "text/x-python",
   "name": "python",
   "nbconvert_exporter": "python",
   "pygments_lexer": "ipython2",
   "version": "2.7.6"
  }
 },
 "nbformat": 4,
 "nbformat_minor": 0
}