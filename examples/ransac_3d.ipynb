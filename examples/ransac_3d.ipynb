{
 "cells": [
  {
   "cell_type": "code",
   "execution_count": 71,
   "metadata": {
    "collapsed": true
   },
   "outputs": [],
   "source": [
    "import numpy as np\n",
    "from matplotlib import pyplot as plt\n",
    "from mpl_toolkits.mplot3d import Axes3D\n",
    "from skimage.measure import LineModelND, ransac\n",
    "from skimage.transform import AffineTransform\n",
    "\n",
    "np.random.seed(seed=1)\n",
    "\n",
    "# xyz[::2] += 20 * noise[::2]\n",
    "# xyz[::4] += 100 * noise[::4]"
   ]
  },
  {
   "cell_type": "markdown",
   "source": [
    "# Pairs"
   ],
   "metadata": {
    "collapsed": false,
    "pycharm": {
     "name": "#%% md\n"
    }
   }
  },
  {
   "cell_type": "code",
   "execution_count": 72,
   "outputs": [],
   "source": [
    "# alternative pairs\n",
    "\n",
    "xyz_src = np.random.random([50, 3])\n",
    "xyz_dst = np.zeros_like(xyz_src)\n",
    "xyz_dst[:, 0] = xyz_src[:, 0]\n",
    "xyz_dst[:, 1] = xyz_src[:, 2]\n",
    "xyz_dst[:, 2] = xyz_src[:, 1]\n",
    "\n",
    "noise = np.random.normal(size=xyz_src.shape)\n",
    "xyz_src += 0.01 * noise\n",
    "xyz_src[::4] += 5.0 * noise[::4]\n",
    "\n",
    "noise = np.random.normal(size=xyz_src.shape)\n",
    "xyz_dst += 0.01 * noise\n",
    "xyz_dst[::4] += 5.0 * noise[::4]"
   ],
   "metadata": {
    "collapsed": false,
    "pycharm": {
     "name": "#%%\n"
    }
   }
  },
  {
   "cell_type": "code",
   "execution_count": 73,
   "outputs": [
    {
     "data": {
      "text/plain": "array([[-6.46229577e+00,  2.29927305e+00,  4.23937922e+00],\n       [ 2.93737413e-01,  1.50261351e-01,  7.92157607e-02],\n       [ 1.85873256e-01,  3.29403003e-01,  4.07981651e-01],\n       [ 5.42905739e-01,  4.18948345e-01,  6.77467884e-01],\n       [ 6.58596946e+00,  1.07332972e+01, -9.28110155e+00],\n       [ 6.82829150e-01,  4.33581310e-01,  5.62069945e-01],\n       [ 1.28394258e-01,  2.06734942e-01,  7.98935366e-01],\n       [ 9.62222369e-01,  3.01123597e-01,  6.97827991e-01],\n       [ 4.84835155e+00, -2.22928229e+00,  2.69313166e+00],\n       [ 2.76113693e-02,  1.77849030e-01,  8.78608176e-01],\n       [ 9.64811361e-02,  4.20090166e-01,  9.66578392e-01],\n       [ 5.40669401e-01,  6.97171767e-01,  3.16892643e-01],\n       [ 1.07638478e+00,  3.93271078e+00,  1.18308602e+00],\n       [ 7.56969829e-01,  9.85759921e-01,  7.23817277e-01],\n       [ 2.90832238e-01,  8.11149125e-01,  1.07639651e-01],\n       [ 4.46891974e-01,  9.07231056e-01,  2.92423606e-01],\n       [ 3.74996474e-01, -5.49128526e+00, -2.57127628e+00],\n       [ 6.68865265e-01,  2.14116108e-01,  2.62580248e-01],\n       [ 4.96525273e-01,  5.16155135e-02,  5.83980957e-01],\n       [ 1.48863914e-01,  6.11212534e-01,  6.80794751e-01],\n       [-3.13871818e+00,  4.93050531e+00,  1.33613119e+01],\n       [ 4.11692922e-01,  5.03901489e-02,  5.33633263e-01],\n       [ 6.77109216e-01,  5.12016033e-01,  9.51395454e-01],\n       [ 5.83357025e-01,  8.90676328e-01,  1.40610181e-01],\n       [ 2.66023226e+00,  7.28645296e+00, -1.55662765e-01],\n       [ 1.59180576e-01,  9.33136191e-01,  3.50173231e-01],\n       [ 7.53618754e-01,  7.25266858e-01,  8.94909477e-01],\n       [ 6.27367134e-01,  7.69989021e-01,  3.60008909e-01],\n       [ 3.57176737e+00, -7.25757987e+00,  3.44571078e+00],\n       [ 9.69042869e-01,  6.71551015e-01,  6.32140141e-01],\n       [ 1.10737191e-01,  9.57729315e-01,  4.44289079e-01],\n       [ 5.97938395e-01,  3.94817286e-01,  2.19420095e-01],\n       [-7.36673402e+00, -3.88800399e+00, -5.60389782e+00],\n       [ 6.36705703e-01,  3.23379907e-01,  5.13631344e-01],\n       [ 8.97085929e-01,  3.51404521e-01,  8.96166617e-01],\n       [ 6.32118505e-01,  2.20548646e-02,  9.25087667e-01],\n       [ 7.74267232e+00,  1.64412176e+00,  8.27325800e+00],\n       [ 1.42163158e-01,  9.48183518e-01,  6.97912188e-01],\n       [ 5.38027288e-02,  7.79956739e-01,  7.48418447e-01],\n       [ 9.21036157e-01,  7.04520774e-01,  1.22237017e-01],\n       [ 1.23565403e+00,  1.03738018e+00,  3.34001813e+00],\n       [ 2.64132650e-01,  8.58823303e-01,  5.26499857e-01],\n       [ 5.40998797e-01,  8.35373347e-01,  1.07431357e-01],\n       [ 2.87433977e-01,  5.80777136e-01,  9.66485899e-01],\n       [ 5.51553890e-01, -6.97842104e+00, -3.51456229e+00],\n       [ 2.39721389e-01,  8.13290587e-01,  3.83428925e-01],\n       [ 8.81647204e-01,  7.34064374e-01,  5.52790362e-01],\n       [ 1.34146828e-01,  3.19868395e-02,  1.40718744e-01],\n       [ 1.87987527e+00, -5.12589867e+00,  1.05020883e+01],\n       [ 7.18845600e-01,  5.64012243e-01,  6.48599618e-03]])"
     },
     "execution_count": 73,
     "metadata": {},
     "output_type": "execute_result"
    }
   ],
   "source": [
    "xyz_src"
   ],
   "metadata": {
    "collapsed": false,
    "pycharm": {
     "name": "#%%\n"
    }
   }
  },
  {
   "cell_type": "code",
   "execution_count": 74,
   "outputs": [
    {
     "data": {
      "text/plain": "array([[  0.94919785,  -7.64354401,   4.70340523],\n       [  0.29858819,   0.09367908,   0.15877644],\n       [  0.18910769,   0.39939215,   0.34832572],\n       [  0.53148402,   0.69357955,   0.43462811],\n       [  4.00606861,   4.46078075,  -3.51706297],\n       [  0.66178964,   0.54428107,   0.42962733],\n       [  0.13784514,   0.81474301,   0.19028237],\n       [  0.96388649,   0.69327687,   0.32263868],\n       [  1.18074763,   1.14277923,   0.97740978],\n       [  0.04082666,   0.8669778 ,   0.17063969],\n       [  0.09648104,   0.95732129,   0.42603099],\n       [  0.5263585 ,   0.31467055,   0.6889035 ],\n       [  2.77718397,   3.94998924,  -3.95205489],\n       [  0.75600342,   0.76882349,   0.97414952],\n       [  0.27214227,   0.09442023,   0.78648835],\n       [  0.46412202,   0.29374768,   0.90164857],\n       [  3.4030109 ,  -2.98565374,   5.7583235 ],\n       [  0.6818882 ,   0.27943445,   0.20501467],\n       [  0.52188173,   0.58236345,   0.05990835],\n       [  0.14621669,   0.69250239,   0.58062785],\n       [ -0.57891197,  -3.29992147,   1.83026131],\n       [  0.4059183 ,   0.54210723,   0.05951468],\n       [  0.65673624,   0.95652162,   0.51250969],\n       [  0.59810792,   0.14185637,   0.9146252 ],\n       [ -4.85579283,  -0.13736104,   8.07905188],\n       [  0.15917383,   0.32739385,   0.90808269],\n       [  0.7257477 ,   0.86216445,   0.72188159],\n       [  0.63645749,   0.34447605,   0.75417771],\n       [ -0.28112947,   0.47092141,   0.05321003],\n       [  0.96309824,   0.62630736,   0.65168167],\n       [  0.12484724,   0.45911231,   0.94753869],\n       [  0.58644355,   0.23001354,   0.40276457],\n       [  1.68626141,  -0.95013701,  -1.67449806],\n       [  0.61042043,   0.52148316,   0.33603659],\n       [  0.86650887,   0.91206009,   0.35490539],\n       [  0.63063825,   0.93458797,  -0.0120041 ],\n       [  3.61997644,   1.79695447,   1.10685566],\n       [  0.13244901,   0.70535097,   0.92846517],\n       [  0.08434735,   0.75952002,   0.77684133],\n       [  0.9151692 ,   0.10671171,   0.71867265],\n       [  4.29192748,   0.20546057,  -7.68314317],\n       [  0.24173212,   0.54501092,   0.85818619],\n       [  0.55166213,   0.12241873,   0.83269175],\n       [  0.27385348,   0.95533019,   0.60343887],\n       [ -1.82058789,   3.19345968,  -5.10100129],\n       [  0.24091956,   0.36912903,   0.81631135],\n       [  0.86318818,   0.57734628,   0.7340563 ],\n       [  0.13721903,   0.12501577,   0.07224668],\n       [ -2.0739615 ,   0.65889602, -10.62626418],\n       [  0.70468729,   0.01707214,   0.57075873]])"
     },
     "execution_count": 74,
     "metadata": {},
     "output_type": "execute_result"
    }
   ],
   "source": [
    "xyz_dst"
   ],
   "metadata": {
    "collapsed": false,
    "pycharm": {
     "name": "#%%\n"
    }
   }
  },
  {
   "cell_type": "code",
   "execution_count": 75,
   "outputs": [],
   "source": [
    "# model_robust, inliers = ransac((xyz_src[:,:2], xyz_dst[:,:2]), AffineTransform, min_samples=3,\n",
    "#                                residual_threshold=2, max_trials=100)"
   ],
   "metadata": {
    "collapsed": false,
    "pycharm": {
     "name": "#%%\n"
    }
   }
  },
  {
   "cell_type": "code",
   "execution_count": 76,
   "outputs": [
    {
     "name": "stderr",
     "output_type": "stream",
     "text": [
      "C:\\Users\\Jirik\\Miniconda3\\envs\\lisa3qt5\\lib\\site-packages\\sklearn\\base.py:420: FutureWarning: The default value of multioutput (not exposed in score method) will change from 'variance_weighted' to 'uniform_average' in 0.23 to keep consistent with 'metrics.r2_score'. To specify the default value manually and avoid the warning, please either call 'metrics.r2_score' directly or make a custom scorer with 'metrics.make_scorer' (the built-in scorer 'r2' uses multioutput='uniform_average').\n",
      "  \"multioutput='uniform_average').\", FutureWarning)\n",
      "C:\\Users\\Jirik\\Miniconda3\\envs\\lisa3qt5\\lib\\site-packages\\sklearn\\base.py:420: FutureWarning: The default value of multioutput (not exposed in score method) will change from 'variance_weighted' to 'uniform_average' in 0.23 to keep consistent with 'metrics.r2_score'. To specify the default value manually and avoid the warning, please either call 'metrics.r2_score' directly or make a custom scorer with 'metrics.make_scorer' (the built-in scorer 'r2' uses multioutput='uniform_average').\n",
      "  \"multioutput='uniform_average').\", FutureWarning)\n",
      "C:\\Users\\Jirik\\Miniconda3\\envs\\lisa3qt5\\lib\\site-packages\\sklearn\\base.py:420: FutureWarning: The default value of multioutput (not exposed in score method) will change from 'variance_weighted' to 'uniform_average' in 0.23 to keep consistent with 'metrics.r2_score'. To specify the default value manually and avoid the warning, please either call 'metrics.r2_score' directly or make a custom scorer with 'metrics.make_scorer' (the built-in scorer 'r2' uses multioutput='uniform_average').\n",
      "  \"multioutput='uniform_average').\", FutureWarning)\n",
      "C:\\Users\\Jirik\\Miniconda3\\envs\\lisa3qt5\\lib\\site-packages\\sklearn\\base.py:420: FutureWarning: The default value of multioutput (not exposed in score method) will change from 'variance_weighted' to 'uniform_average' in 0.23 to keep consistent with 'metrics.r2_score'. To specify the default value manually and avoid the warning, please either call 'metrics.r2_score' directly or make a custom scorer with 'metrics.make_scorer' (the built-in scorer 'r2' uses multioutput='uniform_average').\n",
      "  \"multioutput='uniform_average').\", FutureWarning)\n"
     ]
    }
   ],
   "source": [
    "from sklearn.linear_model import RANSACRegressor\n",
    "\n",
    "reg = RANSACRegressor(random_state=0).fit(xyz_src, xyz_dst)"
   ],
   "metadata": {
    "collapsed": false,
    "pycharm": {
     "name": "#%%\n"
    }
   }
  },
  {
   "cell_type": "markdown",
   "source": [
    "# Affine Transform Matrix Construction"
   ],
   "metadata": {
    "collapsed": false,
    "pycharm": {
     "name": "#%% md\n"
    }
   }
  },
  {
   "cell_type": "code",
   "execution_count": 77,
   "outputs": [
    {
     "data": {
      "text/plain": "array([[3.86982041, 4.03938834, 3.90194265]])"
     },
     "execution_count": 77,
     "metadata": {},
     "output_type": "execute_result"
    }
   ],
   "source": [
    "reg.predict([[4, 4, 4]])"
   ],
   "metadata": {
    "collapsed": false,
    "pycharm": {
     "name": "#%%\n"
    }
   }
  },
  {
   "cell_type": "code",
   "execution_count": 78,
   "outputs": [
    {
     "data": {
      "text/plain": "array([[ 0.97871029, -0.00422389, -0.01076445],\n       [ 0.00618197,  0.00157028,  1.00287497],\n       [ 0.00481938,  0.98105952, -0.01402617]])"
     },
     "execution_count": 78,
     "metadata": {},
     "output_type": "execute_result"
    }
   ],
   "source": [
    "reg.estimator_.coef_"
   ],
   "metadata": {
    "collapsed": false,
    "pycharm": {
     "name": "#%%\n"
    }
   }
  },
  {
   "cell_type": "code",
   "execution_count": 79,
   "outputs": [
    {
     "data": {
      "text/plain": "array([ 0.0149326 , -0.00312051,  0.01453172])"
     },
     "execution_count": 79,
     "metadata": {},
     "output_type": "execute_result"
    }
   ],
   "source": [
    "reg.estimator_.intercept_"
   ],
   "metadata": {
    "collapsed": false,
    "pycharm": {
     "name": "#%%\n"
    }
   }
  },
  {
   "cell_type": "code",
   "execution_count": 80,
   "outputs": [
    {
     "data": {
      "text/plain": "array([[ 0.97871029, -0.00422389, -0.01076445,  0.0149326 ],\n       [ 0.00618197,  0.00157028,  1.00287497, -0.00312051],\n       [ 0.00481938,  0.98105952, -0.01402617,  0.01453172],\n       [ 0.        ,  0.        ,  0.        ,  1.        ]])"
     },
     "execution_count": 80,
     "metadata": {},
     "output_type": "execute_result"
    }
   ],
   "source": [
    "tm = np.column_stack([reg.estimator_.coef_, reg.estimator_.intercept_])\n",
    "tm = np.row_stack([tm, [0, 0, 0, 1]])\n",
    "tm"
   ],
   "metadata": {
    "collapsed": false,
    "pycharm": {
     "name": "#%%\n"
    }
   }
  },
  {
   "cell_type": "markdown",
   "source": [
    "# Volumetric data trasformation"
   ],
   "metadata": {
    "collapsed": false,
    "pycharm": {
     "name": "#%% md\n"
    }
   }
  },
  {
   "cell_type": "code",
   "execution_count": 81,
   "outputs": [
    {
     "data": {
      "text/plain": "<Figure size 432x288 with 1 Axes>",
      "image/png": "[encoded data removed]"
     },
     "metadata": {
      "needs_background": "light"
     },
     "output_type": "display_data"
    }
   ],
   "source": [
    "import numpy as np\n",
    "import scipy.ndimage\n",
    "import imma\n",
    "import itertools\n",
    "import sed3\n",
    "import matplotlib.pyplot as plt\n",
    "\n",
    "data3d = np.random.random([20, 21, 32])\n",
    "data3d[:, 5:15, 5:15] += 2\n",
    "data3d[\n",
    "    :,\n",
    "    12:13,\n",
    "    8:12,\n",
    "] -= 2\n",
    "data3d[\n",
    "    :,\n",
    "    8:10,\n",
    "    7:9,\n",
    "] -= 2\n",
    "data3d[\n",
    "    :,\n",
    "    8:10,\n",
    "    11:13,\n",
    "] -= 2\n",
    "# for i, (x,y,z) in enumerate(itertools.product([0,10], [0,10], [0,10])):\n",
    "#     data3d[x:, y:, z:] += i\n",
    "\n",
    "sed3.show_slices(data3d, slice_number=12)\n",
    "plt.show()"
   ],
   "metadata": {
    "collapsed": false,
    "pycharm": {
     "name": "#%%\n"
    }
   }
  },
  {
   "cell_type": "code",
   "execution_count": 82,
   "outputs": [
    {
     "data": {
      "text/plain": "<Figure size 432x288 with 1 Axes>",
      "image/png": "[encoded data removed]"
     },
     "metadata": {
      "needs_background": "light"
     },
     "output_type": "display_data"
    }
   ],
   "source": [
    "# tmatrix = np.array([\n",
    "#     [1, 0, 0, 0],\n",
    "#     [0, 0.5, 0.1, 0],\n",
    "#     [0, 0.1, 0.5, 0],\n",
    "#     [0, 0, 0, 1],\n",
    "# ])\n",
    "tmatrix = tm\n",
    "\n",
    "data3d_2 = scipy.ndimage.affine_transform(data3d, tmatrix, output_shape=[20, 70, 70])\n",
    "sed3.show_slices(data3d_2, slice_number=12)\n",
    "plt.show()"
   ],
   "metadata": {
    "collapsed": false,
    "pycharm": {
     "name": "#%%\n"
    }
   }
  },
  {
   "cell_type": "code",
   "execution_count": 53,
   "outputs": [],
   "source": [],
   "metadata": {
    "collapsed": false,
    "pycharm": {
     "name": "#%%\n"
    }
   }
  },
  {
   "cell_type": "code",
   "execution_count": 53,
   "outputs": [],
   "source": [],
   "metadata": {
    "collapsed": false,
    "pycharm": {
     "name": "#%%\n"
    }
   }
  },
  {
   "cell_type": "code",
   "execution_count": null,
   "outputs": [],
   "source": [],
   "metadata": {
    "collapsed": false,
    "pycharm": {
     "name": "#%%\n"
    }
   }
  }
 ],
 "metadata": {
  "kernelspec": {
   "display_name": "Python 3",
   "language": "python",
   "name": "python3"
  },
  "language_info": {
   "codemirror_mode": {
    "name": "ipython",
    "version": 2
   },
   "file_extension": ".py",
   "mimetype": "text/x-python",
   "name": "python",
   "nbconvert_exporter": "python",
   "pygments_lexer": "ipython2",
   "version": "2.7.6"
  }
 },
 "nbformat": 4,
 "nbformat_minor": 0
}