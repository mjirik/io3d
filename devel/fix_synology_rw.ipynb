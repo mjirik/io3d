{
 "cells": [
  {
   "cell_type": "code",
   "execution_count": 2,
   "id": "initial_id",
   "metadata": {
    "collapsed": true,
    "ExecuteTime": {
     "end_time": "2024-07-15T08:19:44.210697Z",
     "start_time": "2024-07-15T08:19:44.186685Z"
    }
   },
   "outputs": [],
   "source": [
    "from pathlib import Path\n",
    "import tqdm"
   ]
  },
  {
   "cell_type": "code",
   "outputs": [],
   "source": [
    "base_path = Path(r\"H:\\biomedical\\orig\\pilsen_pigs_dicom\\transplantation\")\n",
    "lst = list(base_path.rglob(\"*\"))"
   ],
   "metadata": {
    "collapsed": false,
    "ExecuteTime": {
     "end_time": "2024-07-15T09:32:28.141553Z",
     "start_time": "2024-07-15T09:32:27.367347Z"
    }
   },
   "id": "811b9211003680f7",
   "execution_count": 34
  },
  {
   "cell_type": "code",
   "outputs": [
    {
     "name": "stderr",
     "output_type": "stream",
     "text": [
      "100%|██████████| 55147/55147 [01:09<00:00, 790.82it/s] \n"
     ]
    }
   ],
   "source": [
    "\n",
    "for fn in tqdm.tqdm(lst):\n",
    "    if fn.is_file():\n",
    "        \n",
    "        \n",
    "        new_path = fn.parent.parent / (fn.parent.name + \"__nw__\") / fn.name\n",
    "        new_path.parent.mkdir(exist_ok=True)\n",
    "        # move file to new path\n",
    "        fn.rename(new_path)\n",
    "        "
   ],
   "metadata": {
    "collapsed": false,
    "ExecuteTime": {
     "end_time": "2024-07-15T09:33:38.493109Z",
     "start_time": "2024-07-15T09:32:28.746112Z"
    }
   },
   "id": "ed3954a2d8436b96",
   "execution_count": 35
  },
  {
   "cell_type": "code",
   "outputs": [
    {
     "name": "stderr",
     "output_type": "stream",
     "text": [
      "100%|██████████| 7506/7506 [00:04<00:00, 1520.05it/s] \n"
     ]
    }
   ],
   "source": [
    "# revert\n",
    "# lst = list(base_path.rglob(\"*\"))\n",
    "# \n",
    "# for fn in tqdm.tqdm(lst):\n",
    "#     if fn.is_file():\n",
    "#         if fn.parent.name.endswith(\"__nw__\"):\n",
    "#             new_path = fn.parent.parent / fn.parent.name[:-6] / fn.name\n",
    "#             fn.rename(new_path)\n",
    "            \n",
    "\n"
   ],
   "metadata": {
    "collapsed": false,
    "ExecuteTime": {
     "end_time": "2024-07-15T08:43:54.292519Z",
     "start_time": "2024-07-15T08:43:49.238508Z"
    }
   },
   "id": "b9a5b2981723c70a",
   "execution_count": 10
  },
  {
   "cell_type": "code",
   "outputs": [
    {
     "name": "stderr",
     "output_type": "stream",
     "text": [
      "100%|██████████| 23/23 [00:00<00:00, 2298.96it/s]\n"
     ]
    }
   ],
   "source": [
    "\n",
    "# lst = list(base_path.rglob(\"*__nw__\"))\n",
    "# \n",
    "# for fn in tqdm.tqdm(lst):\n",
    "#     if fn.is_dir() and not list(fn.glob(\"*\")):\n",
    "#         fn.rmdir()"
   ],
   "metadata": {
    "collapsed": false,
    "ExecuteTime": {
     "end_time": "2024-07-15T08:45:17.113970Z",
     "start_time": "2024-07-15T08:45:17.022985Z"
    }
   },
   "id": "a81a50d7a390fa2a",
   "execution_count": 11
  },
  {
   "cell_type": "code",
   "outputs": [],
   "source": [
    "\n"
   ],
   "metadata": {
    "collapsed": false,
    "ExecuteTime": {
     "end_time": "2024-07-15T09:35:54.841574Z",
     "start_time": "2024-07-15T09:35:54.433499Z"
    }
   },
   "id": "dc4344da9bdb1ae0",
   "execution_count": 37
  },
  {
   "cell_type": "code",
   "outputs": [],
   "source": [],
   "metadata": {
    "collapsed": false
   },
   "id": "95e899cba368af09"
  },
  {
   "cell_type": "code",
   "outputs": [
    {
     "name": "stderr",
     "output_type": "stream",
     "text": [
      "100%|██████████| 62/62 [00:00<00:00, 366.78it/s]\n"
     ]
    }
   ],
   "source": [
    "# remove all directories that ends with __nw__ and are empty\n",
    "\n",
    "lst = list(base_path.rglob(\"*__nw__\"))\n",
    "# order lst by length of path, the longest first\n",
    "lst.sort(key=lambda x: len(str(x)), reverse=True)\n",
    "\n",
    "for fn in tqdm.tqdm(lst):\n",
    "    if fn.is_dir():\n",
    "        if fn.name.endswith(\"__nw__\"):\n",
    "            \n",
    "            orig_name = fn.name[:-6]\n",
    "            orig_path = fn.parent / orig_name\n",
    "            # if the orig_path exists and it is empty, delete it\n",
    "            if orig_path.exists():\n",
    "                if not list(orig_path.glob(\"*\")):\n",
    "                    orig_path.rmdir()\n",
    "                    fn.rename(orig_path)\n",
    "                else:\n",
    "                    print(f\"orig_path {orig_path} not empty\")\n",
    "                # move everyting from orig path to new path\n",
    "                # import shutil\n",
    "                # shutil.move(orig_path, fn)\n",
    "                # \n",
    "                # \n",
    "                # for f in fn.glob(\"*\"):\n",
    "                #     \n",
    "                #     and not list(orig_path.glob(\"*\"))):\n",
    "                \n",
    "            # rename new path to original path"
   ],
   "metadata": {
    "collapsed": false,
    "ExecuteTime": {
     "end_time": "2024-07-15T09:36:05.029331Z",
     "start_time": "2024-07-15T09:36:04.440209Z"
    }
   },
   "id": "7bce7ae25a5d7a65",
   "execution_count": 38
  },
  {
   "cell_type": "code",
   "outputs": [],
   "source": [
    "\n",
    "\n",
    "\n",
    "\n"
   ],
   "metadata": {
    "collapsed": false,
    "ExecuteTime": {
     "end_time": "2024-07-15T08:57:30.979109Z",
     "start_time": "2024-07-15T08:57:30.965110Z"
    }
   },
   "id": "7ec98db79c7ccbaf",
   "execution_count": 31
  },
  {
   "cell_type": "code",
   "outputs": [
    {
     "name": "stdout",
     "output_type": "stream",
     "text": [
      "H:\\\n",
      "H:\\biomedical\n",
      "H:\\biomedical\\orig\n",
      "H:\\biomedical\\orig\\pilsen_pigs_raw\n",
      "H:\\biomedical\\orig\\pilsen_pigs_raw\\transplantation\n"
     ]
    }
   ],
   "source": [
    "checked_path = list(base_path.rglob(\"*\"))[0]\n",
    "\n",
    "new_path = checked_path.parts[0]\n",
    "for i, p in enumerate(checked_path.parts[1:]):\n",
    "    orig_partial = Path(*checked_path.parts[:i+1])\n",
    "    print(orig_partial)\n",
    "    # is subdir of \n",
    "    # new_path = new_path / (p + \"__nw__\")"
   ],
   "metadata": {
    "collapsed": false,
    "ExecuteTime": {
     "end_time": "2024-07-15T08:57:32.900820Z",
     "start_time": "2024-07-15T08:57:32.793802Z"
    }
   },
   "id": "8cb1de4aaead402c",
   "execution_count": 32
  },
  {
   "cell_type": "code",
   "outputs": [],
   "source": [
    "kkkkk"
   ],
   "metadata": {
    "collapsed": false
   },
   "id": "aae11577c2be5d82"
  }
 ],
 "metadata": {
  "kernelspec": {
   "display_name": "Python 3",
   "language": "python",
   "name": "python3"
  },
  "language_info": {
   "codemirror_mode": {
    "name": "ipython",
    "version": 2
   },
   "file_extension": ".py",
   "mimetype": "text/x-python",
   "name": "python",
   "nbconvert_exporter": "python",
   "pygments_lexer": "ipython2",
   "version": "2.7.6"
  }
 },
 "nbformat": 4,
 "nbformat_minor": 5
}
