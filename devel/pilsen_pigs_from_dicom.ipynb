{
 "cells": [
  {
   "metadata": {},
   "cell_type": "markdown",
   "source": "# Load all the pig dicom data and convert them to nifti",
   "id": "894ea1f31ad36796"
  },
  {
   "metadata": {
    "ExecuteTime": {
     "end_time": "2025-01-08T09:55:36.474511Z",
     "start_time": "2025-01-08T09:55:34.461213Z"
    }
   },
   "cell_type": "code",
   "source": [
    "%load_ext autoreload\n",
    "%autoreload 2"
   ],
   "id": "9b38245d338462cb",
   "outputs": [
    {
     "name": "stdout",
     "output_type": "stream",
     "text": [
      "The autoreload extension is already loaded. To reload it, use:\n",
      "  %reload_ext autoreload\n"
     ]
    }
   ],
   "execution_count": 3
  },
  {
   "metadata": {
    "ExecuteTime": {
     "end_time": "2025-01-08T09:55:36.677076Z",
     "start_time": "2025-01-08T09:55:36.547360Z"
    }
   },
   "cell_type": "code",
   "source": [
    "import io3d\n",
    "from pathlib import Path\n",
    "from loguru import logger\n",
    "from pprint import pprint, pformat\n",
    "import pandas as pd\n",
    "import re\n",
    "import numpy as np\n",
    "import json\n",
    "import tqdm\n",
    "\n",
    "logger.enable(\"io3d\")\n",
    "force = True\n",
    "# force = False\n",
    "\n",
    "recreate_meta = False\n",
    "recreate_meta = True\n",
    "base_path = Path(r\"H:\\biomedical\\orig\\pilsen_pigs_all\\transplantation_dicom\")\n",
    "base_path = Path(r\"~/Downloads/_temp/\").expanduser()  # used when the zip files are downloaded manually\n",
    "raw_path = Path(r\"H:\\biomedical\\orig\\pilsen_pigs_all\\transplantation_nii_transposed\")\n",
    "# transposed_path = Path(r\"H:\\biomedical\\orig\\pilsen_pigs_all\\transplantation_nii_transposed\")\n",
    "output_path = Path(r\"H:\\biomedical\\orig\\pilsen_pigs\")\n",
    "\n",
    "assert base_path.exists()"
   ],
   "id": "a4c3a66ba976b797",
   "outputs": [],
   "execution_count": 4
  },
  {
   "metadata": {},
   "cell_type": "markdown",
   "source": "# Convert all to nii",
   "id": "4412ef75511a347e"
  },
  {
   "metadata": {
    "ExecuteTime": {
     "end_time": "2025-01-08T09:55:36.993254Z",
     "start_time": "2025-01-08T09:55:36.979615Z"
    }
   },
   "cell_type": "code",
   "source": "\n",
   "id": "95e33f95037276d6",
   "outputs": [],
   "execution_count": 4
  },
  {
   "metadata": {
    "ExecuteTime": {
     "end_time": "2025-01-08T09:55:37.103217Z",
     "start_time": "2025-01-08T09:55:37.011273Z"
    }
   },
   "cell_type": "code",
   "source": [
    "\n",
    "def touch_file(pth:Path):\n",
    "    try:\n",
    "        with open(pth, \"rb\") as f:\n",
    "            # read just some part of the file\n",
    "            f.read(1)\n",
    "    except Exception as e:\n",
    "        import traceback\n",
    "        print(f\"Error in touching file {pth}: {e}\")\n",
    "        traceback.print_exc()"
   ],
   "id": "45829bc43eb70735",
   "outputs": [],
   "execution_count": 5
  },
  {
   "metadata": {
    "ExecuteTime": {
     "end_time": "2025-01-08T09:55:37.227689Z",
     "start_time": "2025-01-08T09:55:37.121334Z"
    }
   },
   "cell_type": "code",
   "source": [
    "from typing import Union\n",
    "\n",
    "def get_projection(\n",
    "        datap:io3d.image.DataPlus, axis:Union[int,str], method:str=\"max\"\n",
    "):\n",
    "    \"\"\"Get projection of 3D data to 2D.\"\"\"\n",
    "    if isinstance(axis, str):\n",
    "        dict_axis = {\"axial\": 0, \"coronal\": 1, \"sagittal\": 2}\n",
    "        if axis in dict_axis:\n",
    "            axis = dict_axis[axis]\n",
    "        else:\n",
    "            raise ValueError(f\"Unknown axis {axis}, use one of {list(dict_axis.keys())} or 0, 1, 2\")\n",
    "\n",
    "    data3d = datap.data3d\n",
    "    axcodes = datap.orientation_axcodes\n",
    "    data3d = io3d.image.transform_orientation(data3d, axcodes, \"SPL\")\n",
    "    if method == \"max\":\n",
    "        data2d = data3d.max(axis=axis)\n",
    "    elif method == \"mean\":\n",
    "        data2d = data3d.mean(axis=axis)\n",
    "    else:\n",
    "        raise ValueError(f\"Unknown method {method}\")\n",
    "    return data2d\n",
    "\n"
   ],
   "id": "9a831c69193921ff",
   "outputs": [],
   "execution_count": 6
  },
  {
   "metadata": {
    "ExecuteTime": {
     "end_time": "2025-01-08T09:55:37.335906Z",
     "start_time": "2025-01-08T09:55:37.243903Z"
    }
   },
   "cell_type": "code",
   "source": [
    "# data2d = get_projection(datap, 0, \"max\")\n",
    "# from matplotlib import pyplot as plt\n",
    "# plt.style.use('classic')\n",
    "# plt.imshow(data2d, cmap=\"gray_r\")\n",
    "# plt.colorbar()\n",
    "# plt.style.available\n"
   ],
   "id": "7fd14c77d6a14097",
   "outputs": [],
   "execution_count": 7
  },
  {
   "metadata": {
    "ExecuteTime": {
     "end_time": "2025-01-08T10:00:54.509739Z",
     "start_time": "2025-01-08T09:57:42.749292Z"
    }
   },
   "cell_type": "code",
   "source": [
    "# fnlist = list(base_path.glob(\"*Tx0*D_V*\"))\n",
    "fnlist = sorted(list(base_path.glob(\"*Tx0*D_A*\")) + list(base_path.glob(\"*Tx0*D_V*\")))[::-1]\n",
    "\n",
    "print(f\"Number of files: {len(fnlist)}\")\n",
    "from joblib import Parallel, delayed\n",
    "import tqdm\n",
    "#\n",
    "for fn in tqdm.tqdm(fnlist):\n",
    "\n",
    "    # take all files in parallel in the fn directory and open them and close, to intiate cloud syncronization\n",
    "    # import Parallel, delayed\n",
    "\n",
    "    # logger.info(fn)\n",
    "    fn_in = fn\n",
    "    # fn_out = raw_path / fn.name / f\"{fn.name}.mhd\"\n",
    "    fn_out = raw_path / fn.name / f\"{fn.name}.nii.gz\"\n",
    "    fn_out.parent.mkdir(parents=True, exist_ok=True)\n",
    "    fn_meta = fn_out.parent / \"meta.json\"\n",
    "    if force or (not fn_out.exists()):\n",
    "\n",
    "        try:\n",
    "            tqdm.tqdm.write(f\"Reading {fn_in} and writing {fn_out}\")\n",
    "            fn_fns = sorted(list(fn.glob(\"*\")))\n",
    "            tqdm.tqdm.write(f\"Number of files in the directory: {len(fn_fns)}\")\n",
    "            # Parallel(n_jobs=2)(delayed(touch_file)(fn) for fn in tqdm.tqdm(fn_fns, desc=\"touching files\"))\n",
    "\n",
    "            axcodes = \"IPL\"\n",
    "            # logger.debug(f\"Reading {fn_in} with axcodes={axcodes}\")\n",
    "            datap = io3d.read(fn_in, series_number=\"first\", orientation_axcodes=axcodes)\n",
    "            # logger.debug(datap.keys())\n",
    "            io3d.write(datap, fn_out)\n",
    "            # logger.debug(\"writing done, creating projections\")\n",
    "            for axis in [\"axial\", \"coronal\", \"sagittal\"]:\n",
    "                data2d = get_projection(datap, axis, \"max\")\n",
    "                import skimage.io\n",
    "                # change intensity to range 0..1\n",
    "\n",
    "                data2d = (255 * (data2d - np.min(data2d)).astype(float) / (np.max(data2d) - np.min(data2d))).astype(np.uint8)\n",
    "                skimage.io.imsave(fn_out.parent / f\"{fn_out.stem}_{axis}.jpg\", data2d)\n",
    "            # logger.debug(\"projections done\")\n",
    "        except Exception as e:\n",
    "            import traceback\n",
    "            logger.error(f\"Error in reading {fn_in}: {e}\")\n",
    "            traceback.print_exc()\n",
    "            logger.debug(f\"shape={datap.data3d.shape}, {datap.orientation_axcodes}\")\n",
    "        # with open(fn_meta, \"w\") as f:\n",
    "        #     json.dump(dict(row), f)\n",
    "\n",
    "\n",
    "\n"
   ],
   "id": "6b87a9e1ec20b57c",
   "outputs": [
    {
     "name": "stdout",
     "output_type": "stream",
     "text": [
      "Number of files: 14\n"
     ]
    },
    {
     "name": "stderr",
     "output_type": "stream",
     "text": [
      "  0%|          | 0/14 [00:00<?, ?it/s]"
     ]
    },
    {
     "name": "stdout",
     "output_type": "stream",
     "text": [
      "Reading C:\\Users\\Jirik\\Downloads\\_temp\\Tx030D_Ven and writing H:\\biomedical\\orig\\pilsen_pigs_all\\transplantation_nii_transposed\\Tx030D_Ven\\Tx030D_Ven.nii.gz\n",
      "Number of files in the directory: 1066\n"
     ]
    },
    {
     "name": "stderr",
     "output_type": "stream",
     "text": [
      "  7%|▋         | 1/14 [00:22<04:48, 22.20s/it]"
     ]
    },
    {
     "name": "stdout",
     "output_type": "stream",
     "text": [
      "Reading C:\\Users\\Jirik\\Downloads\\_temp\\Tx030D_Art and writing H:\\biomedical\\orig\\pilsen_pigs_all\\transplantation_nii_transposed\\Tx030D_Art\\Tx030D_Art.nii.gz\n",
      "Number of files in the directory: 678\n"
     ]
    },
    {
     "name": "stderr",
     "output_type": "stream",
     "text": [
      " 14%|█▍        | 2/14 [00:32<03:00, 15.06s/it]"
     ]
    },
    {
     "name": "stdout",
     "output_type": "stream",
     "text": [
      "Reading C:\\Users\\Jirik\\Downloads\\_temp\\Tx029D_Ven and writing H:\\biomedical\\orig\\pilsen_pigs_all\\transplantation_nii_transposed\\Tx029D_Ven\\Tx029D_Ven.nii.gz\n",
      "Number of files in the directory: 921\n"
     ]
    },
    {
     "name": "stderr",
     "output_type": "stream",
     "text": [
      " 21%|██▏       | 3/14 [00:47<02:44, 14.95s/it]"
     ]
    },
    {
     "name": "stdout",
     "output_type": "stream",
     "text": [
      "Reading C:\\Users\\Jirik\\Downloads\\_temp\\Tx029D_Art and writing H:\\biomedical\\orig\\pilsen_pigs_all\\transplantation_nii_transposed\\Tx029D_Art\\Tx029D_Art.nii.gz\n",
      "Number of files in the directory: 656\n"
     ]
    },
    {
     "name": "stderr",
     "output_type": "stream",
     "text": [
      " 29%|██▊       | 4/14 [00:58<02:13, 13.34s/it]"
     ]
    },
    {
     "name": "stdout",
     "output_type": "stream",
     "text": [
      "Reading C:\\Users\\Jirik\\Downloads\\_temp\\Tx028D_Ven and writing H:\\biomedical\\orig\\pilsen_pigs_all\\transplantation_nii_transposed\\Tx028D_Ven\\Tx028D_Ven.nii.gz\n",
      "Number of files in the directory: 1020\n"
     ]
    },
    {
     "name": "stderr",
     "output_type": "stream",
     "text": [
      " 36%|███▌      | 5/14 [01:14<02:10, 14.51s/it]"
     ]
    },
    {
     "name": "stdout",
     "output_type": "stream",
     "text": [
      "Reading C:\\Users\\Jirik\\Downloads\\_temp\\Tx028D_Art and writing H:\\biomedical\\orig\\pilsen_pigs_all\\transplantation_nii_transposed\\Tx028D_Art\\Tx028D_Art.nii.gz\n",
      "Number of files in the directory: 680\n"
     ]
    },
    {
     "name": "stderr",
     "output_type": "stream",
     "text": [
      " 43%|████▎     | 6/14 [01:25<01:45, 13.24s/it]"
     ]
    },
    {
     "name": "stdout",
     "output_type": "stream",
     "text": [
      "Reading C:\\Users\\Jirik\\Downloads\\_temp\\Tx027D_Ven and writing H:\\biomedical\\orig\\pilsen_pigs_all\\transplantation_nii_transposed\\Tx027D_Ven\\Tx027D_Ven.nii.gz\n",
      "Number of files in the directory: 990\n"
     ]
    },
    {
     "name": "stderr",
     "output_type": "stream",
     "text": [
      " 50%|█████     | 7/14 [01:40<01:37, 13.98s/it]"
     ]
    },
    {
     "name": "stdout",
     "output_type": "stream",
     "text": [
      "Reading C:\\Users\\Jirik\\Downloads\\_temp\\Tx027D_Art and writing H:\\biomedical\\orig\\pilsen_pigs_all\\transplantation_nii_transposed\\Tx027D_Art\\Tx027D_Art.nii.gz\n",
      "Number of files in the directory: 711\n"
     ]
    },
    {
     "name": "stderr",
     "output_type": "stream",
     "text": [
      " 57%|█████▋    | 8/14 [01:51<01:18, 13.04s/it]"
     ]
    },
    {
     "name": "stdout",
     "output_type": "stream",
     "text": [
      "Reading C:\\Users\\Jirik\\Downloads\\_temp\\Tx026D_Ven and writing H:\\biomedical\\orig\\pilsen_pigs_all\\transplantation_nii_transposed\\Tx026D_Ven\\Tx026D_Ven.nii.gz\n",
      "Number of files in the directory: 1124\n"
     ]
    },
    {
     "name": "stderr",
     "output_type": "stream",
     "text": [
      " 64%|██████▍   | 9/14 [02:11<01:15, 15.04s/it]"
     ]
    },
    {
     "name": "stdout",
     "output_type": "stream",
     "text": [
      "Reading C:\\Users\\Jirik\\Downloads\\_temp\\Tx026D_Art and writing H:\\biomedical\\orig\\pilsen_pigs_all\\transplantation_nii_transposed\\Tx026D_Art\\Tx026D_Art.nii.gz\n",
      "Number of files in the directory: 711\n"
     ]
    },
    {
     "name": "stderr",
     "output_type": "stream",
     "text": [
      " 71%|███████▏  | 10/14 [02:23<00:57, 14.27s/it]"
     ]
    },
    {
     "name": "stdout",
     "output_type": "stream",
     "text": [
      "Reading C:\\Users\\Jirik\\Downloads\\_temp\\Tx025D_Ven and writing H:\\biomedical\\orig\\pilsen_pigs_all\\transplantation_nii_transposed\\Tx025D_Ven\\Tx025D_Ven.nii.gz\n",
      "Number of files in the directory: 678\n"
     ]
    },
    {
     "name": "stderr",
     "output_type": "stream",
     "text": [
      " 79%|███████▊  | 11/14 [02:35<00:39, 13.29s/it]"
     ]
    },
    {
     "name": "stdout",
     "output_type": "stream",
     "text": [
      "Reading C:\\Users\\Jirik\\Downloads\\_temp\\Tx025D_Art and writing H:\\biomedical\\orig\\pilsen_pigs_all\\transplantation_nii_transposed\\Tx025D_Art\\Tx025D_Art.nii.gz\n",
      "Number of files in the directory: 883\n"
     ]
    },
    {
     "name": "stderr",
     "output_type": "stream",
     "text": [
      " 86%|████████▌ | 12/14 [02:50<00:27, 13.80s/it]"
     ]
    },
    {
     "name": "stdout",
     "output_type": "stream",
     "text": [
      "Reading C:\\Users\\Jirik\\Downloads\\_temp\\Tx024D_Ven and writing H:\\biomedical\\orig\\pilsen_pigs_all\\transplantation_nii_transposed\\Tx024D_Ven\\Tx024D_Ven.nii.gz\n",
      "Number of files in the directory: 1067\n"
     ]
    },
    {
     "name": "stderr",
     "output_type": "stream",
     "text": [
      " 93%|█████████▎| 13/14 [03:06<00:14, 14.55s/it]"
     ]
    },
    {
     "name": "stdout",
     "output_type": "stream",
     "text": [
      "Reading C:\\Users\\Jirik\\Downloads\\_temp\\Tx024D_Art and writing H:\\biomedical\\orig\\pilsen_pigs_all\\transplantation_nii_transposed\\Tx024D_Art\\Tx024D_Art.nii.gz\n",
      "Number of files in the directory: 340\n"
     ]
    },
    {
     "name": "stderr",
     "output_type": "stream",
     "text": [
      "100%|██████████| 14/14 [03:11<00:00, 13.67s/it]\n"
     ]
    }
   ],
   "execution_count": 9
  },
  {
   "metadata": {},
   "cell_type": "code",
   "outputs": [],
   "execution_count": null,
   "source": [
    "# import tqdm\n",
    "# import time\n",
    "# for i in tqdm.tqdm(range(100)):\n",
    "#     #wait 0.1s\n",
    "#     time.sleep(0.1)\n",
    "    "
   ],
   "id": "4f42538a7c47a91f"
  },
  {
   "metadata": {},
   "cell_type": "code",
   "outputs": [],
   "execution_count": null,
   "source": [
    "metafn = base_path / \"meta.csv\"\n",
    "\n",
    "if metafn.exists():\n",
    "    df = pd.read_csv(metafn)\n",
    "else:\n",
    "    df = pd.DataFrame()\n"
   ],
   "id": "4127361932fad921"
  },
  {
   "metadata": {},
   "cell_type": "code",
   "outputs": [],
   "execution_count": null,
   "source": [
    "def create_meta(base_path, metafn):\n",
    "    data = {\n",
    "        \"dirname\": [],\n",
    "        \"dataset_type\": [],\n",
    "        \"id\": [],\n",
    "    }\n",
    "    i_train = 0\n",
    "    i_test = 0\n",
    "    i_val = 0\n",
    "    fnlist = base_path.glob(\"*Tx0*D_V*\")\n",
    "    logger.info(pformat(list(map(str, list(fnlist)))))\n",
    "    fnlist = base_path.glob(\"*Tx0*D_V*\")\n",
    "    for fn in fnlist:\n",
    "        ia = int(re.findall(r\"([0-9]+)\", fn.name)[0])\n",
    "        ii = None\n",
    "        tp = None\n",
    "        if (ia % 4) == 0:\n",
    "            i_test += 1\n",
    "            ii = i_test\n",
    "            tp = \"test\"\n",
    "        elif (ia % 2) == 0:\n",
    "            i_val += 1\n",
    "            ii = i_val\n",
    "            tp = \"val\"\n",
    "        else:\n",
    "            i_train += 1\n",
    "            ii = i_train\n",
    "            tp = \"train\"\n",
    "\n",
    "        data[\"dirname\"].append(fn.name)\n",
    "        data[\"dataset_type\"].append(tp)\n",
    "        data[\"id\"].append(ii)\n",
    "\n",
    "    df = pd.DataFrame(data)\n",
    "    df.to_csv(metafn, index=None)\n",
    "\n"
   ],
   "id": "5563eee585a4ff6"
  },
  {
   "metadata": {},
   "cell_type": "code",
   "outputs": [],
   "execution_count": null,
   "source": [
    "if recreate_meta:\n",
    "    create_meta(base_path, metafn)\n"
   ],
   "id": "2b92dab79ce8a067"
  },
  {
   "metadata": {},
   "cell_type": "code",
   "outputs": [],
   "execution_count": null,
   "source": [
    "\n",
    "logger.debug(metafn.exists())\n",
    "df = pd.read_csv(metafn)\n",
    "print(df)\n"
   ],
   "id": "da2090f1b3f358aa"
  },
  {
   "metadata": {},
   "cell_type": "code",
   "outputs": [],
   "execution_count": null,
   "source": [
    "# fnlist = base_path.glob(\"*debug*\")\n",
    "# fnlist = base_path.glob(\"*Tx041D_V*\")\n",
    "\n",
    "\n",
    "# for i, row in tqdm.tqdm(df.iterrows()):\n",
    "#     fn_in = base_path / row[\"dirname\"]\n",
    "#     fn_out = (\n",
    "#             output_path\n",
    "#             / row[\"dataset_type\"]\n",
    "#             / f\"PP_{row['id']:04}\"\n",
    "#             / \"PATIENT_DICOM\"\n",
    "#             / f\"PP_{row['id']:04}.mhd\"\n",
    "#     )\n",
    "#     fn_meta = fn_out.parent / \"meta.json\"\n",
    "#     logger.debug(fn_in)\n",
    "#     logger.debug(fn_out)\n",
    "#\n",
    "#     fn_out.parent.mkdir(parents=True, exist_ok=True)\n",
    "#     if (\n",
    "#             not fn_meta.exists()\n",
    "#     ):  # we do not need to read the data again if everything is done. We are checkin:w\n",
    "#\n",
    "#         tqdm.tqdm.write(f\"Reading {fn_in} and writing {fn_out}\")\n",
    "#         datap = io3d.read(fn_in)\n",
    "#         io3d.write(datap, fn_out)\n",
    "#         with open(fn_meta, \"w\") as f:\n",
    "#             json.dump(dict(row), f)\n"
   ],
   "id": "9d544b5786655740"
  },
  {
   "metadata": {},
   "cell_type": "code",
   "outputs": [],
   "execution_count": null,
   "source": "",
   "id": "92447c2ea93d4b0d"
  }
 ],
 "metadata": {
  "kernelspec": {
   "display_name": "Python 3",
   "language": "python",
   "name": "python3"
  },
  "language_info": {
   "codemirror_mode": {
    "name": "ipython",
    "version": 2
   },
   "file_extension": ".py",
   "mimetype": "text/x-python",
   "name": "python",
   "nbconvert_exporter": "python",
   "pygments_lexer": "ipython2",
   "version": "2.7.6"
  }
 },
 "nbformat": 4,
 "nbformat_minor": 5
}
