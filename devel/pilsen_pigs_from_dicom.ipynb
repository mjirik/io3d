{
 "cells": [
  {
   "metadata": {
    "ExecuteTime": {
     "end_time": "2024-08-06T13:26:47.765172Z",
     "start_time": "2024-08-06T13:26:47.286897Z"
    }
   },
   "cell_type": "code",
   "source": [
    "%load_ext autoreload\n",
    "%autoreload 2"
   ],
   "id": "58304921dc155d4a",
   "outputs": [
    {
     "name": "stdout",
     "output_type": "stream",
     "text": [
      "The autoreload extension is already loaded. To reload it, use:\n",
      "  %reload_ext autoreload\n"
     ]
    }
   ],
   "execution_count": 16
  },
  {
   "metadata": {
    "ExecuteTime": {
     "end_time": "2024-08-06T13:26:47.844186Z",
     "start_time": "2024-08-06T13:26:47.767177Z"
    }
   },
   "cell_type": "code",
   "source": [
    "import io3d\n",
    "from pathlib import Path\n",
    "from loguru import logger\n",
    "from pprint import pprint, pformat\n",
    "import pandas as pd\n",
    "import re\n",
    "import json\n",
    "import tqdm\n",
    "\n",
    "logger.enable(\"io3d\")\n",
    "# force = True\n",
    "force = False\n",
    "\n",
    "recreate_meta = False\n",
    "recreate_meta = True\n",
    "base_path = Path(r\"H:\\biomedical\\orig\\pilsen_pigs_all\\transplantation_dicom\")\n",
    "raw_path = Path(r\"H:\\biomedical\\orig\\pilsen_pigs_all\\transplantation_nii\")\n",
    "output_path = Path(r\"H:\\biomedical\\orig\\pilsen_pigs\")\n"
   ],
   "id": "initial_id",
   "outputs": [],
   "execution_count": 17
  },
  {
   "cell_type": "markdown",
   "source": [
    "# Convert all to raw"
   ],
   "metadata": {
    "collapsed": false
   },
   "id": "8b1c0690d365a07a"
  },
  {
   "cell_type": "code",
   "source": [
    "# fnlist = list(base_path.glob(\"*Tx0*D_V*\"))\n",
    "fnlist = list(base_path.glob(\"*Tx0*D_A*\")) + list(base_path.glob(\"*Tx0*D_V*\"))\n",
    "# \n",
    "for fn in tqdm.tqdm(fnlist):\n",
    "    fn_in = fn\n",
    "    fn_out = raw_path / fn.name / f\"{fn.name}.mhd\"\n",
    "    fn_out = raw_path / fn.name / f\"{fn.name}.nii.gz\"\n",
    "    fn_out.parent.mkdir(parents=True, exist_ok=True)\n",
    "    fn_meta = fn_out.parent / \"meta.json\"\n",
    "    if force or (not fn_out.exists()):\n",
    "        \n",
    "        tqdm.tqdm.write(f\"Reading {fn_in} and writing {fn_out}\")\n",
    "        io3d.datareader\n",
    "        datap = io3d.read(fn_in, series_number=\"first\")\n",
    "        # print(datap.keys())\n",
    "        io3d.write(datap, fn_out)\n",
    "        # with open(fn_meta, \"w\") as f:\n",
    "        #     json.dump(dict(row), f)\n",
    "\n",
    "\n",
    "\n"
   ],
   "metadata": {
    "collapsed": false,
    "ExecuteTime": {
     "end_time": "2024-08-06T13:40:52.789278Z",
     "start_time": "2024-08-06T13:26:47.845185Z"
    }
   },
   "id": "9fff6d7bbf09a6b3",
   "outputs": [
    {
     "name": "stderr",
     "output_type": "stream",
     "text": [
      "  0%|          | 0/56 [00:00<?, ?it/s]"
     ]
    },
    {
     "name": "stdout",
     "output_type": "stream",
     "text": [
      "Reading H:\\biomedical\\orig\\pilsen_pigs_all\\transplantation_dicom\\Tx017D_Art and writing H:\\biomedical\\orig\\pilsen_pigs_all\\transplantation_nii\\Tx017D_Art\\Tx017D_Art.nii.gz\n"
     ]
    },
    {
     "name": "stderr",
     "output_type": "stream",
     "text": [
      "2024-08-06 15:26:48.042 | INFO     | io3d.misc:read_pkl_and_pklz:117 - Input gzip exception: Not a gzipped file (b'\\x80\\x04')\n",
      "2024-08-06 15:27:11.042 | WARNING  | io3d.datareader:Get3DData:205 - orientation_axcodes default value will be changed in the furture to 'LPS'\n",
      "  2%|▏         | 1/56 [00:37<34:15, 37.38s/it]2024-08-06 15:27:25.359 | INFO     | io3d.misc:read_pkl_and_pklz:117 - Input gzip exception: Not a gzipped file (b'\\x80\\x04')\n"
     ]
    },
    {
     "name": "stdout",
     "output_type": "stream",
     "text": [
      "Reading H:\\biomedical\\orig\\pilsen_pigs_all\\transplantation_dicom\\Tx018D_Art and writing H:\\biomedical\\orig\\pilsen_pigs_all\\transplantation_nii\\Tx018D_Art\\Tx018D_Art.nii.gz\n"
     ]
    },
    {
     "name": "stderr",
     "output_type": "stream",
     "text": [
      "2024-08-06 15:27:26.843 | WARNING  | io3d.dcmreaddata:get_metaData:550 - Depth of slices is not the same in beginning and end of the sequence\n",
      "2024-08-06 15:27:26.851 | WARNING  | io3d.datareader:Get3DData:205 - orientation_axcodes default value will be changed in the furture to 'LPS'\n",
      "  4%|▎         | 2/56 [00:41<16:13, 18.03s/it]2024-08-06 15:27:29.834 | INFO     | io3d.misc:read_pkl_and_pklz:117 - Input gzip exception: Not a gzipped file (b'\\x80\\x04')\n"
     ]
    },
    {
     "name": "stdout",
     "output_type": "stream",
     "text": [
      "Reading H:\\biomedical\\orig\\pilsen_pigs_all\\transplantation_dicom\\Tx024D_Art and writing H:\\biomedical\\orig\\pilsen_pigs_all\\transplantation_nii\\Tx024D_Art\\Tx024D_Art.nii.gz\n"
     ]
    },
    {
     "name": "stderr",
     "output_type": "stream",
     "text": [
      "2024-08-06 15:27:32.948 | WARNING  | io3d.dcmreaddata:get_metaData:550 - Depth of slices is not the same in beginning and end of the sequence\n",
      "2024-08-06 15:27:32.957 | WARNING  | io3d.datareader:Get3DData:205 - orientation_axcodes default value will be changed in the furture to 'LPS'\n",
      "  5%|▌         | 3/56 [00:49<11:41, 13.24s/it]2024-08-06 15:27:37.427 | INFO     | io3d.misc:read_pkl_and_pklz:117 - Input gzip exception: Not a gzipped file (b'\\x80\\x04')\n"
     ]
    },
    {
     "name": "stdout",
     "output_type": "stream",
     "text": [
      "Reading H:\\biomedical\\orig\\pilsen_pigs_all\\transplantation_dicom\\Tx025D_Art and writing H:\\biomedical\\orig\\pilsen_pigs_all\\transplantation_nii\\Tx025D_Art\\Tx025D_Art.nii.gz\n"
     ]
    },
    {
     "name": "stderr",
     "output_type": "stream",
     "text": [
      "2024-08-06 15:27:43.076 | WARNING  | io3d.dcmreaddata:get_metaData:550 - Depth of slices is not the same in beginning and end of the sequence\n",
      "2024-08-06 15:27:43.082 | WARNING  | io3d.datareader:Get3DData:205 - orientation_axcodes default value will be changed in the furture to 'LPS'\n",
      "  7%|▋         | 4/56 [01:10<14:03, 16.23s/it]2024-08-06 15:27:58.263 | INFO     | io3d.misc:read_pkl_and_pklz:117 - Input gzip exception: Not a gzipped file (b'\\x80\\x04')\n"
     ]
    },
    {
     "name": "stdout",
     "output_type": "stream",
     "text": [
      "Reading H:\\biomedical\\orig\\pilsen_pigs_all\\transplantation_dicom\\Tx026D_Art and writing H:\\biomedical\\orig\\pilsen_pigs_all\\transplantation_nii\\Tx026D_Art\\Tx026D_Art.nii.gz\n"
     ]
    },
    {
     "name": "stderr",
     "output_type": "stream",
     "text": [
      "2024-08-06 15:28:05.977 | WARNING  | io3d.dcmreaddata:get_metaData:550 - Depth of slices is not the same in beginning and end of the sequence\n",
      "2024-08-06 15:28:06.009 | WARNING  | io3d.datareader:Get3DData:205 - orientation_axcodes default value will be changed in the furture to 'LPS'\n",
      "  9%|▉         | 5/56 [01:28<14:23, 16.94s/it]2024-08-06 15:28:16.444 | INFO     | io3d.misc:read_pkl_and_pklz:117 - Input gzip exception: Not a gzipped file (b'\\x80\\x04')\n"
     ]
    },
    {
     "name": "stdout",
     "output_type": "stream",
     "text": [
      "Reading H:\\biomedical\\orig\\pilsen_pigs_all\\transplantation_dicom\\Tx027D_Art and writing H:\\biomedical\\orig\\pilsen_pigs_all\\transplantation_nii\\Tx027D_Art\\Tx027D_Art.nii.gz\n"
     ]
    },
    {
     "name": "stderr",
     "output_type": "stream",
     "text": [
      "2024-08-06 15:28:22.272 | WARNING  | io3d.dcmreaddata:get_metaData:550 - Depth of slices is not the same in beginning and end of the sequence\n",
      "2024-08-06 15:28:22.281 | WARNING  | io3d.datareader:Get3DData:205 - orientation_axcodes default value will be changed in the furture to 'LPS'\n",
      " 11%|█         | 6/56 [01:41<13:08, 15.78s/it]2024-08-06 15:28:29.960 | INFO     | io3d.misc:read_pkl_and_pklz:117 - Input gzip exception: Not a gzipped file (b'\\x80\\x04')\n"
     ]
    },
    {
     "name": "stdout",
     "output_type": "stream",
     "text": [
      "Reading H:\\biomedical\\orig\\pilsen_pigs_all\\transplantation_dicom\\Tx028D_Art and writing H:\\biomedical\\orig\\pilsen_pigs_all\\transplantation_nii\\Tx028D_Art\\Tx028D_Art.nii.gz\n"
     ]
    },
    {
     "name": "stderr",
     "output_type": "stream",
     "text": [
      "2024-08-06 15:28:34.727 | WARNING  | io3d.datareader:Get3DData:205 - orientation_axcodes default value will be changed in the furture to 'LPS'\n",
      " 12%|█▎        | 7/56 [01:58<13:12, 16.18s/it]2024-08-06 15:28:46.963 | INFO     | io3d.misc:read_pkl_and_pklz:117 - Input gzip exception: Not a gzipped file (b'\\x80\\x04')\n"
     ]
    },
    {
     "name": "stdout",
     "output_type": "stream",
     "text": [
      "Reading H:\\biomedical\\orig\\pilsen_pigs_all\\transplantation_dicom\\Tx029D_Art and writing H:\\biomedical\\orig\\pilsen_pigs_all\\transplantation_nii\\Tx029D_Art\\Tx029D_Art.nii.gz\n"
     ]
    },
    {
     "name": "stderr",
     "output_type": "stream",
     "text": [
      "2024-08-06 15:28:51.392 | WARNING  | io3d.dcmreaddata:get_metaData:550 - Depth of slices is not the same in beginning and end of the sequence\n",
      "2024-08-06 15:28:51.404 | WARNING  | io3d.datareader:Get3DData:205 - orientation_axcodes default value will be changed in the furture to 'LPS'\n",
      " 14%|█▍        | 8/56 [02:11<12:06, 15.13s/it]2024-08-06 15:28:59.858 | INFO     | io3d.misc:read_pkl_and_pklz:117 - Input gzip exception: Not a gzipped file (b'\\x80\\x04')\n"
     ]
    },
    {
     "name": "stdout",
     "output_type": "stream",
     "text": [
      "Reading H:\\biomedical\\orig\\pilsen_pigs_all\\transplantation_dicom\\Tx030D_Art and writing H:\\biomedical\\orig\\pilsen_pigs_all\\transplantation_nii\\Tx030D_Art\\Tx030D_Art.nii.gz\n"
     ]
    },
    {
     "name": "stderr",
     "output_type": "stream",
     "text": [
      "2024-08-06 15:29:04.098 | WARNING  | io3d.datareader:Get3DData:205 - orientation_axcodes default value will be changed in the furture to 'LPS'\n",
      " 16%|█▌        | 9/56 [02:22<10:47, 13.77s/it]2024-08-06 15:29:10.606 | INFO     | io3d.misc:read_pkl_and_pklz:117 - Input gzip exception: Not a gzipped file (b'\\x80\\x04')\n"
     ]
    },
    {
     "name": "stdout",
     "output_type": "stream",
     "text": [
      "Reading H:\\biomedical\\orig\\pilsen_pigs_all\\transplantation_dicom\\Tx031D_Art and writing H:\\biomedical\\orig\\pilsen_pigs_all\\transplantation_nii\\Tx031D_Art\\Tx031D_Art.nii.gz\n"
     ]
    },
    {
     "name": "stderr",
     "output_type": "stream",
     "text": [
      "2024-08-06 15:29:14.690 | WARNING  | io3d.dcmreaddata:get_metaData:550 - Depth of slices is not the same in beginning and end of the sequence\n",
      "2024-08-06 15:29:14.695 | WARNING  | io3d.datareader:Get3DData:205 - orientation_axcodes default value will be changed in the furture to 'LPS'\n",
      " 18%|█▊        | 10/56 [02:33<09:52, 12.89s/it]2024-08-06 15:29:21.498 | INFO     | io3d.misc:read_pkl_and_pklz:117 - Input gzip exception: Not a gzipped file (b'\\x80\\x04')\n"
     ]
    },
    {
     "name": "stdout",
     "output_type": "stream",
     "text": [
      "Reading H:\\biomedical\\orig\\pilsen_pigs_all\\transplantation_dicom\\Tx032D_Art and writing H:\\biomedical\\orig\\pilsen_pigs_all\\transplantation_nii\\Tx032D_Art\\Tx032D_Art.nii.gz\n"
     ]
    },
    {
     "name": "stderr",
     "output_type": "stream",
     "text": [
      "2024-08-06 15:29:25.726 | WARNING  | io3d.dcmreaddata:get_metaData:550 - Depth of slices is not the same in beginning and end of the sequence\n",
      "2024-08-06 15:29:25.732 | WARNING  | io3d.datareader:Get3DData:205 - orientation_axcodes default value will be changed in the furture to 'LPS'\n",
      " 20%|█▉        | 11/56 [02:45<09:25, 12.56s/it]2024-08-06 15:29:33.376 | INFO     | io3d.misc:read_pkl_and_pklz:117 - Input gzip exception: Not a gzipped file (b'\\x80\\x04')\n"
     ]
    },
    {
     "name": "stdout",
     "output_type": "stream",
     "text": [
      "Reading H:\\biomedical\\orig\\pilsen_pigs_all\\transplantation_dicom\\Tx033D_Art and writing H:\\biomedical\\orig\\pilsen_pigs_all\\transplantation_nii\\Tx033D_Art\\Tx033D_Art.nii.gz\n"
     ]
    },
    {
     "name": "stderr",
     "output_type": "stream",
     "text": [
      "2024-08-06 15:29:38.412 | WARNING  | io3d.dcmreaddata:get_metaData:550 - Depth of slices is not the same in beginning and end of the sequence\n",
      "2024-08-06 15:29:38.422 | WARNING  | io3d.datareader:Get3DData:205 - orientation_axcodes default value will be changed in the furture to 'LPS'\n",
      " 21%|██▏       | 12/56 [02:58<09:22, 12.78s/it]2024-08-06 15:29:46.600 | INFO     | io3d.misc:read_pkl_and_pklz:117 - Input gzip exception: Not a gzipped file (b'\\x80\\x04')\n"
     ]
    },
    {
     "name": "stdout",
     "output_type": "stream",
     "text": [
      "Reading H:\\biomedical\\orig\\pilsen_pigs_all\\transplantation_dicom\\Tx034D_Art and writing H:\\biomedical\\orig\\pilsen_pigs_all\\transplantation_nii\\Tx034D_Art\\Tx034D_Art.nii.gz\n"
     ]
    },
    {
     "name": "stderr",
     "output_type": "stream",
     "text": [
      "2024-08-06 15:29:53.128 | WARNING  | io3d.datareader:Get3DData:205 - orientation_axcodes default value will be changed in the furture to 'LPS'\n",
      " 23%|██▎       | 13/56 [03:12<09:27, 13.19s/it]2024-08-06 15:30:00.740 | INFO     | io3d.misc:read_pkl_and_pklz:117 - Input gzip exception: Not a gzipped file (b'\\x80\\x04')\n"
     ]
    },
    {
     "name": "stdout",
     "output_type": "stream",
     "text": [
      "Reading H:\\biomedical\\orig\\pilsen_pigs_all\\transplantation_dicom\\Tx035D_Art and writing H:\\biomedical\\orig\\pilsen_pigs_all\\transplantation_nii\\Tx035D_Art\\Tx035D_Art.nii.gz\n"
     ]
    },
    {
     "name": "stderr",
     "output_type": "stream",
     "text": [
      "2024-08-06 15:30:06.203 | WARNING  | io3d.datareader:Get3DData:205 - orientation_axcodes default value will be changed in the furture to 'LPS'\n",
      " 25%|██▌       | 14/56 [03:25<09:13, 13.17s/it]2024-08-06 15:30:13.840 | INFO     | io3d.misc:read_pkl_and_pklz:117 - Input gzip exception: Not a gzipped file (b'\\x80\\x04')\n"
     ]
    },
    {
     "name": "stdout",
     "output_type": "stream",
     "text": [
      "Reading H:\\biomedical\\orig\\pilsen_pigs_all\\transplantation_dicom\\Tx036D_Art and writing H:\\biomedical\\orig\\pilsen_pigs_all\\transplantation_nii\\Tx036D_Art\\Tx036D_Art.nii.gz\n"
     ]
    },
    {
     "name": "stderr",
     "output_type": "stream",
     "text": [
      "2024-08-06 15:30:18.778 | WARNING  | io3d.datareader:Get3DData:205 - orientation_axcodes default value will be changed in the furture to 'LPS'\n",
      " 27%|██▋       | 15/56 [03:38<08:49, 12.93s/it]2024-08-06 15:30:26.198 | INFO     | io3d.misc:read_pkl_and_pklz:117 - Input gzip exception: Not a gzipped file (b'\\x80\\x04')\n"
     ]
    },
    {
     "name": "stdout",
     "output_type": "stream",
     "text": [
      "Reading H:\\biomedical\\orig\\pilsen_pigs_all\\transplantation_dicom\\Tx037D_Art and writing H:\\biomedical\\orig\\pilsen_pigs_all\\transplantation_nii\\Tx037D_Art\\Tx037D_Art.nii.gz\n"
     ]
    },
    {
     "name": "stderr",
     "output_type": "stream",
     "text": [
      "2024-08-06 15:30:31.858 | WARNING  | io3d.dcmreaddata:get_metaData:550 - Depth of slices is not the same in beginning and end of the sequence\n",
      "2024-08-06 15:30:31.888 | WARNING  | io3d.datareader:Get3DData:205 - orientation_axcodes default value will be changed in the furture to 'LPS'\n",
      " 29%|██▊       | 16/56 [03:50<08:27, 12.70s/it]2024-08-06 15:30:38.379 | INFO     | io3d.misc:read_pkl_and_pklz:117 - Input gzip exception: Not a gzipped file (b'\\x80\\x04')\n"
     ]
    },
    {
     "name": "stdout",
     "output_type": "stream",
     "text": [
      "Reading H:\\biomedical\\orig\\pilsen_pigs_all\\transplantation_dicom\\Tx038D_Art and writing H:\\biomedical\\orig\\pilsen_pigs_all\\transplantation_nii\\Tx038D_Art\\Tx038D_Art.nii.gz\n"
     ]
    },
    {
     "name": "stderr",
     "output_type": "stream",
     "text": [
      "2024-08-06 15:30:44.827 | WARNING  | io3d.datareader:Get3DData:205 - orientation_axcodes default value will be changed in the furture to 'LPS'\n",
      " 30%|███       | 17/56 [04:06<08:55, 13.74s/it]2024-08-06 15:30:54.549 | INFO     | io3d.misc:read_pkl_and_pklz:117 - Input gzip exception: Not a gzipped file (b'\\x80\\x04')\n"
     ]
    },
    {
     "name": "stdout",
     "output_type": "stream",
     "text": [
      "Reading H:\\biomedical\\orig\\pilsen_pigs_all\\transplantation_dicom\\Tx039D_Art and writing H:\\biomedical\\orig\\pilsen_pigs_all\\transplantation_nii\\Tx039D_Art\\Tx039D_Art.nii.gz\n"
     ]
    },
    {
     "name": "stderr",
     "output_type": "stream",
     "text": [
      "2024-08-06 15:31:01.298 | WARNING  | io3d.dcmreaddata:get_metaData:550 - Depth of slices is not the same in beginning and end of the sequence\n",
      "2024-08-06 15:31:01.316 | WARNING  | io3d.datareader:Get3DData:205 - orientation_axcodes default value will be changed in the furture to 'LPS'\n",
      " 32%|███▏      | 18/56 [04:20<08:44, 13.81s/it]2024-08-06 15:31:08.517 | INFO     | io3d.misc:read_pkl_and_pklz:117 - Input gzip exception: Not a gzipped file (b'\\x80\\x04')\n"
     ]
    },
    {
     "name": "stdout",
     "output_type": "stream",
     "text": [
      "Reading H:\\biomedical\\orig\\pilsen_pigs_all\\transplantation_dicom\\Tx040D_Art and writing H:\\biomedical\\orig\\pilsen_pigs_all\\transplantation_nii\\Tx040D_Art\\Tx040D_Art.nii.gz\n"
     ]
    },
    {
     "name": "stderr",
     "output_type": "stream",
     "text": [
      "2024-08-06 15:31:12.601 | WARNING  | io3d.datareader:Get3DData:205 - orientation_axcodes default value will be changed in the furture to 'LPS'\n",
      " 34%|███▍      | 19/56 [04:31<07:58, 12.93s/it]2024-08-06 15:31:19.391 | INFO     | io3d.misc:read_pkl_and_pklz:117 - Input gzip exception: Not a gzipped file (b'\\x80\\x04')\n"
     ]
    },
    {
     "name": "stdout",
     "output_type": "stream",
     "text": [
      "Reading H:\\biomedical\\orig\\pilsen_pigs_all\\transplantation_dicom\\Tx041D_Art and writing H:\\biomedical\\orig\\pilsen_pigs_all\\transplantation_nii\\Tx041D_Art\\Tx041D_Art.nii.gz\n"
     ]
    },
    {
     "name": "stderr",
     "output_type": "stream",
     "text": [
      "2024-08-06 15:31:24.171 | WARNING  | io3d.datareader:Get3DData:205 - orientation_axcodes default value will be changed in the furture to 'LPS'\n",
      " 36%|███▌      | 20/56 [04:42<07:27, 12.44s/it]2024-08-06 15:31:30.700 | INFO     | io3d.misc:read_pkl_and_pklz:117 - Input gzip exception: Not a gzipped file (b'\\x80\\x04')\n"
     ]
    },
    {
     "name": "stdout",
     "output_type": "stream",
     "text": [
      "Reading H:\\biomedical\\orig\\pilsen_pigs_all\\transplantation_dicom\\Tx042D_Art and writing H:\\biomedical\\orig\\pilsen_pigs_all\\transplantation_nii\\Tx042D_Art\\Tx042D_Art.nii.gz\n"
     ]
    },
    {
     "name": "stderr",
     "output_type": "stream",
     "text": [
      "2024-08-06 15:31:36.330 | WARNING  | io3d.datareader:Get3DData:205 - orientation_axcodes default value will be changed in the furture to 'LPS'\n",
      " 38%|███▊      | 21/56 [04:56<07:28, 12.81s/it]2024-08-06 15:31:44.347 | INFO     | io3d.misc:read_pkl_and_pklz:117 - Input gzip exception: Not a gzipped file (b'\\x80\\x04')\n"
     ]
    },
    {
     "name": "stdout",
     "output_type": "stream",
     "text": [
      "Reading H:\\biomedical\\orig\\pilsen_pigs_all\\transplantation_dicom\\Tx043D_Art and writing H:\\biomedical\\orig\\pilsen_pigs_all\\transplantation_nii\\Tx043D_Art\\Tx043D_Art.nii.gz\n"
     ]
    },
    {
     "name": "stderr",
     "output_type": "stream",
     "text": [
      "2024-08-06 15:31:48.815 | WARNING  | io3d.dcmreaddata:get_metaData:550 - Depth of slices is not the same in beginning and end of the sequence\n",
      "2024-08-06 15:31:48.822 | WARNING  | io3d.datareader:Get3DData:205 - orientation_axcodes default value will be changed in the furture to 'LPS'\n",
      " 39%|███▉      | 22/56 [05:07<06:59, 12.33s/it]2024-08-06 15:31:55.575 | INFO     | io3d.misc:read_pkl_and_pklz:117 - Input gzip exception: Not a gzipped file (b'\\x80\\x04')\n"
     ]
    },
    {
     "name": "stdout",
     "output_type": "stream",
     "text": [
      "Reading H:\\biomedical\\orig\\pilsen_pigs_all\\transplantation_dicom\\Tx044D_Art and writing H:\\biomedical\\orig\\pilsen_pigs_all\\transplantation_nii\\Tx044D_Art\\Tx044D_Art.nii.gz\n"
     ]
    },
    {
     "name": "stderr",
     "output_type": "stream",
     "text": [
      "2024-08-06 15:32:00.046 | WARNING  | io3d.datareader:Get3DData:205 - orientation_axcodes default value will be changed in the furture to 'LPS'\n",
      " 41%|████      | 23/56 [05:20<06:49, 12.40s/it]2024-08-06 15:32:08.194 | INFO     | io3d.misc:read_pkl_and_pklz:117 - Input gzip exception: Not a gzipped file (b'\\x80\\x04')\n"
     ]
    },
    {
     "name": "stdout",
     "output_type": "stream",
     "text": [
      "Reading H:\\biomedical\\orig\\pilsen_pigs_all\\transplantation_dicom\\Tx045D_Art and writing H:\\biomedical\\orig\\pilsen_pigs_all\\transplantation_nii\\Tx045D_Art\\Tx045D_Art.nii.gz\n"
     ]
    },
    {
     "name": "stderr",
     "output_type": "stream",
     "text": [
      "2024-08-06 15:32:12.166 | WARNING  | io3d.datareader:Get3DData:205 - orientation_axcodes default value will be changed in the furture to 'LPS'\n",
      " 43%|████▎     | 24/56 [05:31<06:22, 11.94s/it]2024-08-06 15:32:19.048 | INFO     | io3d.misc:read_pkl_and_pklz:117 - Input gzip exception: Not a gzipped file (b'\\x80\\x04')\n"
     ]
    },
    {
     "name": "stdout",
     "output_type": "stream",
     "text": [
      "Reading H:\\biomedical\\orig\\pilsen_pigs_all\\transplantation_dicom\\Tx046D_Art and writing H:\\biomedical\\orig\\pilsen_pigs_all\\transplantation_nii\\Tx046D_Art\\Tx046D_Art.nii.gz\n"
     ]
    },
    {
     "name": "stderr",
     "output_type": "stream",
     "text": [
      "2024-08-06 15:32:23.298 | WARNING  | io3d.datareader:Get3DData:205 - orientation_axcodes default value will be changed in the furture to 'LPS'\n",
      " 45%|████▍     | 25/56 [05:42<06:02, 11.68s/it]2024-08-06 15:32:30.144 | INFO     | io3d.misc:read_pkl_and_pklz:117 - Input gzip exception: Not a gzipped file (b'\\x80\\x04')\n"
     ]
    },
    {
     "name": "stdout",
     "output_type": "stream",
     "text": [
      "Reading H:\\biomedical\\orig\\pilsen_pigs_all\\transplantation_dicom\\Tx047D_Art and writing H:\\biomedical\\orig\\pilsen_pigs_all\\transplantation_nii\\Tx047D_Art\\Tx047D_Art.nii.gz\n"
     ]
    },
    {
     "name": "stderr",
     "output_type": "stream",
     "text": [
      "2024-08-06 15:32:34.747 | WARNING  | io3d.datareader:Get3DData:205 - orientation_axcodes default value will be changed in the furture to 'LPS'\n",
      " 46%|████▋     | 26/56 [05:54<05:55, 11.85s/it]2024-08-06 15:32:42.436 | INFO     | io3d.misc:read_pkl_and_pklz:117 - Input gzip exception: Not a gzipped file (b'\\x80\\x04')\n"
     ]
    },
    {
     "name": "stdout",
     "output_type": "stream",
     "text": [
      "Reading H:\\biomedical\\orig\\pilsen_pigs_all\\transplantation_dicom\\Tx017D_Ven and writing H:\\biomedical\\orig\\pilsen_pigs_all\\transplantation_nii\\Tx017D_Ven\\Tx017D_Ven.nii.gz\n"
     ]
    },
    {
     "name": "stderr",
     "output_type": "stream",
     "text": [
      "2024-08-06 15:32:43.661 | WARNING  | io3d.dcmreaddata:get_metaData:550 - Depth of slices is not the same in beginning and end of the sequence\n",
      "2024-08-06 15:32:43.669 | WARNING  | io3d.datareader:Get3DData:205 - orientation_axcodes default value will be changed in the furture to 'LPS'\n",
      " 48%|████▊     | 27/56 [05:57<04:30,  9.33s/it]2024-08-06 15:32:45.819 | INFO     | io3d.misc:read_pkl_and_pklz:117 - Input gzip exception: Not a gzipped file (b'\\x80\\x04')\n"
     ]
    },
    {
     "name": "stdout",
     "output_type": "stream",
     "text": [
      "Reading H:\\biomedical\\orig\\pilsen_pigs_all\\transplantation_dicom\\Tx018D_Ven and writing H:\\biomedical\\orig\\pilsen_pigs_all\\transplantation_nii\\Tx018D_Ven\\Tx018D_Ven.nii.gz\n"
     ]
    },
    {
     "name": "stderr",
     "output_type": "stream",
     "text": [
      "2024-08-06 15:32:50.710 | WARNING  | io3d.datareader:Get3DData:205 - orientation_axcodes default value will be changed in the furture to 'LPS'\n",
      " 50%|█████     | 28/56 [06:11<04:55, 10.55s/it]2024-08-06 15:32:59.254 | INFO     | io3d.misc:read_pkl_and_pklz:117 - Input gzip exception: Not a gzipped file (b'\\x80\\x04')\n"
     ]
    },
    {
     "name": "stdout",
     "output_type": "stream",
     "text": [
      "Reading H:\\biomedical\\orig\\pilsen_pigs_all\\transplantation_dicom\\Tx019D_Ven and writing H:\\biomedical\\orig\\pilsen_pigs_all\\transplantation_nii\\Tx019D_Ven\\Tx019D_Ven.nii.gz\n"
     ]
    },
    {
     "name": "stderr",
     "output_type": "stream",
     "text": [
      "2024-08-06 15:33:04.569 | WARNING  | io3d.datareader:Get3DData:205 - orientation_axcodes default value will be changed in the furture to 'LPS'\n",
      " 52%|█████▏    | 29/56 [06:25<05:11, 11.54s/it]2024-08-06 15:33:13.072 | INFO     | io3d.misc:read_pkl_and_pklz:117 - Input gzip exception: Not a gzipped file (b'\\x80\\x04')\n"
     ]
    },
    {
     "name": "stdout",
     "output_type": "stream",
     "text": [
      "Reading H:\\biomedical\\orig\\pilsen_pigs_all\\transplantation_dicom\\Tx021D_Ven and writing H:\\biomedical\\orig\\pilsen_pigs_all\\transplantation_nii\\Tx021D_Ven\\Tx021D_Ven.nii.gz\n"
     ]
    },
    {
     "name": "stderr",
     "output_type": "stream",
     "text": [
      "2024-08-06 15:33:19.153 | WARNING  | io3d.dcmreaddata:get_metaData:550 - Depth of slices is not the same in beginning and end of the sequence\n",
      "2024-08-06 15:33:19.160 | WARNING  | io3d.datareader:Get3DData:205 - orientation_axcodes default value will be changed in the furture to 'LPS'\n",
      " 54%|█████▎    | 30/56 [06:40<05:33, 12.82s/it]2024-08-06 15:33:28.880 | INFO     | io3d.misc:read_pkl_and_pklz:117 - Input gzip exception: Not a gzipped file (b'\\x80\\x04')\n"
     ]
    },
    {
     "name": "stdout",
     "output_type": "stream",
     "text": [
      "Reading H:\\biomedical\\orig\\pilsen_pigs_all\\transplantation_dicom\\Tx022D_Ven and writing H:\\biomedical\\orig\\pilsen_pigs_all\\transplantation_nii\\Tx022D_Ven\\Tx022D_Ven.nii.gz\n"
     ]
    },
    {
     "name": "stderr",
     "output_type": "stream",
     "text": [
      "2024-08-06 15:33:34.267 | WARNING  | io3d.datareader:Get3DData:205 - orientation_axcodes default value will be changed in the furture to 'LPS'\n",
      " 55%|█████▌    | 31/56 [06:55<05:36, 13.46s/it]2024-08-06 15:33:43.827 | INFO     | io3d.misc:read_pkl_and_pklz:117 - Input gzip exception: Not a gzipped file (b'\\x80\\x04')\n"
     ]
    },
    {
     "name": "stdout",
     "output_type": "stream",
     "text": [
      "Reading H:\\biomedical\\orig\\pilsen_pigs_all\\transplantation_dicom\\Tx023D_Ven and writing H:\\biomedical\\orig\\pilsen_pigs_all\\transplantation_nii\\Tx023D_Ven\\Tx023D_Ven.nii.gz\n"
     ]
    },
    {
     "name": "stderr",
     "output_type": "stream",
     "text": [
      "2024-08-06 15:33:49.539 | WARNING  | io3d.dcmreaddata:get_metaData:550 - Depth of slices is not the same in beginning and end of the sequence\n",
      "2024-08-06 15:33:49.544 | WARNING  | io3d.datareader:Get3DData:205 - orientation_axcodes default value will be changed in the furture to 'LPS'\n",
      " 57%|█████▋    | 32/56 [07:09<05:22, 13.43s/it]2024-08-06 15:33:57.205 | INFO     | io3d.misc:read_pkl_and_pklz:117 - Input gzip exception: Not a gzipped file (b'\\x80\\x04')\n"
     ]
    },
    {
     "name": "stdout",
     "output_type": "stream",
     "text": [
      "Reading H:\\biomedical\\orig\\pilsen_pigs_all\\transplantation_dicom\\Tx024D_Ven and writing H:\\biomedical\\orig\\pilsen_pigs_all\\transplantation_nii\\Tx024D_Ven\\Tx024D_Ven.nii.gz\n"
     ]
    },
    {
     "name": "stderr",
     "output_type": "stream",
     "text": [
      "2024-08-06 15:34:07.094 | WARNING  | io3d.dcmreaddata:get_metaData:550 - Depth of slices is not the same in beginning and end of the sequence\n",
      "2024-08-06 15:34:07.122 | WARNING  | io3d.datareader:Get3DData:205 - orientation_axcodes default value will be changed in the furture to 'LPS'\n",
      " 59%|█████▉    | 33/56 [07:29<05:58, 15.60s/it]2024-08-06 15:34:17.859 | INFO     | io3d.misc:read_pkl_and_pklz:117 - Input gzip exception: Not a gzipped file (b'\\x80\\x04')\n"
     ]
    },
    {
     "name": "stdout",
     "output_type": "stream",
     "text": [
      "Reading H:\\biomedical\\orig\\pilsen_pigs_all\\transplantation_dicom\\Tx025D_Ven and writing H:\\biomedical\\orig\\pilsen_pigs_all\\transplantation_nii\\Tx025D_Ven\\Tx025D_Ven.nii.gz\n"
     ]
    },
    {
     "name": "stderr",
     "output_type": "stream",
     "text": [
      "2024-08-06 15:34:22.908 | WARNING  | io3d.datareader:Get3DData:205 - orientation_axcodes default value will be changed in the furture to 'LPS'\n",
      " 61%|██████    | 34/56 [07:42<05:20, 14.59s/it]2024-08-06 15:34:30.130 | INFO     | io3d.misc:read_pkl_and_pklz:117 - Input gzip exception: Not a gzipped file (b'\\x80\\x04')\n"
     ]
    },
    {
     "name": "stdout",
     "output_type": "stream",
     "text": [
      "Reading H:\\biomedical\\orig\\pilsen_pigs_all\\transplantation_dicom\\Tx026D_Ven and writing H:\\biomedical\\orig\\pilsen_pigs_all\\transplantation_nii\\Tx026D_Ven\\Tx026D_Ven.nii.gz\n"
     ]
    },
    {
     "name": "stderr",
     "output_type": "stream",
     "text": [
      "2024-08-06 15:34:35.991 | WARNING  | io3d.datareader:Get3DData:205 - orientation_axcodes default value will be changed in the furture to 'LPS'\n",
      " 62%|██████▎   | 35/56 [07:59<05:23, 15.42s/it]2024-08-06 15:34:47.474 | INFO     | io3d.misc:read_pkl_and_pklz:117 - Input gzip exception: Not a gzipped file (b'\\x80\\x04')\n"
     ]
    },
    {
     "name": "stdout",
     "output_type": "stream",
     "text": [
      "Reading H:\\biomedical\\orig\\pilsen_pigs_all\\transplantation_dicom\\Tx027D_Ven and writing H:\\biomedical\\orig\\pilsen_pigs_all\\transplantation_nii\\Tx027D_Ven\\Tx027D_Ven.nii.gz\n"
     ]
    },
    {
     "name": "stderr",
     "output_type": "stream",
     "text": [
      "2024-08-06 15:34:52.673 | WARNING  | io3d.datareader:Get3DData:205 - orientation_axcodes default value will be changed in the furture to 'LPS'\n",
      " 64%|██████▍   | 36/56 [08:14<05:04, 15.24s/it]2024-08-06 15:35:02.307 | INFO     | io3d.misc:read_pkl_and_pklz:117 - Input gzip exception: Not a gzipped file (b'\\x80\\x04')\n"
     ]
    },
    {
     "name": "stdout",
     "output_type": "stream",
     "text": [
      "Reading H:\\biomedical\\orig\\pilsen_pigs_all\\transplantation_dicom\\Tx028D_Ven and writing H:\\biomedical\\orig\\pilsen_pigs_all\\transplantation_nii\\Tx028D_Ven\\Tx028D_Ven.nii.gz\n"
     ]
    },
    {
     "name": "stderr",
     "output_type": "stream",
     "text": [
      "2024-08-06 15:35:11.400 | WARNING  | io3d.dcmreaddata:get_metaData:550 - Depth of slices is not the same in beginning and end of the sequence\n",
      "2024-08-06 15:35:11.420 | WARNING  | io3d.datareader:Get3DData:205 - orientation_axcodes default value will be changed in the furture to 'LPS'\n",
      " 66%|██████▌   | 37/56 [08:34<05:18, 16.77s/it]2024-08-06 15:35:22.639 | INFO     | io3d.misc:read_pkl_and_pklz:117 - Input gzip exception: Not a gzipped file (b'\\x80\\x04')\n"
     ]
    },
    {
     "name": "stdout",
     "output_type": "stream",
     "text": [
      "Reading H:\\biomedical\\orig\\pilsen_pigs_all\\transplantation_dicom\\Tx029D_Ven and writing H:\\biomedical\\orig\\pilsen_pigs_all\\transplantation_nii\\Tx029D_Ven\\Tx029D_Ven.nii.gz\n"
     ]
    },
    {
     "name": "stderr",
     "output_type": "stream",
     "text": [
      "2024-08-06 15:35:27.935 | WARNING  | io3d.datareader:Get3DData:205 - orientation_axcodes default value will be changed in the furture to 'LPS'\n",
      " 68%|██████▊   | 38/56 [08:49<04:50, 16.14s/it]2024-08-06 15:35:37.317 | INFO     | io3d.misc:read_pkl_and_pklz:117 - Input gzip exception: Not a gzipped file (b'\\x80\\x04')\n"
     ]
    },
    {
     "name": "stdout",
     "output_type": "stream",
     "text": [
      "Reading H:\\biomedical\\orig\\pilsen_pigs_all\\transplantation_dicom\\Tx030D_Ven and writing H:\\biomedical\\orig\\pilsen_pigs_all\\transplantation_nii\\Tx030D_Ven\\Tx030D_Ven.nii.gz\n"
     ]
    },
    {
     "name": "stderr",
     "output_type": "stream",
     "text": [
      "2024-08-06 15:35:43.612 | WARNING  | io3d.datareader:Get3DData:205 - orientation_axcodes default value will be changed in the furture to 'LPS'\n",
      " 70%|██████▉   | 39/56 [09:05<04:34, 16.16s/it]"
     ]
    },
    {
     "name": "stdout",
     "output_type": "stream",
     "text": [
      "Reading H:\\biomedical\\orig\\pilsen_pigs_all\\transplantation_dicom\\Tx031D_Ven and writing H:\\biomedical\\orig\\pilsen_pigs_all\\transplantation_nii\\Tx031D_Ven\\Tx031D_Ven.nii.gz\n"
     ]
    },
    {
     "name": "stderr",
     "output_type": "stream",
     "text": [
      "2024-08-06 15:35:53.637 | INFO     | io3d.misc:read_pkl_and_pklz:117 - Input gzip exception: Not a gzipped file (b'\\x80\\x04')\n",
      "2024-08-06 15:35:57.982 | WARNING  | io3d.datareader:Get3DData:205 - orientation_axcodes default value will be changed in the furture to 'LPS'\n",
      " 71%|███████▏  | 40/56 [09:17<04:00, 15.06s/it]2024-08-06 15:36:06.002 | INFO     | io3d.misc:read_pkl_and_pklz:117 - Input gzip exception: Not a gzipped file (b'\\x80\\x04')\n"
     ]
    },
    {
     "name": "stdout",
     "output_type": "stream",
     "text": [
      "Reading H:\\biomedical\\orig\\pilsen_pigs_all\\transplantation_dicom\\Tx032D_Ven and writing H:\\biomedical\\orig\\pilsen_pigs_all\\transplantation_nii\\Tx032D_Ven\\Tx032D_Ven.nii.gz\n"
     ]
    },
    {
     "name": "stderr",
     "output_type": "stream",
     "text": [
      "2024-08-06 15:36:10.969 | WARNING  | io3d.datareader:Get3DData:205 - orientation_axcodes default value will be changed in the furture to 'LPS'\n",
      " 73%|███████▎  | 41/56 [09:31<03:40, 14.69s/it]2024-08-06 15:36:19.844 | INFO     | io3d.misc:read_pkl_and_pklz:117 - Input gzip exception: Not a gzipped file (b'\\x80\\x04')\n"
     ]
    },
    {
     "name": "stdout",
     "output_type": "stream",
     "text": [
      "Reading H:\\biomedical\\orig\\pilsen_pigs_all\\transplantation_dicom\\Tx033D_Ven and writing H:\\biomedical\\orig\\pilsen_pigs_all\\transplantation_nii\\Tx033D_Ven\\Tx033D_Ven.nii.gz\n"
     ]
    },
    {
     "name": "stderr",
     "output_type": "stream",
     "text": [
      "2024-08-06 15:36:24.783 | WARNING  | io3d.datareader:Get3DData:205 - orientation_axcodes default value will be changed in the furture to 'LPS'\n",
      " 75%|███████▌  | 42/56 [09:45<03:23, 14.51s/it]2024-08-06 15:36:33.917 | INFO     | io3d.misc:read_pkl_and_pklz:117 - Input gzip exception: Not a gzipped file (b'\\x80\\x04')\n"
     ]
    },
    {
     "name": "stdout",
     "output_type": "stream",
     "text": [
      "Reading H:\\biomedical\\orig\\pilsen_pigs_all\\transplantation_dicom\\Tx034D_Ven and writing H:\\biomedical\\orig\\pilsen_pigs_all\\transplantation_nii\\Tx034D_Ven\\Tx034D_Ven.nii.gz\n"
     ]
    },
    {
     "name": "stderr",
     "output_type": "stream",
     "text": [
      "2024-08-06 15:36:42.428 | WARNING  | io3d.dcmreaddata:get_metaData:550 - Depth of slices is not the same in beginning and end of the sequence\n",
      "2024-08-06 15:36:42.437 | WARNING  | io3d.datareader:Get3DData:205 - orientation_axcodes default value will be changed in the furture to 'LPS'\n",
      " 77%|███████▋  | 43/56 [10:05<03:28, 16.02s/it]2024-08-06 15:36:53.443 | INFO     | io3d.misc:read_pkl_and_pklz:117 - Input gzip exception: Not a gzipped file (b'\\x80\\x04')\n"
     ]
    },
    {
     "name": "stdout",
     "output_type": "stream",
     "text": [
      "Reading H:\\biomedical\\orig\\pilsen_pigs_all\\transplantation_dicom\\Tx035D_Ven and writing H:\\biomedical\\orig\\pilsen_pigs_all\\transplantation_nii\\Tx035D_Ven\\Tx035D_Ven.nii.gz\n"
     ]
    },
    {
     "name": "stderr",
     "output_type": "stream",
     "text": [
      "2024-08-06 15:36:58.292 | WARNING  | io3d.datareader:Get3DData:205 - orientation_axcodes default value will be changed in the furture to 'LPS'\n",
      " 79%|███████▊  | 44/56 [10:19<03:03, 15.33s/it]2024-08-06 15:37:07.126 | INFO     | io3d.misc:read_pkl_and_pklz:117 - Input gzip exception: Not a gzipped file (b'\\x80\\x04')\n"
     ]
    },
    {
     "name": "stdout",
     "output_type": "stream",
     "text": [
      "Reading H:\\biomedical\\orig\\pilsen_pigs_all\\transplantation_dicom\\Tx036D_Ven and writing H:\\biomedical\\orig\\pilsen_pigs_all\\transplantation_nii\\Tx036D_Ven\\Tx036D_Ven.nii.gz\n"
     ]
    },
    {
     "name": "stderr",
     "output_type": "stream",
     "text": [
      "2024-08-06 15:37:11.364 | WARNING  | io3d.datareader:Get3DData:205 - orientation_axcodes default value will be changed in the furture to 'LPS'\n",
      " 80%|████████  | 45/56 [10:32<02:40, 14.59s/it]2024-08-06 15:37:20.022 | INFO     | io3d.misc:read_pkl_and_pklz:117 - Input gzip exception: Not a gzipped file (b'\\x80\\x04')\n"
     ]
    },
    {
     "name": "stdout",
     "output_type": "stream",
     "text": [
      "Reading H:\\biomedical\\orig\\pilsen_pigs_all\\transplantation_dicom\\Tx037D_Ven and writing H:\\biomedical\\orig\\pilsen_pigs_all\\transplantation_nii\\Tx037D_Ven\\Tx037D_Ven.nii.gz\n"
     ]
    },
    {
     "name": "stderr",
     "output_type": "stream",
     "text": [
      "2024-08-06 15:37:25.610 | WARNING  | io3d.dcmreaddata:get_metaData:550 - Depth of slices is not the same in beginning and end of the sequence\n",
      "2024-08-06 15:37:25.616 | WARNING  | io3d.datareader:Get3DData:205 - orientation_axcodes default value will be changed in the furture to 'LPS'\n",
      " 82%|████████▏ | 46/56 [10:47<02:28, 14.87s/it]2024-08-06 15:37:35.541 | INFO     | io3d.misc:read_pkl_and_pklz:117 - Input gzip exception: Not a gzipped file (b'\\x80\\x04')\n"
     ]
    },
    {
     "name": "stdout",
     "output_type": "stream",
     "text": [
      "Reading H:\\biomedical\\orig\\pilsen_pigs_all\\transplantation_dicom\\Tx038D_Ven and writing H:\\biomedical\\orig\\pilsen_pigs_all\\transplantation_nii\\Tx038D_Ven\\Tx038D_Ven.nii.gz\n"
     ]
    },
    {
     "name": "stderr",
     "output_type": "stream",
     "text": [
      "2024-08-06 15:37:40.451 | WARNING  | io3d.dcmreaddata:get_metaData:550 - Depth of slices is not the same in beginning and end of the sequence\n",
      "2024-08-06 15:37:40.456 | WARNING  | io3d.datareader:Get3DData:205 - orientation_axcodes default value will be changed in the furture to 'LPS'\n",
      " 84%|████████▍ | 47/56 [11:01<02:11, 14.65s/it]2024-08-06 15:37:49.713 | INFO     | io3d.misc:read_pkl_and_pklz:117 - Input gzip exception: Not a gzipped file (b'\\x80\\x04')\n"
     ]
    },
    {
     "name": "stdout",
     "output_type": "stream",
     "text": [
      "Reading H:\\biomedical\\orig\\pilsen_pigs_all\\transplantation_dicom\\Tx039D_Ven and writing H:\\biomedical\\orig\\pilsen_pigs_all\\transplantation_nii\\Tx039D_Ven\\Tx039D_Ven.nii.gz\n"
     ]
    },
    {
     "name": "stderr",
     "output_type": "stream",
     "text": [
      "2024-08-06 15:38:02.466 | WARNING  | io3d.dcmreaddata:get_metaData:550 - Depth of slices is not the same in beginning and end of the sequence\n",
      "2024-08-06 15:38:02.492 | WARNING  | io3d.datareader:Get3DData:205 - orientation_axcodes default value will be changed in the furture to 'LPS'\n",
      " 86%|████████▌ | 48/56 [11:26<02:21, 17.65s/it]2024-08-06 15:38:14.356 | INFO     | io3d.misc:read_pkl_and_pklz:117 - Input gzip exception: Not a gzipped file (b'\\x80\\x04')\n"
     ]
    },
    {
     "name": "stdout",
     "output_type": "stream",
     "text": [
      "Reading H:\\biomedical\\orig\\pilsen_pigs_all\\transplantation_dicom\\Tx040D_Ven and writing H:\\biomedical\\orig\\pilsen_pigs_all\\transplantation_nii\\Tx040D_Ven\\Tx040D_Ven.nii.gz\n"
     ]
    },
    {
     "name": "stderr",
     "output_type": "stream",
     "text": [
      "2024-08-06 15:38:25.296 | WARNING  | io3d.dcmreaddata:get_metaData:550 - Depth of slices is not the same in beginning and end of the sequence\n",
      "2024-08-06 15:38:25.311 | WARNING  | io3d.datareader:Get3DData:205 - orientation_axcodes default value will be changed in the furture to 'LPS'\n",
      " 88%|████████▊ | 49/56 [11:50<02:16, 19.50s/it]"
     ]
    },
    {
     "name": "stdout",
     "output_type": "stream",
     "text": [
      "Reading H:\\biomedical\\orig\\pilsen_pigs_all\\transplantation_dicom\\Tx041D_Ven and writing H:\\biomedical\\orig\\pilsen_pigs_all\\transplantation_nii\\Tx041D_Ven\\Tx041D_Ven.nii.gz\n"
     ]
    },
    {
     "name": "stderr",
     "output_type": "stream",
     "text": [
      "2024-08-06 15:38:39.409 | INFO     | io3d.misc:read_pkl_and_pklz:117 - Input gzip exception: Not a gzipped file (b'\\x80\\x04')\n",
      "2024-08-06 15:38:45.378 | WARNING  | io3d.datareader:Get3DData:205 - orientation_axcodes default value will be changed in the furture to 'LPS'\n",
      " 89%|████████▉ | 50/56 [12:09<01:57, 19.53s/it]2024-08-06 15:38:57.763 | INFO     | io3d.misc:read_pkl_and_pklz:117 - Input gzip exception: Not a gzipped file (b'\\x80\\x04')\n"
     ]
    },
    {
     "name": "stdout",
     "output_type": "stream",
     "text": [
      "Reading H:\\biomedical\\orig\\pilsen_pigs_all\\transplantation_dicom\\Tx042D_Ven and writing H:\\biomedical\\orig\\pilsen_pigs_all\\transplantation_nii\\Tx042D_Ven\\Tx042D_Ven.nii.gz\n"
     ]
    },
    {
     "name": "stderr",
     "output_type": "stream",
     "text": [
      "2024-08-06 15:39:15.135 | WARNING  | io3d.dcmreaddata:get_metaData:550 - Depth of slices is not the same in beginning and end of the sequence\n",
      "2024-08-06 15:39:15.165 | WARNING  | io3d.datareader:Get3DData:205 - orientation_axcodes default value will be changed in the furture to 'LPS'\n",
      " 91%|█████████ | 51/56 [12:39<01:52, 22.59s/it]2024-08-06 15:39:27.534 | INFO     | io3d.misc:read_pkl_and_pklz:117 - Input gzip exception: Not a gzipped file (b'\\x80\\x04')\n"
     ]
    },
    {
     "name": "stdout",
     "output_type": "stream",
     "text": [
      "Reading H:\\biomedical\\orig\\pilsen_pigs_all\\transplantation_dicom\\Tx043D_Ven and writing H:\\biomedical\\orig\\pilsen_pigs_all\\transplantation_nii\\Tx043D_Ven\\Tx043D_Ven.nii.gz\n"
     ]
    },
    {
     "name": "stderr",
     "output_type": "stream",
     "text": [
      "2024-08-06 15:39:34.887 | WARNING  | io3d.dcmreaddata:get_metaData:550 - Depth of slices is not the same in beginning and end of the sequence\n",
      "2024-08-06 15:39:34.895 | WARNING  | io3d.datareader:Get3DData:205 - orientation_axcodes default value will be changed in the furture to 'LPS'\n",
      " 93%|█████████▎| 52/56 [13:00<01:28, 22.10s/it]2024-08-06 15:39:48.444 | INFO     | io3d.misc:read_pkl_and_pklz:117 - Input gzip exception: Not a gzipped file (b'\\x80\\x04')\n"
     ]
    },
    {
     "name": "stdout",
     "output_type": "stream",
     "text": [
      "Reading H:\\biomedical\\orig\\pilsen_pigs_all\\transplantation_dicom\\Tx044D_Ven and writing H:\\biomedical\\orig\\pilsen_pigs_all\\transplantation_nii\\Tx044D_Ven\\Tx044D_Ven.nii.gz\n"
     ]
    },
    {
     "name": "stderr",
     "output_type": "stream",
     "text": [
      "2024-08-06 15:39:54.262 | WARNING  | io3d.datareader:Get3DData:205 - orientation_axcodes default value will be changed in the furture to 'LPS'\n",
      " 95%|█████████▍| 53/56 [13:17<01:01, 20.46s/it]2024-08-06 15:40:05.121 | INFO     | io3d.misc:read_pkl_and_pklz:117 - Input gzip exception: Not a gzipped file (b'\\x80\\x04')\n"
     ]
    },
    {
     "name": "stdout",
     "output_type": "stream",
     "text": [
      "Reading H:\\biomedical\\orig\\pilsen_pigs_all\\transplantation_dicom\\Tx045D_Ven and writing H:\\biomedical\\orig\\pilsen_pigs_all\\transplantation_nii\\Tx045D_Ven\\Tx045D_Ven.nii.gz\n"
     ]
    },
    {
     "name": "stderr",
     "output_type": "stream",
     "text": [
      "2024-08-06 15:40:11.554 | WARNING  | io3d.dcmreaddata:get_metaData:550 - Depth of slices is not the same in beginning and end of the sequence\n",
      "2024-08-06 15:40:11.562 | WARNING  | io3d.datareader:Get3DData:205 - orientation_axcodes default value will be changed in the furture to 'LPS'\n",
      " 96%|█████████▋| 54/56 [13:34<00:38, 19.49s/it]2024-08-06 15:40:22.321 | INFO     | io3d.misc:read_pkl_and_pklz:117 - Input gzip exception: Not a gzipped file (b'\\x80\\x04')\n"
     ]
    },
    {
     "name": "stdout",
     "output_type": "stream",
     "text": [
      "Reading H:\\biomedical\\orig\\pilsen_pigs_all\\transplantation_dicom\\Tx046D_Ven and writing H:\\biomedical\\orig\\pilsen_pigs_all\\transplantation_nii\\Tx046D_Ven\\Tx046D_Ven.nii.gz\n"
     ]
    },
    {
     "name": "stderr",
     "output_type": "stream",
     "text": [
      "2024-08-06 15:40:28.315 | WARNING  | io3d.dcmreaddata:get_metaData:550 - Depth of slices is not the same in beginning and end of the sequence\n",
      "2024-08-06 15:40:28.322 | WARNING  | io3d.datareader:Get3DData:205 - orientation_axcodes default value will be changed in the furture to 'LPS'\n",
      " 98%|█████████▊| 55/56 [13:50<00:18, 18.57s/it]2024-08-06 15:40:38.744 | INFO     | io3d.misc:read_pkl_and_pklz:117 - Input gzip exception: Not a gzipped file (b'\\x80\\x04')\n"
     ]
    },
    {
     "name": "stdout",
     "output_type": "stream",
     "text": [
      "Reading H:\\biomedical\\orig\\pilsen_pigs_all\\transplantation_dicom\\Tx047D_Ven and writing H:\\biomedical\\orig\\pilsen_pigs_all\\transplantation_nii\\Tx047D_Ven\\Tx047D_Ven.nii.gz\n"
     ]
    },
    {
     "name": "stderr",
     "output_type": "stream",
     "text": [
      "2024-08-06 15:40:43.905 | WARNING  | io3d.datareader:Get3DData:205 - orientation_axcodes default value will be changed in the furture to 'LPS'\n",
      "100%|██████████| 56/56 [14:04<00:00, 15.09s/it]\n"
     ]
    }
   ],
   "execution_count": 18
  },
  {
   "cell_type": "code",
   "source": [
    "import tqdm\n",
    "import time\n",
    "for i in tqdm.tqdm(range(100)):\n",
    "    #wait 0.1s\n",
    "    time.sleep(0.1)\n",
    "    "
   ],
   "metadata": {
    "collapsed": false,
    "ExecuteTime": {
     "end_time": "2024-08-06T13:41:04.033726Z",
     "start_time": "2024-08-06T13:40:52.798274Z"
    }
   },
   "id": "63874634d81bd692",
   "outputs": [
    {
     "name": "stderr",
     "output_type": "stream",
     "text": [
      "100%|██████████| 100/100 [00:10<00:00,  9.16it/s]\n"
     ]
    }
   ],
   "execution_count": 19
  },
  {
   "cell_type": "code",
   "source": [
    "metafn = base_path / \"meta.csv\"\n",
    "\n",
    "if metafn.exists():\n",
    "    df = pd.read_csv(metafn)\n",
    "else:\n",
    "    df = pd.DataFrame()\n"
   ],
   "metadata": {
    "collapsed": false,
    "ExecuteTime": {
     "end_time": "2024-08-06T13:41:04.125722Z",
     "start_time": "2024-08-06T13:41:04.034726Z"
    }
   },
   "id": "cdb38b01c5cf2015",
   "outputs": [],
   "execution_count": 20
  },
  {
   "cell_type": "code",
   "source": [
    "def create_meta(base_path, metafn):\n",
    "    data = {\n",
    "        \"dirname\": [],\n",
    "        \"dataset_type\": [],\n",
    "        \"id\": [],\n",
    "    }\n",
    "    i_train = 0\n",
    "    i_test = 0\n",
    "    i_val = 0\n",
    "    fnlist = base_path.glob(\"*Tx0*D_V*\")\n",
    "    logger.info(pformat(list(map(str, list(fnlist)))))\n",
    "    fnlist = base_path.glob(\"*Tx0*D_V*\")\n",
    "    for fn in fnlist:\n",
    "        ia = int(re.findall(r\"([0-9]+)\", fn.name)[0])\n",
    "        ii = None\n",
    "        tp = None\n",
    "        if (ia % 4) == 0:\n",
    "            i_test += 1\n",
    "            ii = i_test\n",
    "            tp = \"test\"\n",
    "        elif (ia % 2) == 0:\n",
    "            i_val += 1\n",
    "            ii = i_val\n",
    "            tp = \"val\"\n",
    "        else:\n",
    "            i_train += 1\n",
    "            ii = i_train\n",
    "            tp = \"train\"\n",
    "\n",
    "        data[\"dirname\"].append(fn.name)\n",
    "        data[\"dataset_type\"].append(tp)\n",
    "        data[\"id\"].append(ii)\n",
    "\n",
    "    df = pd.DataFrame(data)\n",
    "    df.to_csv(metafn, index=None)\n",
    "\n"
   ],
   "metadata": {
    "collapsed": false,
    "ExecuteTime": {
     "end_time": "2024-08-06T13:41:04.219626Z",
     "start_time": "2024-08-06T13:41:04.127724Z"
    }
   },
   "id": "901d6d23579d00d1",
   "outputs": [],
   "execution_count": 21
  },
  {
   "cell_type": "code",
   "source": [
    "if recreate_meta:\n",
    "    create_meta(base_path, metafn)\n"
   ],
   "metadata": {
    "collapsed": false,
    "ExecuteTime": {
     "end_time": "2024-08-06T13:41:04.343612Z",
     "start_time": "2024-08-06T13:41:04.220594Z"
    }
   },
   "id": "c43d5ade6a8fd19e",
   "outputs": [
    {
     "name": "stderr",
     "output_type": "stream",
     "text": [
      "2024-08-06 15:41:04.294 | INFO     | __main__:create_meta:11 - ['H:\\\\biomedical\\\\orig\\\\pilsen_pigs_all\\\\transplantation_dicom\\\\Tx017D_Ven',\n",
      " 'H:\\\\biomedical\\\\orig\\\\pilsen_pigs_all\\\\transplantation_dicom\\\\Tx018D_Ven',\n",
      " 'H:\\\\biomedical\\\\orig\\\\pilsen_pigs_all\\\\transplantation_dicom\\\\Tx019D_Ven',\n",
      " 'H:\\\\biomedical\\\\orig\\\\pilsen_pigs_all\\\\transplantation_dicom\\\\Tx021D_Ven',\n",
      " 'H:\\\\biomedical\\\\orig\\\\pilsen_pigs_all\\\\transplantation_dicom\\\\Tx022D_Ven',\n",
      " 'H:\\\\biomedical\\\\orig\\\\pilsen_pigs_all\\\\transplantation_dicom\\\\Tx023D_Ven',\n",
      " 'H:\\\\biomedical\\\\orig\\\\pilsen_pigs_all\\\\transplantation_dicom\\\\Tx024D_Ven',\n",
      " 'H:\\\\biomedical\\\\orig\\\\pilsen_pigs_all\\\\transplantation_dicom\\\\Tx025D_Ven',\n",
      " 'H:\\\\biomedical\\\\orig\\\\pilsen_pigs_all\\\\transplantation_dicom\\\\Tx026D_Ven',\n",
      " 'H:\\\\biomedical\\\\orig\\\\pilsen_pigs_all\\\\transplantation_dicom\\\\Tx027D_Ven',\n",
      " 'H:\\\\biomedical\\\\orig\\\\pilsen_pigs_all\\\\transplantation_dicom\\\\Tx028D_Ven',\n",
      " 'H:\\\\biomedical\\\\orig\\\\pilsen_pigs_all\\\\transplantation_dicom\\\\Tx029D_Ven',\n",
      " 'H:\\\\biomedical\\\\orig\\\\pilsen_pigs_all\\\\transplantation_dicom\\\\Tx030D_Ven',\n",
      " 'H:\\\\biomedical\\\\orig\\\\pilsen_pigs_all\\\\transplantation_dicom\\\\Tx031D_Ven',\n",
      " 'H:\\\\biomedical\\\\orig\\\\pilsen_pigs_all\\\\transplantation_dicom\\\\Tx032D_Ven',\n",
      " 'H:\\\\biomedical\\\\orig\\\\pilsen_pigs_all\\\\transplantation_dicom\\\\Tx033D_Ven',\n",
      " 'H:\\\\biomedical\\\\orig\\\\pilsen_pigs_all\\\\transplantation_dicom\\\\Tx034D_Ven',\n",
      " 'H:\\\\biomedical\\\\orig\\\\pilsen_pigs_all\\\\transplantation_dicom\\\\Tx035D_Ven',\n",
      " 'H:\\\\biomedical\\\\orig\\\\pilsen_pigs_all\\\\transplantation_dicom\\\\Tx036D_Ven',\n",
      " 'H:\\\\biomedical\\\\orig\\\\pilsen_pigs_all\\\\transplantation_dicom\\\\Tx037D_Ven',\n",
      " 'H:\\\\biomedical\\\\orig\\\\pilsen_pigs_all\\\\transplantation_dicom\\\\Tx038D_Ven',\n",
      " 'H:\\\\biomedical\\\\orig\\\\pilsen_pigs_all\\\\transplantation_dicom\\\\Tx039D_Ven',\n",
      " 'H:\\\\biomedical\\\\orig\\\\pilsen_pigs_all\\\\transplantation_dicom\\\\Tx040D_Ven',\n",
      " 'H:\\\\biomedical\\\\orig\\\\pilsen_pigs_all\\\\transplantation_dicom\\\\Tx041D_Ven',\n",
      " 'H:\\\\biomedical\\\\orig\\\\pilsen_pigs_all\\\\transplantation_dicom\\\\Tx042D_Ven',\n",
      " 'H:\\\\biomedical\\\\orig\\\\pilsen_pigs_all\\\\transplantation_dicom\\\\Tx043D_Ven',\n",
      " 'H:\\\\biomedical\\\\orig\\\\pilsen_pigs_all\\\\transplantation_dicom\\\\Tx044D_Ven',\n",
      " 'H:\\\\biomedical\\\\orig\\\\pilsen_pigs_all\\\\transplantation_dicom\\\\Tx045D_Ven',\n",
      " 'H:\\\\biomedical\\\\orig\\\\pilsen_pigs_all\\\\transplantation_dicom\\\\Tx046D_Ven',\n",
      " 'H:\\\\biomedical\\\\orig\\\\pilsen_pigs_all\\\\transplantation_dicom\\\\Tx047D_Ven']\n"
     ]
    }
   ],
   "execution_count": 22
  },
  {
   "cell_type": "code",
   "source": [
    "\n",
    "logger.debug(metafn.exists())\n",
    "df = pd.read_csv(metafn)\n",
    "print(df)\n"
   ],
   "metadata": {
    "collapsed": false,
    "ExecuteTime": {
     "end_time": "2024-08-06T13:41:04.450610Z",
     "start_time": "2024-08-06T13:41:04.346613Z"
    }
   },
   "id": "d462d1f24f46fb6b",
   "outputs": [
    {
     "name": "stderr",
     "output_type": "stream",
     "text": [
      "2024-08-06 15:41:04.417 | DEBUG    | __main__:<module>:1 - True\n"
     ]
    },
    {
     "name": "stdout",
     "output_type": "stream",
     "text": [
      "       dirname dataset_type  id\n",
      "0   Tx017D_Ven        train   1\n",
      "1   Tx018D_Ven          val   1\n",
      "2   Tx019D_Ven        train   2\n",
      "3   Tx021D_Ven        train   3\n",
      "4   Tx022D_Ven          val   2\n",
      "5   Tx023D_Ven        train   4\n",
      "6   Tx024D_Ven         test   1\n",
      "7   Tx025D_Ven        train   5\n",
      "8   Tx026D_Ven          val   3\n",
      "9   Tx027D_Ven        train   6\n",
      "10  Tx028D_Ven         test   2\n",
      "11  Tx029D_Ven        train   7\n",
      "12  Tx030D_Ven          val   4\n",
      "13  Tx031D_Ven        train   8\n",
      "14  Tx032D_Ven         test   3\n",
      "15  Tx033D_Ven        train   9\n",
      "16  Tx034D_Ven          val   5\n",
      "17  Tx035D_Ven        train  10\n",
      "18  Tx036D_Ven         test   4\n",
      "19  Tx037D_Ven        train  11\n",
      "20  Tx038D_Ven          val   6\n",
      "21  Tx039D_Ven        train  12\n",
      "22  Tx040D_Ven         test   5\n",
      "23  Tx041D_Ven        train  13\n",
      "24  Tx042D_Ven          val   7\n",
      "25  Tx043D_Ven        train  14\n",
      "26  Tx044D_Ven         test   6\n",
      "27  Tx045D_Ven        train  15\n",
      "28  Tx046D_Ven          val   8\n",
      "29  Tx047D_Ven        train  16\n"
     ]
    }
   ],
   "execution_count": 23
  },
  {
   "cell_type": "code",
   "source": [
    "# fnlist = base_path.glob(\"*debug*\")\n",
    "# fnlist = base_path.glob(\"*Tx041D_V*\")\n",
    "\n",
    "\n",
    "for i, row in tqdm.tqdm(df.iterrows()):\n",
    "    fn_in = base_path / row[\"dirname\"]\n",
    "    fn_out = (\n",
    "            output_path\n",
    "            / row[\"dataset_type\"]\n",
    "            / f\"PP_{row['id']:04}\"\n",
    "            / \"PATIENT_DICOM\"\n",
    "            / f\"PP_{row['id']:04}.mhd\"\n",
    "    )\n",
    "    fn_meta = fn_out.parent / \"meta.json\"\n",
    "    logger.debug(fn_in)\n",
    "    logger.debug(fn_out)\n",
    "\n",
    "    fn_out.parent.mkdir(parents=True, exist_ok=True)\n",
    "    if (\n",
    "            not fn_meta.exists()\n",
    "    ):  # we do not need to read the data again if everything is done. We are checkin:w\n",
    "\n",
    "        tqdm.tqdm.write(f\"Reading {fn_in} and writing {fn_out}\")\n",
    "        datap = io3d.read(fn_in)\n",
    "        io3d.write(datap, fn_out)\n",
    "        with open(fn_meta, \"w\") as f:\n",
    "            json.dump(dict(row), f)\n"
   ],
   "metadata": {
    "collapsed": false,
    "ExecuteTime": {
     "end_time": "2024-08-06T13:46:05.821008Z",
     "start_time": "2024-08-06T13:41:04.451630Z"
    }
   },
   "id": "bd73f9f3ee6a1b09",
   "outputs": [
    {
     "name": "stderr",
     "output_type": "stream",
     "text": [
      "0it [00:00, ?it/s]2024-08-06 15:41:04.526 | DEBUG    | __main__:<module>:15 - H:\\biomedical\\orig\\pilsen_pigs_all\\transplantation_dicom\\Tx017D_Ven\n",
      "2024-08-06 15:41:04.527 | DEBUG    | __main__:<module>:16 - H:\\biomedical\\orig\\pilsen_pigs\\train\\PP_0001\\PATIENT_DICOM\\PP_0001.mhd\n",
      "0it [00:00, ?it/s]"
     ]
    },
    {
     "name": "stdout",
     "output_type": "stream",
     "text": [
      "Reading H:\\biomedical\\orig\\pilsen_pigs_all\\transplantation_dicom\\Tx017D_Ven and writing H:\\biomedical\\orig\\pilsen_pigs\\train\\PP_0001\\PATIENT_DICOM\\PP_0001.mhd\n"
     ]
    },
    {
     "name": "stderr",
     "output_type": "stream",
     "text": [
      "2024-08-06 15:41:04.664 | INFO     | io3d.misc:read_pkl_and_pklz:117 - Input gzip exception: Not a gzipped file (b'\\x80\\x04')\n",
      "2024-08-06 15:41:05.746 | WARNING  | io3d.dcmreaddata:get_metaData:550 - Depth of slices is not the same in beginning and end of the sequence\n",
      "2024-08-06 15:41:05.752 | WARNING  | io3d.datareader:Get3DData:205 - orientation_axcodes default value will be changed in the furture to 'LPS'\n",
      "1it [00:01,  1.76s/it]2024-08-06 15:41:06.282 | DEBUG    | __main__:<module>:15 - H:\\biomedical\\orig\\pilsen_pigs_all\\transplantation_dicom\\Tx018D_Ven\n",
      "2024-08-06 15:41:06.284 | DEBUG    | __main__:<module>:16 - H:\\biomedical\\orig\\pilsen_pigs\\val\\PP_0001\\PATIENT_DICOM\\PP_0001.mhd\n",
      "1it [00:01,  1.76s/it]2024-08-06 15:41:06.360 | INFO     | io3d.misc:read_pkl_and_pklz:117 - Input gzip exception: Not a gzipped file (b'\\x80\\x04')\n"
     ]
    },
    {
     "name": "stdout",
     "output_type": "stream",
     "text": [
      "Reading H:\\biomedical\\orig\\pilsen_pigs_all\\transplantation_dicom\\Tx018D_Ven and writing H:\\biomedical\\orig\\pilsen_pigs\\val\\PP_0001\\PATIENT_DICOM\\PP_0001.mhd\n"
     ]
    },
    {
     "name": "stderr",
     "output_type": "stream",
     "text": [
      "2024-08-06 15:41:10.693 | WARNING  | io3d.datareader:Get3DData:205 - orientation_axcodes default value will be changed in the furture to 'LPS'\n",
      "2it [00:07,  3.93s/it]2024-08-06 15:41:11.737 | DEBUG    | __main__:<module>:15 - H:\\biomedical\\orig\\pilsen_pigs_all\\transplantation_dicom\\Tx019D_Ven\n",
      "2024-08-06 15:41:11.738 | DEBUG    | __main__:<module>:16 - H:\\biomedical\\orig\\pilsen_pigs\\train\\PP_0002\\PATIENT_DICOM\\PP_0002.mhd\n",
      "2it [00:07,  3.93s/it]2024-08-06 15:41:11.861 | INFO     | io3d.misc:read_pkl_and_pklz:117 - Input gzip exception: Not a gzipped file (b'\\x80\\x04')\n"
     ]
    },
    {
     "name": "stdout",
     "output_type": "stream",
     "text": [
      "Reading H:\\biomedical\\orig\\pilsen_pigs_all\\transplantation_dicom\\Tx019D_Ven and writing H:\\biomedical\\orig\\pilsen_pigs\\train\\PP_0002\\PATIENT_DICOM\\PP_0002.mhd\n"
     ]
    },
    {
     "name": "stderr",
     "output_type": "stream",
     "text": [
      "2024-08-06 15:41:16.214 | WARNING  | io3d.datareader:Get3DData:205 - orientation_axcodes default value will be changed in the furture to 'LPS'\n",
      "3it [00:12,  4.66s/it]2024-08-06 15:41:17.263 | DEBUG    | __main__:<module>:15 - H:\\biomedical\\orig\\pilsen_pigs_all\\transplantation_dicom\\Tx021D_Ven\n",
      "2024-08-06 15:41:17.264 | DEBUG    | __main__:<module>:16 - H:\\biomedical\\orig\\pilsen_pigs\\train\\PP_0003\\PATIENT_DICOM\\PP_0003.mhd\n",
      "3it [00:12,  4.66s/it]2024-08-06 15:41:17.355 | INFO     | io3d.misc:read_pkl_and_pklz:117 - Input gzip exception: Not a gzipped file (b'\\x80\\x04')\n"
     ]
    },
    {
     "name": "stdout",
     "output_type": "stream",
     "text": [
      "Reading H:\\biomedical\\orig\\pilsen_pigs_all\\transplantation_dicom\\Tx021D_Ven and writing H:\\biomedical\\orig\\pilsen_pigs\\train\\PP_0003\\PATIENT_DICOM\\PP_0003.mhd\n"
     ]
    },
    {
     "name": "stderr",
     "output_type": "stream",
     "text": [
      "2024-08-06 15:41:22.729 | WARNING  | io3d.dcmreaddata:get_metaData:550 - Depth of slices is not the same in beginning and end of the sequence\n",
      "2024-08-06 15:41:22.735 | WARNING  | io3d.datareader:Get3DData:205 - orientation_axcodes default value will be changed in the furture to 'LPS'\n",
      "4it [00:19,  5.48s/it]2024-08-06 15:41:23.996 | DEBUG    | __main__:<module>:15 - H:\\biomedical\\orig\\pilsen_pigs_all\\transplantation_dicom\\Tx022D_Ven\n",
      "2024-08-06 15:41:23.996 | DEBUG    | __main__:<module>:16 - H:\\biomedical\\orig\\pilsen_pigs\\val\\PP_0002\\PATIENT_DICOM\\PP_0002.mhd\n",
      "4it [00:19,  5.48s/it]2024-08-06 15:41:24.070 | INFO     | io3d.misc:read_pkl_and_pklz:117 - Input gzip exception: Not a gzipped file (b'\\x80\\x04')\n"
     ]
    },
    {
     "name": "stdout",
     "output_type": "stream",
     "text": [
      "Reading H:\\biomedical\\orig\\pilsen_pigs_all\\transplantation_dicom\\Tx022D_Ven and writing H:\\biomedical\\orig\\pilsen_pigs\\val\\PP_0002\\PATIENT_DICOM\\PP_0002.mhd\n"
     ]
    },
    {
     "name": "stderr",
     "output_type": "stream",
     "text": [
      "2024-08-06 15:41:29.094 | WARNING  | io3d.datareader:Get3DData:205 - orientation_axcodes default value will be changed in the furture to 'LPS'\n",
      "5it [00:25,  5.79s/it]2024-08-06 15:41:30.333 | DEBUG    | __main__:<module>:15 - H:\\biomedical\\orig\\pilsen_pigs_all\\transplantation_dicom\\Tx023D_Ven\n",
      "2024-08-06 15:41:30.334 | DEBUG    | __main__:<module>:16 - H:\\biomedical\\orig\\pilsen_pigs\\train\\PP_0004\\PATIENT_DICOM\\PP_0004.mhd\n",
      "5it [00:25,  5.79s/it]2024-08-06 15:41:30.411 | INFO     | io3d.misc:read_pkl_and_pklz:117 - Input gzip exception: Not a gzipped file (b'\\x80\\x04')\n"
     ]
    },
    {
     "name": "stdout",
     "output_type": "stream",
     "text": [
      "Reading H:\\biomedical\\orig\\pilsen_pigs_all\\transplantation_dicom\\Tx023D_Ven and writing H:\\biomedical\\orig\\pilsen_pigs\\train\\PP_0004\\PATIENT_DICOM\\PP_0004.mhd\n"
     ]
    },
    {
     "name": "stderr",
     "output_type": "stream",
     "text": [
      "2024-08-06 15:41:34.437 | WARNING  | io3d.dcmreaddata:get_metaData:550 - Depth of slices is not the same in beginning and end of the sequence\n",
      "2024-08-06 15:41:34.443 | WARNING  | io3d.datareader:Get3DData:205 - orientation_axcodes default value will be changed in the furture to 'LPS'\n",
      "6it [00:30,  5.55s/it]2024-08-06 15:41:35.411 | DEBUG    | __main__:<module>:15 - H:\\biomedical\\orig\\pilsen_pigs_all\\transplantation_dicom\\Tx024D_Ven\n",
      "2024-08-06 15:41:35.411 | DEBUG    | __main__:<module>:16 - H:\\biomedical\\orig\\pilsen_pigs\\test\\PP_0001\\PATIENT_DICOM\\PP_0001.mhd\n",
      "6it [00:30,  5.55s/it]2024-08-06 15:41:35.501 | INFO     | io3d.misc:read_pkl_and_pklz:117 - Input gzip exception: Not a gzipped file (b'\\x80\\x04')\n"
     ]
    },
    {
     "name": "stdout",
     "output_type": "stream",
     "text": [
      "Reading H:\\biomedical\\orig\\pilsen_pigs_all\\transplantation_dicom\\Tx024D_Ven and writing H:\\biomedical\\orig\\pilsen_pigs\\test\\PP_0001\\PATIENT_DICOM\\PP_0001.mhd\n"
     ]
    },
    {
     "name": "stderr",
     "output_type": "stream",
     "text": [
      "2024-08-06 15:41:40.876 | WARNING  | io3d.dcmreaddata:get_metaData:550 - Depth of slices is not the same in beginning and end of the sequence\n",
      "2024-08-06 15:41:40.885 | WARNING  | io3d.datareader:Get3DData:205 - orientation_axcodes default value will be changed in the furture to 'LPS'\n",
      "7it [00:37,  5.98s/it]2024-08-06 15:41:42.288 | DEBUG    | __main__:<module>:15 - H:\\biomedical\\orig\\pilsen_pigs_all\\transplantation_dicom\\Tx025D_Ven\n",
      "2024-08-06 15:41:42.288 | DEBUG    | __main__:<module>:16 - H:\\biomedical\\orig\\pilsen_pigs\\train\\PP_0005\\PATIENT_DICOM\\PP_0005.mhd\n",
      "7it [00:37,  5.98s/it]2024-08-06 15:41:42.365 | INFO     | io3d.misc:read_pkl_and_pklz:117 - Input gzip exception: Not a gzipped file (b'\\x80\\x04')\n"
     ]
    },
    {
     "name": "stdout",
     "output_type": "stream",
     "text": [
      "Reading H:\\biomedical\\orig\\pilsen_pigs_all\\transplantation_dicom\\Tx025D_Ven and writing H:\\biomedical\\orig\\pilsen_pigs\\train\\PP_0005\\PATIENT_DICOM\\PP_0005.mhd\n"
     ]
    },
    {
     "name": "stderr",
     "output_type": "stream",
     "text": [
      "2024-08-06 15:41:45.776 | WARNING  | io3d.datareader:Get3DData:205 - orientation_axcodes default value will be changed in the furture to 'LPS'\n",
      "8it [00:42,  5.48s/it]2024-08-06 15:41:46.700 | DEBUG    | __main__:<module>:15 - H:\\biomedical\\orig\\pilsen_pigs_all\\transplantation_dicom\\Tx026D_Ven\n",
      "2024-08-06 15:41:46.700 | DEBUG    | __main__:<module>:16 - H:\\biomedical\\orig\\pilsen_pigs\\val\\PP_0003\\PATIENT_DICOM\\PP_0003.mhd\n",
      "8it [00:42,  5.48s/it]2024-08-06 15:41:46.800 | INFO     | io3d.misc:read_pkl_and_pklz:117 - Input gzip exception: Not a gzipped file (b'\\x80\\x04')\n"
     ]
    },
    {
     "name": "stdout",
     "output_type": "stream",
     "text": [
      "Reading H:\\biomedical\\orig\\pilsen_pigs_all\\transplantation_dicom\\Tx026D_Ven and writing H:\\biomedical\\orig\\pilsen_pigs\\val\\PP_0003\\PATIENT_DICOM\\PP_0003.mhd\n"
     ]
    },
    {
     "name": "stderr",
     "output_type": "stream",
     "text": [
      "2024-08-06 15:41:53.344 | WARNING  | io3d.datareader:Get3DData:205 - orientation_axcodes default value will be changed in the furture to 'LPS'\n",
      "9it [00:50,  6.40s/it]2024-08-06 15:41:55.133 | DEBUG    | __main__:<module>:15 - H:\\biomedical\\orig\\pilsen_pigs_all\\transplantation_dicom\\Tx027D_Ven\n",
      "2024-08-06 15:41:55.134 | DEBUG    | __main__:<module>:16 - H:\\biomedical\\orig\\pilsen_pigs\\train\\PP_0006\\PATIENT_DICOM\\PP_0006.mhd\n",
      "9it [00:50,  6.40s/it]2024-08-06 15:41:55.229 | INFO     | io3d.misc:read_pkl_and_pklz:117 - Input gzip exception: Not a gzipped file (b'\\x80\\x04')\n"
     ]
    },
    {
     "name": "stdout",
     "output_type": "stream",
     "text": [
      "Reading H:\\biomedical\\orig\\pilsen_pigs_all\\transplantation_dicom\\Tx027D_Ven and writing H:\\biomedical\\orig\\pilsen_pigs\\train\\PP_0006\\PATIENT_DICOM\\PP_0006.mhd\n"
     ]
    },
    {
     "name": "stderr",
     "output_type": "stream",
     "text": [
      "2024-08-06 15:42:00.487 | WARNING  | io3d.datareader:Get3DData:205 - orientation_axcodes default value will be changed in the furture to 'LPS'\n",
      "10it [00:57,  6.52s/it]2024-08-06 15:42:01.912 | DEBUG    | __main__:<module>:15 - H:\\biomedical\\orig\\pilsen_pigs_all\\transplantation_dicom\\Tx028D_Ven\n",
      "2024-08-06 15:42:01.913 | DEBUG    | __main__:<module>:16 - H:\\biomedical\\orig\\pilsen_pigs\\test\\PP_0002\\PATIENT_DICOM\\PP_0002.mhd\n",
      "10it [00:57,  6.52s/it]2024-08-06 15:42:02.011 | INFO     | io3d.misc:read_pkl_and_pklz:117 - Input gzip exception: Not a gzipped file (b'\\x80\\x04')\n"
     ]
    },
    {
     "name": "stdout",
     "output_type": "stream",
     "text": [
      "Reading H:\\biomedical\\orig\\pilsen_pigs_all\\transplantation_dicom\\Tx028D_Ven and writing H:\\biomedical\\orig\\pilsen_pigs\\test\\PP_0002\\PATIENT_DICOM\\PP_0002.mhd\n"
     ]
    },
    {
     "name": "stderr",
     "output_type": "stream",
     "text": [
      "2024-08-06 15:42:07.281 | WARNING  | io3d.dcmreaddata:get_metaData:550 - Depth of slices is not the same in beginning and end of the sequence\n",
      "2024-08-06 15:42:07.287 | WARNING  | io3d.datareader:Get3DData:205 - orientation_axcodes default value will be changed in the furture to 'LPS'\n",
      "11it [01:04,  6.58s/it]2024-08-06 15:42:08.628 | DEBUG    | __main__:<module>:15 - H:\\biomedical\\orig\\pilsen_pigs_all\\transplantation_dicom\\Tx029D_Ven\n",
      "2024-08-06 15:42:08.629 | DEBUG    | __main__:<module>:16 - H:\\biomedical\\orig\\pilsen_pigs\\train\\PP_0007\\PATIENT_DICOM\\PP_0007.mhd\n",
      "11it [01:04,  6.58s/it]2024-08-06 15:42:08.718 | INFO     | io3d.misc:read_pkl_and_pklz:117 - Input gzip exception: Not a gzipped file (b'\\x80\\x04')\n"
     ]
    },
    {
     "name": "stdout",
     "output_type": "stream",
     "text": [
      "Reading H:\\biomedical\\orig\\pilsen_pigs_all\\transplantation_dicom\\Tx029D_Ven and writing H:\\biomedical\\orig\\pilsen_pigs\\train\\PP_0007\\PATIENT_DICOM\\PP_0007.mhd\n"
     ]
    },
    {
     "name": "stderr",
     "output_type": "stream",
     "text": [
      "2024-08-06 15:42:14.388 | WARNING  | io3d.datareader:Get3DData:205 - orientation_axcodes default value will be changed in the furture to 'LPS'\n",
      "12it [01:11,  6.77s/it]2024-08-06 15:42:15.838 | DEBUG    | __main__:<module>:15 - H:\\biomedical\\orig\\pilsen_pigs_all\\transplantation_dicom\\Tx030D_Ven\n",
      "2024-08-06 15:42:15.839 | DEBUG    | __main__:<module>:16 - H:\\biomedical\\orig\\pilsen_pigs\\val\\PP_0004\\PATIENT_DICOM\\PP_0004.mhd\n",
      "12it [01:11,  6.77s/it]2024-08-06 15:42:15.955 | INFO     | io3d.misc:read_pkl_and_pklz:117 - Input gzip exception: Not a gzipped file (b'\\x80\\x04')\n"
     ]
    },
    {
     "name": "stdout",
     "output_type": "stream",
     "text": [
      "Reading H:\\biomedical\\orig\\pilsen_pigs_all\\transplantation_dicom\\Tx030D_Ven and writing H:\\biomedical\\orig\\pilsen_pigs\\val\\PP_0004\\PATIENT_DICOM\\PP_0004.mhd\n"
     ]
    },
    {
     "name": "stderr",
     "output_type": "stream",
     "text": [
      "2024-08-06 15:42:21.571 | WARNING  | io3d.datareader:Get3DData:205 - orientation_axcodes default value will be changed in the furture to 'LPS'\n",
      "13it [01:18,  6.91s/it]2024-08-06 15:42:23.084 | DEBUG    | __main__:<module>:15 - H:\\biomedical\\orig\\pilsen_pigs_all\\transplantation_dicom\\Tx031D_Ven\n",
      "2024-08-06 15:42:23.085 | DEBUG    | __main__:<module>:16 - H:\\biomedical\\orig\\pilsen_pigs\\train\\PP_0008\\PATIENT_DICOM\\PP_0008.mhd\n",
      "13it [01:18,  6.91s/it]"
     ]
    },
    {
     "name": "stdout",
     "output_type": "stream",
     "text": [
      "Reading H:\\biomedical\\orig\\pilsen_pigs_all\\transplantation_dicom\\Tx031D_Ven and writing H:\\biomedical\\orig\\pilsen_pigs\\train\\PP_0008\\PATIENT_DICOM\\PP_0008.mhd\n"
     ]
    },
    {
     "name": "stderr",
     "output_type": "stream",
     "text": [
      "2024-08-06 15:42:23.327 | INFO     | io3d.misc:read_pkl_and_pklz:117 - Input gzip exception: Not a gzipped file (b'\\x80\\x04')\n"
     ]
    },
    {
     "name": "stdout",
     "output_type": "stream",
     "text": [
      "series\n",
      "7 (806, CT, ThorAbd_Ven  0,80  Br40  S3, \r\n",
      ", 20200428)\n",
      "8 (1065, CT, ThorAbd_Ven  0,80  Br40  S3, \r\n",
      ", 20200420)\n",
      "\n"
     ]
    },
    {
     "name": "stderr",
     "output_type": "stream",
     "text": [
      "2024-08-06 15:44:01.659 | WARNING  | io3d.datareader:Get3DData:205 - orientation_axcodes default value will be changed in the furture to 'LPS'\n",
      "14it [02:58, 34.96s/it]2024-08-06 15:44:02.851 | DEBUG    | __main__:<module>:15 - H:\\biomedical\\orig\\pilsen_pigs_all\\transplantation_dicom\\Tx032D_Ven\n",
      "2024-08-06 15:44:02.851 | DEBUG    | __main__:<module>:16 - H:\\biomedical\\orig\\pilsen_pigs\\test\\PP_0003\\PATIENT_DICOM\\PP_0003.mhd\n",
      "14it [02:58, 34.96s/it]"
     ]
    },
    {
     "name": "stdout",
     "output_type": "stream",
     "text": [
      "Reading H:\\biomedical\\orig\\pilsen_pigs_all\\transplantation_dicom\\Tx032D_Ven and writing H:\\biomedical\\orig\\pilsen_pigs\\test\\PP_0003\\PATIENT_DICOM\\PP_0003.mhd\n"
     ]
    },
    {
     "name": "stderr",
     "output_type": "stream",
     "text": [
      "2024-08-06 15:44:03.095 | INFO     | io3d.misc:read_pkl_and_pklz:117 - Input gzip exception: Not a gzipped file (b'\\x80\\x04')\n",
      "2024-08-06 15:44:07.547 | WARNING  | io3d.datareader:Get3DData:205 - orientation_axcodes default value will be changed in the furture to 'LPS'\n",
      "15it [03:04, 26.21s/it]2024-08-06 15:44:08.797 | DEBUG    | __main__:<module>:15 - H:\\biomedical\\orig\\pilsen_pigs_all\\transplantation_dicom\\Tx033D_Ven\n",
      "2024-08-06 15:44:08.798 | DEBUG    | __main__:<module>:16 - H:\\biomedical\\orig\\pilsen_pigs\\train\\PP_0009\\PATIENT_DICOM\\PP_0009.mhd\n",
      "15it [03:04, 26.21s/it]2024-08-06 15:44:08.891 | INFO     | io3d.misc:read_pkl_and_pklz:117 - Input gzip exception: Not a gzipped file (b'\\x80\\x04')\n"
     ]
    },
    {
     "name": "stdout",
     "output_type": "stream",
     "text": [
      "Reading H:\\biomedical\\orig\\pilsen_pigs_all\\transplantation_dicom\\Tx033D_Ven and writing H:\\biomedical\\orig\\pilsen_pigs\\train\\PP_0009\\PATIENT_DICOM\\PP_0009.mhd\n"
     ]
    },
    {
     "name": "stderr",
     "output_type": "stream",
     "text": [
      "2024-08-06 15:44:13.105 | WARNING  | io3d.datareader:Get3DData:205 - orientation_axcodes default value will be changed in the furture to 'LPS'\n",
      "16it [03:09, 20.01s/it]2024-08-06 15:44:14.382 | DEBUG    | __main__:<module>:15 - H:\\biomedical\\orig\\pilsen_pigs_all\\transplantation_dicom\\Tx034D_Ven\n",
      "2024-08-06 15:44:14.383 | DEBUG    | __main__:<module>:16 - H:\\biomedical\\orig\\pilsen_pigs\\val\\PP_0005\\PATIENT_DICOM\\PP_0005.mhd\n",
      "16it [03:09, 20.01s/it]2024-08-06 15:44:14.477 | INFO     | io3d.misc:read_pkl_and_pklz:117 - Input gzip exception: Not a gzipped file (b'\\x80\\x04')\n"
     ]
    },
    {
     "name": "stdout",
     "output_type": "stream",
     "text": [
      "Reading H:\\biomedical\\orig\\pilsen_pigs_all\\transplantation_dicom\\Tx034D_Ven and writing H:\\biomedical\\orig\\pilsen_pigs\\val\\PP_0005\\PATIENT_DICOM\\PP_0005.mhd\n"
     ]
    },
    {
     "name": "stderr",
     "output_type": "stream",
     "text": [
      "2024-08-06 15:44:21.018 | WARNING  | io3d.dcmreaddata:get_metaData:550 - Depth of slices is not the same in beginning and end of the sequence\n",
      "2024-08-06 15:44:21.032 | WARNING  | io3d.datareader:Get3DData:205 - orientation_axcodes default value will be changed in the furture to 'LPS'\n",
      "17it [03:18, 16.51s/it]2024-08-06 15:44:22.766 | DEBUG    | __main__:<module>:15 - H:\\biomedical\\orig\\pilsen_pigs_all\\transplantation_dicom\\Tx035D_Ven\n",
      "2024-08-06 15:44:22.767 | DEBUG    | __main__:<module>:16 - H:\\biomedical\\orig\\pilsen_pigs\\train\\PP_0010\\PATIENT_DICOM\\PP_0010.mhd\n",
      "17it [03:18, 16.51s/it]2024-08-06 15:44:22.838 | INFO     | io3d.misc:read_pkl_and_pklz:117 - Input gzip exception: Not a gzipped file (b'\\x80\\x04')\n"
     ]
    },
    {
     "name": "stdout",
     "output_type": "stream",
     "text": [
      "Reading H:\\biomedical\\orig\\pilsen_pigs_all\\transplantation_dicom\\Tx035D_Ven and writing H:\\biomedical\\orig\\pilsen_pigs\\train\\PP_0010\\PATIENT_DICOM\\PP_0010.mhd\n"
     ]
    },
    {
     "name": "stderr",
     "output_type": "stream",
     "text": [
      "2024-08-06 15:44:27.862 | WARNING  | io3d.datareader:Get3DData:205 - orientation_axcodes default value will be changed in the furture to 'LPS'\n",
      "18it [03:24, 13.53s/it]2024-08-06 15:44:29.340 | DEBUG    | __main__:<module>:15 - H:\\biomedical\\orig\\pilsen_pigs_all\\transplantation_dicom\\Tx036D_Ven\n",
      "2024-08-06 15:44:29.341 | DEBUG    | __main__:<module>:16 - H:\\biomedical\\orig\\pilsen_pigs\\test\\PP_0004\\PATIENT_DICOM\\PP_0004.mhd\n",
      "18it [03:24, 13.53s/it]2024-08-06 15:44:29.401 | INFO     | io3d.misc:read_pkl_and_pklz:117 - Input gzip exception: Not a gzipped file (b'\\x80\\x04')\n"
     ]
    },
    {
     "name": "stdout",
     "output_type": "stream",
     "text": [
      "Reading H:\\biomedical\\orig\\pilsen_pigs_all\\transplantation_dicom\\Tx036D_Ven and writing H:\\biomedical\\orig\\pilsen_pigs\\test\\PP_0004\\PATIENT_DICOM\\PP_0004.mhd\n"
     ]
    },
    {
     "name": "stderr",
     "output_type": "stream",
     "text": [
      "2024-08-06 15:44:33.903 | WARNING  | io3d.datareader:Get3DData:205 - orientation_axcodes default value will be changed in the furture to 'LPS'\n",
      "19it [03:30, 11.25s/it]2024-08-06 15:44:35.306 | DEBUG    | __main__:<module>:15 - H:\\biomedical\\orig\\pilsen_pigs_all\\transplantation_dicom\\Tx037D_Ven\n",
      "2024-08-06 15:44:35.306 | DEBUG    | __main__:<module>:16 - H:\\biomedical\\orig\\pilsen_pigs\\train\\PP_0011\\PATIENT_DICOM\\PP_0011.mhd\n",
      "19it [03:30, 11.25s/it]"
     ]
    },
    {
     "name": "stdout",
     "output_type": "stream",
     "text": [
      "Reading H:\\biomedical\\orig\\pilsen_pigs_all\\transplantation_dicom\\Tx037D_Ven and writing H:\\biomedical\\orig\\pilsen_pigs\\train\\PP_0011\\PATIENT_DICOM\\PP_0011.mhd\n"
     ]
    },
    {
     "name": "stderr",
     "output_type": "stream",
     "text": [
      "2024-08-06 15:44:35.527 | INFO     | io3d.misc:read_pkl_and_pklz:117 - Input gzip exception: Not a gzipped file (b'\\x80\\x04')\n",
      "2024-08-06 15:44:41.340 | WARNING  | io3d.dcmreaddata:get_metaData:550 - Depth of slices is not the same in beginning and end of the sequence\n",
      "2024-08-06 15:44:41.345 | WARNING  | io3d.datareader:Get3DData:205 - orientation_axcodes default value will be changed in the furture to 'LPS'\n",
      "20it [03:38, 10.25s/it]2024-08-06 15:44:43.216 | DEBUG    | __main__:<module>:15 - H:\\biomedical\\orig\\pilsen_pigs_all\\transplantation_dicom\\Tx038D_Ven\n",
      "2024-08-06 15:44:43.217 | DEBUG    | __main__:<module>:16 - H:\\biomedical\\orig\\pilsen_pigs\\val\\PP_0006\\PATIENT_DICOM\\PP_0006.mhd\n",
      "20it [03:38, 10.25s/it]2024-08-06 15:44:43.276 | INFO     | io3d.misc:read_pkl_and_pklz:117 - Input gzip exception: Not a gzipped file (b'\\x80\\x04')\n"
     ]
    },
    {
     "name": "stdout",
     "output_type": "stream",
     "text": [
      "Reading H:\\biomedical\\orig\\pilsen_pigs_all\\transplantation_dicom\\Tx038D_Ven and writing H:\\biomedical\\orig\\pilsen_pigs\\val\\PP_0006\\PATIENT_DICOM\\PP_0006.mhd\n"
     ]
    },
    {
     "name": "stderr",
     "output_type": "stream",
     "text": [
      "2024-08-06 15:44:47.467 | WARNING  | io3d.dcmreaddata:get_metaData:550 - Depth of slices is not the same in beginning and end of the sequence\n",
      "2024-08-06 15:44:47.473 | WARNING  | io3d.datareader:Get3DData:205 - orientation_axcodes default value will be changed in the furture to 'LPS'\n",
      "21it [03:44,  8.92s/it]2024-08-06 15:44:49.042 | DEBUG    | __main__:<module>:15 - H:\\biomedical\\orig\\pilsen_pigs_all\\transplantation_dicom\\Tx039D_Ven\n",
      "2024-08-06 15:44:49.043 | DEBUG    | __main__:<module>:16 - H:\\biomedical\\orig\\pilsen_pigs\\train\\PP_0012\\PATIENT_DICOM\\PP_0012.mhd\n",
      "21it [03:44,  8.92s/it]"
     ]
    },
    {
     "name": "stdout",
     "output_type": "stream",
     "text": [
      "Reading H:\\biomedical\\orig\\pilsen_pigs_all\\transplantation_dicom\\Tx039D_Ven and writing H:\\biomedical\\orig\\pilsen_pigs\\train\\PP_0012\\PATIENT_DICOM\\PP_0012.mhd\n"
     ]
    },
    {
     "name": "stderr",
     "output_type": "stream",
     "text": [
      "2024-08-06 15:44:49.274 | INFO     | io3d.misc:read_pkl_and_pklz:117 - Input gzip exception: Not a gzipped file (b'\\x80\\x04')\n",
      "2024-08-06 15:44:55.995 | WARNING  | io3d.dcmreaddata:get_metaData:550 - Depth of slices is not the same in beginning and end of the sequence\n",
      "2024-08-06 15:44:56.004 | WARNING  | io3d.datareader:Get3DData:205 - orientation_axcodes default value will be changed in the furture to 'LPS'\n",
      "22it [03:53,  8.98s/it]2024-08-06 15:44:58.156 | DEBUG    | __main__:<module>:15 - H:\\biomedical\\orig\\pilsen_pigs_all\\transplantation_dicom\\Tx040D_Ven\n",
      "2024-08-06 15:44:58.156 | DEBUG    | __main__:<module>:16 - H:\\biomedical\\orig\\pilsen_pigs\\test\\PP_0005\\PATIENT_DICOM\\PP_0005.mhd\n",
      "22it [03:53,  8.98s/it]"
     ]
    },
    {
     "name": "stdout",
     "output_type": "stream",
     "text": [
      "Reading H:\\biomedical\\orig\\pilsen_pigs_all\\transplantation_dicom\\Tx040D_Ven and writing H:\\biomedical\\orig\\pilsen_pigs\\test\\PP_0005\\PATIENT_DICOM\\PP_0005.mhd\n"
     ]
    },
    {
     "name": "stderr",
     "output_type": "stream",
     "text": [
      "2024-08-06 15:44:58.762 | INFO     | io3d.misc:read_pkl_and_pklz:117 - Input gzip exception: Not a gzipped file (b'\\x80\\x04')\n",
      "2024-08-06 15:45:04.386 | WARNING  | io3d.dcmreaddata:get_metaData:550 - Depth of slices is not the same in beginning and end of the sequence\n",
      "2024-08-06 15:45:04.391 | WARNING  | io3d.datareader:Get3DData:205 - orientation_axcodes default value will be changed in the furture to 'LPS'\n",
      "23it [04:01,  8.73s/it]2024-08-06 15:45:06.312 | DEBUG    | __main__:<module>:15 - H:\\biomedical\\orig\\pilsen_pigs_all\\transplantation_dicom\\Tx041D_Ven\n",
      "2024-08-06 15:45:06.313 | DEBUG    | __main__:<module>:16 - H:\\biomedical\\orig\\pilsen_pigs\\train\\PP_0013\\PATIENT_DICOM\\PP_0013.mhd\n",
      "23it [04:01,  8.73s/it]2024-08-06 15:45:06.374 | INFO     | io3d.misc:read_pkl_and_pklz:117 - Input gzip exception: Not a gzipped file (b'\\x80\\x04')\n"
     ]
    },
    {
     "name": "stdout",
     "output_type": "stream",
     "text": [
      "Reading H:\\biomedical\\orig\\pilsen_pigs_all\\transplantation_dicom\\Tx041D_Ven and writing H:\\biomedical\\orig\\pilsen_pigs\\train\\PP_0013\\PATIENT_DICOM\\PP_0013.mhd\n"
     ]
    },
    {
     "name": "stderr",
     "output_type": "stream",
     "text": [
      "2024-08-06 15:45:11.266 | WARNING  | io3d.datareader:Get3DData:205 - orientation_axcodes default value will be changed in the furture to 'LPS'\n",
      "24it [04:08,  8.16s/it]2024-08-06 15:45:13.132 | DEBUG    | __main__:<module>:15 - H:\\biomedical\\orig\\pilsen_pigs_all\\transplantation_dicom\\Tx042D_Ven\n",
      "2024-08-06 15:45:13.133 | DEBUG    | __main__:<module>:16 - H:\\biomedical\\orig\\pilsen_pigs\\val\\PP_0007\\PATIENT_DICOM\\PP_0007.mhd\n",
      "24it [04:08,  8.16s/it]2024-08-06 15:45:13.222 | INFO     | io3d.misc:read_pkl_and_pklz:117 - Input gzip exception: Not a gzipped file (b'\\x80\\x04')\n"
     ]
    },
    {
     "name": "stdout",
     "output_type": "stream",
     "text": [
      "Reading H:\\biomedical\\orig\\pilsen_pigs_all\\transplantation_dicom\\Tx042D_Ven and writing H:\\biomedical\\orig\\pilsen_pigs\\val\\PP_0007\\PATIENT_DICOM\\PP_0007.mhd\n"
     ]
    },
    {
     "name": "stderr",
     "output_type": "stream",
     "text": [
      "2024-08-06 15:45:19.721 | WARNING  | io3d.dcmreaddata:get_metaData:550 - Depth of slices is not the same in beginning and end of the sequence\n",
      "2024-08-06 15:45:19.729 | WARNING  | io3d.datareader:Get3DData:205 - orientation_axcodes default value will be changed in the furture to 'LPS'\n",
      "25it [04:17,  8.40s/it]2024-08-06 15:45:22.098 | DEBUG    | __main__:<module>:15 - H:\\biomedical\\orig\\pilsen_pigs_all\\transplantation_dicom\\Tx043D_Ven\n",
      "2024-08-06 15:45:22.099 | DEBUG    | __main__:<module>:16 - H:\\biomedical\\orig\\pilsen_pigs\\train\\PP_0014\\PATIENT_DICOM\\PP_0014.mhd\n",
      "25it [04:17,  8.40s/it]2024-08-06 15:45:22.209 | INFO     | io3d.misc:read_pkl_and_pklz:117 - Input gzip exception: Not a gzipped file (b'\\x80\\x04')\n"
     ]
    },
    {
     "name": "stdout",
     "output_type": "stream",
     "text": [
      "Reading H:\\biomedical\\orig\\pilsen_pigs_all\\transplantation_dicom\\Tx043D_Ven and writing H:\\biomedical\\orig\\pilsen_pigs\\train\\PP_0014\\PATIENT_DICOM\\PP_0014.mhd\n"
     ]
    },
    {
     "name": "stderr",
     "output_type": "stream",
     "text": [
      "2024-08-06 15:45:27.858 | WARNING  | io3d.dcmreaddata:get_metaData:550 - Depth of slices is not the same in beginning and end of the sequence\n",
      "2024-08-06 15:45:27.863 | WARNING  | io3d.datareader:Get3DData:205 - orientation_axcodes default value will be changed in the furture to 'LPS'\n",
      "26it [04:25,  8.27s/it]2024-08-06 15:45:30.051 | DEBUG    | __main__:<module>:15 - H:\\biomedical\\orig\\pilsen_pigs_all\\transplantation_dicom\\Tx044D_Ven\n",
      "2024-08-06 15:45:30.051 | DEBUG    | __main__:<module>:16 - H:\\biomedical\\orig\\pilsen_pigs\\test\\PP_0006\\PATIENT_DICOM\\PP_0006.mhd\n",
      "26it [04:25,  8.27s/it]"
     ]
    },
    {
     "name": "stdout",
     "output_type": "stream",
     "text": [
      "Reading H:\\biomedical\\orig\\pilsen_pigs_all\\transplantation_dicom\\Tx044D_Ven and writing H:\\biomedical\\orig\\pilsen_pigs\\test\\PP_0006\\PATIENT_DICOM\\PP_0006.mhd\n"
     ]
    },
    {
     "name": "stderr",
     "output_type": "stream",
     "text": [
      "2024-08-06 15:45:30.293 | INFO     | io3d.misc:read_pkl_and_pklz:117 - Input gzip exception: Not a gzipped file (b'\\x80\\x04')\n",
      "2024-08-06 15:45:36.820 | WARNING  | io3d.datareader:Get3DData:205 - orientation_axcodes default value will be changed in the furture to 'LPS'\n",
      "27it [04:34,  8.45s/it]2024-08-06 15:45:38.914 | DEBUG    | __main__:<module>:15 - H:\\biomedical\\orig\\pilsen_pigs_all\\transplantation_dicom\\Tx045D_Ven\n",
      "2024-08-06 15:45:38.915 | DEBUG    | __main__:<module>:16 - H:\\biomedical\\orig\\pilsen_pigs\\train\\PP_0015\\PATIENT_DICOM\\PP_0015.mhd\n",
      "27it [04:34,  8.45s/it]"
     ]
    },
    {
     "name": "stdout",
     "output_type": "stream",
     "text": [
      "Reading H:\\biomedical\\orig\\pilsen_pigs_all\\transplantation_dicom\\Tx045D_Ven and writing H:\\biomedical\\orig\\pilsen_pigs\\train\\PP_0015\\PATIENT_DICOM\\PP_0015.mhd\n"
     ]
    },
    {
     "name": "stderr",
     "output_type": "stream",
     "text": [
      "2024-08-06 15:45:39.545 | INFO     | io3d.misc:read_pkl_and_pklz:117 - Input gzip exception: Not a gzipped file (b'\\x80\\x04')\n",
      "2024-08-06 15:45:45.760 | WARNING  | io3d.dcmreaddata:get_metaData:550 - Depth of slices is not the same in beginning and end of the sequence\n",
      "2024-08-06 15:45:45.766 | WARNING  | io3d.datareader:Get3DData:205 - orientation_axcodes default value will be changed in the furture to 'LPS'\n",
      "28it [04:45,  9.17s/it]2024-08-06 15:45:49.787 | DEBUG    | __main__:<module>:15 - H:\\biomedical\\orig\\pilsen_pigs_all\\transplantation_dicom\\Tx046D_Ven\n",
      "2024-08-06 15:45:49.788 | DEBUG    | __main__:<module>:16 - H:\\biomedical\\orig\\pilsen_pigs\\val\\PP_0008\\PATIENT_DICOM\\PP_0008.mhd\n",
      "28it [04:45,  9.17s/it]"
     ]
    },
    {
     "name": "stdout",
     "output_type": "stream",
     "text": [
      "Reading H:\\biomedical\\orig\\pilsen_pigs_all\\transplantation_dicom\\Tx046D_Ven and writing H:\\biomedical\\orig\\pilsen_pigs\\val\\PP_0008\\PATIENT_DICOM\\PP_0008.mhd\n"
     ]
    },
    {
     "name": "stderr",
     "output_type": "stream",
     "text": [
      "2024-08-06 15:45:50.097 | INFO     | io3d.misc:read_pkl_and_pklz:117 - Input gzip exception: Not a gzipped file (b'\\x80\\x04')\n",
      "2024-08-06 15:45:56.162 | WARNING  | io3d.dcmreaddata:get_metaData:550 - Depth of slices is not the same in beginning and end of the sequence\n",
      "2024-08-06 15:45:56.168 | WARNING  | io3d.datareader:Get3DData:205 - orientation_axcodes default value will be changed in the furture to 'LPS'\n",
      "29it [04:53,  9.03s/it]2024-08-06 15:45:58.487 | DEBUG    | __main__:<module>:15 - H:\\biomedical\\orig\\pilsen_pigs_all\\transplantation_dicom\\Tx047D_Ven\n",
      "2024-08-06 15:45:58.488 | DEBUG    | __main__:<module>:16 - H:\\biomedical\\orig\\pilsen_pigs\\train\\PP_0016\\PATIENT_DICOM\\PP_0016.mhd\n",
      "29it [04:53,  9.03s/it]2024-08-06 15:45:58.581 | INFO     | io3d.misc:read_pkl_and_pklz:117 - Input gzip exception: Not a gzipped file (b'\\x80\\x04')\n"
     ]
    },
    {
     "name": "stdout",
     "output_type": "stream",
     "text": [
      "Reading H:\\biomedical\\orig\\pilsen_pigs_all\\transplantation_dicom\\Tx047D_Ven and writing H:\\biomedical\\orig\\pilsen_pigs\\train\\PP_0016\\PATIENT_DICOM\\PP_0016.mhd\n"
     ]
    },
    {
     "name": "stderr",
     "output_type": "stream",
     "text": [
      "2024-08-06 15:46:03.911 | WARNING  | io3d.datareader:Get3DData:205 - orientation_axcodes default value will be changed in the furture to 'LPS'\n",
      "30it [05:01, 10.04s/it]\n"
     ]
    }
   ],
   "execution_count": 24
  },
  {
   "cell_type": "code",
   "source": [],
   "metadata": {
    "collapsed": false,
    "ExecuteTime": {
     "end_time": "2024-08-06T13:46:05.867850Z",
     "start_time": "2024-08-06T13:46:05.847850Z"
    }
   },
   "id": "fa4b8663eb8a3795",
   "outputs": [],
   "execution_count": 24
  }
 ],
 "metadata": {
  "kernelspec": {
   "display_name": "Python 3",
   "language": "python",
   "name": "python3"
  },
  "language_info": {
   "codemirror_mode": {
    "name": "ipython",
    "version": 2
   },
   "file_extension": ".py",
   "mimetype": "text/x-python",
   "name": "python",
   "nbconvert_exporter": "python",
   "pygments_lexer": "ipython2",
   "version": "2.7.6"
  }
 },
 "nbformat": 4,
 "nbformat_minor": 5
}
