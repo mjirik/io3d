{
 "cells": [
  {
   "cell_type": "code",
   "execution_count": 53,
   "metadata": {
    "collapsed": true
   },
   "outputs": [],
   "source": [
    "import io3d\n",
    "import glob\n",
    "from pathlib import Path\n",
    "import pandas as pd\n",
    "import pydicom\n",
    "import SimpleITK as sitk\n",
    "\n",
    "pths = [\n",
    "    io3d.datasets.get_dataset_path(\"3Dircadb1\", \"data3d\", 1),\n",
    "    Path(\".\").absolute().parent / \"tests/test_dir/\",\n",
    "]"
   ]
  },
  {
   "cell_type": "code",
   "execution_count": 53,
   "outputs": [],
   "source": [],
   "metadata": {
    "collapsed": false,
    "pycharm": {
     "name": "#%%\n"
    }
   }
  },
  {
   "cell_type": "code",
   "execution_count": 54,
   "outputs": [],
   "source": [
    "# imd = pydicom.dcmread(flist[0])"
   ],
   "metadata": {
    "collapsed": false,
    "pycharm": {
     "name": "#%%\n"
    }
   }
  },
  {
   "cell_type": "code",
   "execution_count": 55,
   "outputs": [],
   "source": [
    "dfs = []\n",
    "for pth in pths:\n",
    "    flist = glob.glob(str(pth / \"*\"))\n",
    "\n",
    "    dct = dict(filename=[])\n",
    "    for fn in flist:\n",
    "        if Path(fn).name == \"dicomdir.pkl\":\n",
    "            pass\n",
    "        else:\n",
    "            dct[\"filename\"].append(Path(fn).name)\n",
    "\n",
    "            imi = sitk.ReadImage(fn)\n",
    "            for key in imi.GetMetaDataKeys():\n",
    "                if key not in dct:\n",
    "                    dct[key] = []\n",
    "                dct[key].append(imi.GetMetaData(key))\n",
    "    dfs.append(pd.DataFrame(dct))"
   ],
   "metadata": {
    "collapsed": false,
    "pycharm": {
     "name": "#%%\n"
    }
   }
  },
  {
   "cell_type": "code",
   "execution_count": 56,
   "outputs": [],
   "source": [
    "df = pd.concat(dfs, ignore_index=True, sort=True)\n",
    "df.to_excel(\"ircad.xlsx\")"
   ],
   "metadata": {
    "collapsed": false,
    "pycharm": {
     "name": "#%%\n"
    }
   }
  },
  {
   "cell_type": "code",
   "execution_count": 25,
   "outputs": [
    {
     "data": {
      "text/plain": "             0008|0008                  0008|0016  \\\n0    ORIGINAL\\PRIMARY   1.2.840.10008.5.1.4.1.1.2   \n1    ORIGINAL\\PRIMARY   1.2.840.10008.5.1.4.1.1.2   \n2    ORIGINAL\\PRIMARY   1.2.840.10008.5.1.4.1.1.2   \n3    ORIGINAL\\PRIMARY   1.2.840.10008.5.1.4.1.1.2   \n4    ORIGINAL\\PRIMARY   1.2.840.10008.5.1.4.1.1.2   \n..                 ...                        ...   \n124  ORIGINAL\\PRIMARY   1.2.840.10008.5.1.4.1.1.2   \n125  ORIGINAL\\PRIMARY   1.2.840.10008.5.1.4.1.1.2   \n126  ORIGINAL\\PRIMARY   1.2.840.10008.5.1.4.1.1.2   \n127  ORIGINAL\\PRIMARY   1.2.840.10008.5.1.4.1.1.2   \n128  ORIGINAL\\PRIMARY   1.2.840.10008.5.1.4.1.1.2   \n\n                                             0008|0018 0008|0020 0008|0022  \\\n0    1.2.826.0.1.3680043.2.1125.3117066890503337486...  20090527  20090527   \n1    1.2.826.0.1.3680043.2.1125.9992007335188132999...  20090527  20090527   \n2    1.2.826.0.1.3680043.2.1125.4276323034127557047...  20090527  20090527   \n3    1.2.826.0.1.3680043.2.1125.7776439881718010678...  20090527  20090527   \n4    1.2.826.0.1.3680043.2.1125.3420595866513858350...  20090527  20090527   \n..                                                 ...       ...       ...   \n124  1.2.826.0.1.3680043.2.1125.1341222741884779624...  20090527  20090527   \n125  1.2.826.0.1.3680043.2.1125.5719105366979135075...  20090527  20090527   \n126  1.2.826.0.1.3680043.2.1125.4103703527421176033...  20090527  20090527   \n127  1.2.826.0.1.3680043.2.1125.8607167135202701903...  20090527  20090527   \n128  1.2.826.0.1.3680043.2.1125.7314108678516030938...  20090527  20090527   \n\n    0008|0030 0008|0032 0008|0050 0008|0060 0008|0080  ... 0028|0101  \\\n0      125005    125005                  CT     IRCAD  ...        16   \n1      125005    125005                  CT     IRCAD  ...        16   \n2      125005    125005                  CT     IRCAD  ...        16   \n3      125005    125005                  CT     IRCAD  ...        16   \n4      125005    125005                  CT     IRCAD  ...        16   \n..        ...       ...       ...       ...       ...  ...       ...   \n124    125005    125005                  CT     IRCAD  ...        16   \n125    125005    125005                  CT     IRCAD  ...        16   \n126    125005    125005                  CT     IRCAD  ...        16   \n127    125005    125005                  CT     IRCAD  ...        16   \n128    125005    125005                  CT     IRCAD  ...        16   \n\n    0028|0102 0028|0103 0028|1050 0028|1051 0028|1052 0028|1053 0028|1055  \\\n0          15         1         0         0        0         1              \n1          15         1         0         0        0         1              \n2          15         1         0         0        0         1              \n3          15         1         0         0        0         1              \n4          15         1         0         0        0         1              \n..        ...       ...       ...       ...       ...       ...       ...   \n124        15         1         0         0        0         1              \n125        15         1         0         0        0         1              \n126        15         1         0         0        0         1              \n127        15         1         0         0        0         1              \n128        15         1         0         0        0         1              \n\n                ITK_original_direction               ITK_original_spacing  \n0    [UNKNOWN_PRINT_CHARACTERISTICS]\\n  [UNKNOWN_PRINT_CHARACTERISTICS]\\n  \n1    [UNKNOWN_PRINT_CHARACTERISTICS]\\n  [UNKNOWN_PRINT_CHARACTERISTICS]\\n  \n2    [UNKNOWN_PRINT_CHARACTERISTICS]\\n  [UNKNOWN_PRINT_CHARACTERISTICS]\\n  \n3    [UNKNOWN_PRINT_CHARACTERISTICS]\\n  [UNKNOWN_PRINT_CHARACTERISTICS]\\n  \n4    [UNKNOWN_PRINT_CHARACTERISTICS]\\n  [UNKNOWN_PRINT_CHARACTERISTICS]\\n  \n..                                 ...                                ...  \n124  [UNKNOWN_PRINT_CHARACTERISTICS]\\n  [UNKNOWN_PRINT_CHARACTERISTICS]\\n  \n125  [UNKNOWN_PRINT_CHARACTERISTICS]\\n  [UNKNOWN_PRINT_CHARACTERISTICS]\\n  \n126  [UNKNOWN_PRINT_CHARACTERISTICS]\\n  [UNKNOWN_PRINT_CHARACTERISTICS]\\n  \n127  [UNKNOWN_PRINT_CHARACTERISTICS]\\n  [UNKNOWN_PRINT_CHARACTERISTICS]\\n  \n128  [UNKNOWN_PRINT_CHARACTERISTICS]\\n  [UNKNOWN_PRINT_CHARACTERISTICS]\\n  \n\n[129 rows x 40 columns]",
      "text/html": "<div>\n<style scoped>\n    .dataframe tbody tr th:only-of-type {\n        vertical-align: middle;\n    }\n\n    .dataframe tbody tr th {\n        vertical-align: top;\n    }\n\n    .dataframe thead th {\n        text-align: right;\n    }\n</style>\n<table border=\"1\" class=\"dataframe\">\n  <thead>\n    <tr style=\"text-align: right;\">\n      <th></th>\n      <th>0008|0008</th>\n      <th>0008|0016</th>\n      <th>0008|0018</th>\n      <th>0008|0020</th>\n      <th>0008|0022</th>\n      <th>0008|0030</th>\n      <th>0008|0032</th>\n      <th>0008|0050</th>\n      <th>0008|0060</th>\n      <th>0008|0080</th>\n      <th>...</th>\n      <th>0028|0101</th>\n      <th>0028|0102</th>\n      <th>0028|0103</th>\n      <th>0028|1050</th>\n      <th>0028|1051</th>\n      <th>0028|1052</th>\n      <th>0028|1053</th>\n      <th>0028|1055</th>\n      <th>ITK_original_direction</th>\n      <th>ITK_original_spacing</th>\n    </tr>\n  </thead>\n  <tbody>\n    <tr>\n      <td>0</td>\n      <td>ORIGINAL\\PRIMARY</td>\n      <td>1.2.840.10008.5.1.4.1.1.2</td>\n      <td>1.2.826.0.1.3680043.2.1125.3117066890503337486...</td>\n      <td>20090527</td>\n      <td>20090527</td>\n      <td>125005</td>\n      <td>125005</td>\n      <td></td>\n      <td>CT</td>\n      <td>IRCAD</td>\n      <td>...</td>\n      <td>16</td>\n      <td>15</td>\n      <td>1</td>\n      <td>0</td>\n      <td>0</td>\n      <td>0</td>\n      <td>1</td>\n      <td></td>\n      <td>[UNKNOWN_PRINT_CHARACTERISTICS]\\n</td>\n      <td>[UNKNOWN_PRINT_CHARACTERISTICS]\\n</td>\n    </tr>\n    <tr>\n      <td>1</td>\n      <td>ORIGINAL\\PRIMARY</td>\n      <td>1.2.840.10008.5.1.4.1.1.2</td>\n      <td>1.2.826.0.1.3680043.2.1125.9992007335188132999...</td>\n      <td>20090527</td>\n      <td>20090527</td>\n      <td>125005</td>\n      <td>125005</td>\n      <td></td>\n      <td>CT</td>\n      <td>IRCAD</td>\n      <td>...</td>\n      <td>16</td>\n      <td>15</td>\n      <td>1</td>\n      <td>0</td>\n      <td>0</td>\n      <td>0</td>\n      <td>1</td>\n      <td></td>\n      <td>[UNKNOWN_PRINT_CHARACTERISTICS]\\n</td>\n      <td>[UNKNOWN_PRINT_CHARACTERISTICS]\\n</td>\n    </tr>\n    <tr>\n      <td>2</td>\n      <td>ORIGINAL\\PRIMARY</td>\n      <td>1.2.840.10008.5.1.4.1.1.2</td>\n      <td>1.2.826.0.1.3680043.2.1125.4276323034127557047...</td>\n      <td>20090527</td>\n      <td>20090527</td>\n      <td>125005</td>\n      <td>125005</td>\n      <td></td>\n      <td>CT</td>\n      <td>IRCAD</td>\n      <td>...</td>\n      <td>16</td>\n      <td>15</td>\n      <td>1</td>\n      <td>0</td>\n      <td>0</td>\n      <td>0</td>\n      <td>1</td>\n      <td></td>\n      <td>[UNKNOWN_PRINT_CHARACTERISTICS]\\n</td>\n      <td>[UNKNOWN_PRINT_CHARACTERISTICS]\\n</td>\n    </tr>\n    <tr>\n      <td>3</td>\n      <td>ORIGINAL\\PRIMARY</td>\n      <td>1.2.840.10008.5.1.4.1.1.2</td>\n      <td>1.2.826.0.1.3680043.2.1125.7776439881718010678...</td>\n      <td>20090527</td>\n      <td>20090527</td>\n      <td>125005</td>\n      <td>125005</td>\n      <td></td>\n      <td>CT</td>\n      <td>IRCAD</td>\n      <td>...</td>\n      <td>16</td>\n      <td>15</td>\n      <td>1</td>\n      <td>0</td>\n      <td>0</td>\n      <td>0</td>\n      <td>1</td>\n      <td></td>\n      <td>[UNKNOWN_PRINT_CHARACTERISTICS]\\n</td>\n      <td>[UNKNOWN_PRINT_CHARACTERISTICS]\\n</td>\n    </tr>\n    <tr>\n      <td>4</td>\n      <td>ORIGINAL\\PRIMARY</td>\n      <td>1.2.840.10008.5.1.4.1.1.2</td>\n      <td>1.2.826.0.1.3680043.2.1125.3420595866513858350...</td>\n      <td>20090527</td>\n      <td>20090527</td>\n      <td>125005</td>\n      <td>125005</td>\n      <td></td>\n      <td>CT</td>\n      <td>IRCAD</td>\n      <td>...</td>\n      <td>16</td>\n      <td>15</td>\n      <td>1</td>\n      <td>0</td>\n      <td>0</td>\n      <td>0</td>\n      <td>1</td>\n      <td></td>\n      <td>[UNKNOWN_PRINT_CHARACTERISTICS]\\n</td>\n      <td>[UNKNOWN_PRINT_CHARACTERISTICS]\\n</td>\n    </tr>\n    <tr>\n      <td>...</td>\n      <td>...</td>\n      <td>...</td>\n      <td>...</td>\n      <td>...</td>\n      <td>...</td>\n      <td>...</td>\n      <td>...</td>\n      <td>...</td>\n      <td>...</td>\n      <td>...</td>\n      <td>...</td>\n      <td>...</td>\n      <td>...</td>\n      <td>...</td>\n      <td>...</td>\n      <td>...</td>\n      <td>...</td>\n      <td>...</td>\n      <td>...</td>\n      <td>...</td>\n      <td>...</td>\n    </tr>\n    <tr>\n      <td>124</td>\n      <td>ORIGINAL\\PRIMARY</td>\n      <td>1.2.840.10008.5.1.4.1.1.2</td>\n      <td>1.2.826.0.1.3680043.2.1125.1341222741884779624...</td>\n      <td>20090527</td>\n      <td>20090527</td>\n      <td>125005</td>\n      <td>125005</td>\n      <td></td>\n      <td>CT</td>\n      <td>IRCAD</td>\n      <td>...</td>\n      <td>16</td>\n      <td>15</td>\n      <td>1</td>\n      <td>0</td>\n      <td>0</td>\n      <td>0</td>\n      <td>1</td>\n      <td></td>\n      <td>[UNKNOWN_PRINT_CHARACTERISTICS]\\n</td>\n      <td>[UNKNOWN_PRINT_CHARACTERISTICS]\\n</td>\n    </tr>\n    <tr>\n      <td>125</td>\n      <td>ORIGINAL\\PRIMARY</td>\n      <td>1.2.840.10008.5.1.4.1.1.2</td>\n      <td>1.2.826.0.1.3680043.2.1125.5719105366979135075...</td>\n      <td>20090527</td>\n      <td>20090527</td>\n      <td>125005</td>\n      <td>125005</td>\n      <td></td>\n      <td>CT</td>\n      <td>IRCAD</td>\n      <td>...</td>\n      <td>16</td>\n      <td>15</td>\n      <td>1</td>\n      <td>0</td>\n      <td>0</td>\n      <td>0</td>\n      <td>1</td>\n      <td></td>\n      <td>[UNKNOWN_PRINT_CHARACTERISTICS]\\n</td>\n      <td>[UNKNOWN_PRINT_CHARACTERISTICS]\\n</td>\n    </tr>\n    <tr>\n      <td>126</td>\n      <td>ORIGINAL\\PRIMARY</td>\n      <td>1.2.840.10008.5.1.4.1.1.2</td>\n      <td>1.2.826.0.1.3680043.2.1125.4103703527421176033...</td>\n      <td>20090527</td>\n      <td>20090527</td>\n      <td>125005</td>\n      <td>125005</td>\n      <td></td>\n      <td>CT</td>\n      <td>IRCAD</td>\n      <td>...</td>\n      <td>16</td>\n      <td>15</td>\n      <td>1</td>\n      <td>0</td>\n      <td>0</td>\n      <td>0</td>\n      <td>1</td>\n      <td></td>\n      <td>[UNKNOWN_PRINT_CHARACTERISTICS]\\n</td>\n      <td>[UNKNOWN_PRINT_CHARACTERISTICS]\\n</td>\n    </tr>\n    <tr>\n      <td>127</td>\n      <td>ORIGINAL\\PRIMARY</td>\n      <td>1.2.840.10008.5.1.4.1.1.2</td>\n      <td>1.2.826.0.1.3680043.2.1125.8607167135202701903...</td>\n      <td>20090527</td>\n      <td>20090527</td>\n      <td>125005</td>\n      <td>125005</td>\n      <td></td>\n      <td>CT</td>\n      <td>IRCAD</td>\n      <td>...</td>\n      <td>16</td>\n      <td>15</td>\n      <td>1</td>\n      <td>0</td>\n      <td>0</td>\n      <td>0</td>\n      <td>1</td>\n      <td></td>\n      <td>[UNKNOWN_PRINT_CHARACTERISTICS]\\n</td>\n      <td>[UNKNOWN_PRINT_CHARACTERISTICS]\\n</td>\n    </tr>\n    <tr>\n      <td>128</td>\n      <td>ORIGINAL\\PRIMARY</td>\n      <td>1.2.840.10008.5.1.4.1.1.2</td>\n      <td>1.2.826.0.1.3680043.2.1125.7314108678516030938...</td>\n      <td>20090527</td>\n      <td>20090527</td>\n      <td>125005</td>\n      <td>125005</td>\n      <td></td>\n      <td>CT</td>\n      <td>IRCAD</td>\n      <td>...</td>\n      <td>16</td>\n      <td>15</td>\n      <td>1</td>\n      <td>0</td>\n      <td>0</td>\n      <td>0</td>\n      <td>1</td>\n      <td></td>\n      <td>[UNKNOWN_PRINT_CHARACTERISTICS]\\n</td>\n      <td>[UNKNOWN_PRINT_CHARACTERISTICS]\\n</td>\n    </tr>\n  </tbody>\n</table>\n<p>129 rows × 40 columns</p>\n</div>"
     },
     "execution_count": 25,
     "metadata": {},
     "output_type": "execute_result"
    }
   ],
   "source": [
    "df"
   ],
   "metadata": {
    "collapsed": false,
    "pycharm": {
     "name": "#%%\n"
    }
   }
  },
  {
   "cell_type": "code",
   "execution_count": null,
   "outputs": [],
   "source": [],
   "metadata": {
    "collapsed": false,
    "pycharm": {
     "name": "#%%\n"
    }
   }
  }
 ],
 "metadata": {
  "kernelspec": {
   "display_name": "Python 3",
   "language": "python",
   "name": "python3"
  },
  "language_info": {
   "codemirror_mode": {
    "name": "ipython",
    "version": 2
   },
   "file_extension": ".py",
   "mimetype": "text/x-python",
   "name": "python",
   "nbconvert_exporter": "python",
   "pygments_lexer": "ipython2",
   "version": "2.7.6"
  }
 },
 "nbformat": 4,
 "nbformat_minor": 0
}