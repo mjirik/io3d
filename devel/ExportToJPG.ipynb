{
 "cells": [
  {
   "cell_type": "code",
   "execution_count": 24,
   "metadata": {},
   "outputs": [],
   "source": [
    "%matplotlib qt\n",
    "import io3d\n",
    "import sed3\n",
    "import imma\n",
    "import imma.image_manipulation\n",
    "from loguru import logger\n",
    "\n",
    "# min=40-200 max=40+200\n",
    "def export_to_jpg(\n",
    "    input_path,\n",
    "    output_path,\n",
    "    output_name,\n",
    "    width,\n",
    "    center,\n",
    "    cmap=\"gray\",\n",
    "    resize_to_shape=None,\n",
    "    **resize_kwargs,\n",
    "):\n",
    "    import matplotlib.pyplot as plt\n",
    "    import os\n",
    "\n",
    "    #!!!!!!! watch, if you have folder \"JPG\" and it conteins important files\n",
    "\n",
    "    output_path = Path(f\"{output_path}\")\n",
    "    output_path.mkdir(parents=True, exist_ok=True)\n",
    "    dr = io3d.DataReader()\n",
    "    datap = dr.Get3DData(input_path, dataplus_format=True)\n",
    "    data3d = datap[\"data3d\"]\n",
    "    if resize_to_shape:\n",
    "        data3d = imma.image.resize_to_shape(\n",
    "            data3d, shape=resize_to_shape, **resize_kwargs\n",
    "        )\n",
    "\n",
    "    PixMin = center - width / 2\n",
    "    PixMax = center + width / 2\n",
    "    logger.debug(data3d.shape)\n",
    "    for i in range(\n",
    "        0, data3d.shape[0]\n",
    "    ):  # shape - numpy pole, rekne jaki jsou roymery v jednotlive dimenze\n",
    "        logger.info(i)\n",
    "        plt.imsave(\n",
    "            output_path / f\"{output_name}_{i:05}.jpg\",\n",
    "            data3d[i, :, :],\n",
    "            vmin=PixMin,\n",
    "            vmax=PixMax,\n",
    "            cmap=cmap,\n",
    "        )"
   ]
  },
  {
   "cell_type": "code",
   "execution_count": 23,
   "metadata": {},
   "outputs": [
    {
     "name": "stderr",
     "output_type": "stream",
     "text": [
      "2021-06-18 12:51:15.739 | DEBUG    | __main__:export_to_jpg:25 - (15, 512, 512)\n",
      "2021-06-18 12:51:15.767 | INFO     | __main__:export_to_jpg:27 - 0\n",
      "2021-06-18 12:51:15.855 | INFO     | __main__:export_to_jpg:27 - 1\n",
      "2021-06-18 12:51:15.901 | INFO     | __main__:export_to_jpg:27 - 2\n",
      "2021-06-18 12:51:15.946 | INFO     | __main__:export_to_jpg:27 - 3\n",
      "2021-06-18 12:51:15.991 | INFO     | __main__:export_to_jpg:27 - 4\n",
      "2021-06-18 12:51:16.048 | INFO     | __main__:export_to_jpg:27 - 5\n",
      "2021-06-18 12:51:16.095 | INFO     | __main__:export_to_jpg:27 - 6\n",
      "2021-06-18 12:51:16.141 | INFO     | __main__:export_to_jpg:27 - 7\n",
      "2021-06-18 12:51:16.189 | INFO     | __main__:export_to_jpg:27 - 8\n",
      "2021-06-18 12:51:16.240 | INFO     | __main__:export_to_jpg:27 - 9\n",
      "2021-06-18 12:51:16.481 | INFO     | __main__:export_to_jpg:27 - 10\n",
      "2021-06-18 12:51:16.527 | INFO     | __main__:export_to_jpg:27 - 11\n",
      "2021-06-18 12:51:16.566 | INFO     | __main__:export_to_jpg:27 - 12\n",
      "2021-06-18 12:51:16.605 | INFO     | __main__:export_to_jpg:27 - 13\n",
      "2021-06-18 12:51:16.646 | INFO     | __main__:export_to_jpg:27 - 14\n"
     ]
    }
   ],
   "source": [
    "# colorMap='gray'\n",
    "# input_path=f'F:\\Diplom\\Diplom\\Tx036D_Ven'\n",
    "input_path = r\"H:\\biomedical\\orig\\pilsen_pigs_raw\\transplantation\\Tx021D_Ven\"\n",
    "input_path = r\"H:\\medical\\orig\\3Dircadb1.1\\PATIENT_DICOM\"\n",
    "# output_path=input_path\n",
    "output_path = r\"H:\\paper_graphics\\2021_detska_univerzita\\JPG2\"\n",
    "output_name = \"Tx021D_Ven\"  # zahlavní jmeno pacientu\n",
    "center = 40\n",
    "width = 400\n",
    "export_to_jpg(\n",
    "    input_path,\n",
    "    output_path,\n",
    "    output_name,\n",
    "    width,\n",
    "    center,\n",
    "    resize_to_shape=[15, 512, 512],\n",
    "    order=1,\n",
    ")"
   ]
  },
  {
   "cell_type": "code",
   "execution_count": 5,
   "metadata": {},
   "outputs": [],
   "source": [
    "import os\n",
    "\n",
    "os.mkdir(\"F:/Diplom/Diplom/TEST1\")"
   ]
  },
  {
   "cell_type": "code",
   "execution_count": 4,
   "metadata": {},
   "outputs": [
    {
     "data": {
      "text/plain": "<function imma.image.resize_to_shape(data, shape, zoom=None, mode='constant', order=0, dtype=None, check_seeds=False, anti_aliasing=False, **kwargs)>"
     },
     "execution_count": 4,
     "metadata": {},
     "output_type": "execute_result"
    }
   ],
   "source": [
    "imma.image.resize_to_shape"
   ]
  },
  {
   "cell_type": "code",
   "execution_count": 11,
   "outputs": [
    {
     "data": {
      "text/plain": "WindowsPath('H:/medical/paper_graphics/2021_detska_univerzita')"
     },
     "execution_count": 11,
     "metadata": {},
     "output_type": "execute_result"
    }
   ],
   "source": [
    "from pathlib import Path\n",
    "\n",
    "Path(output_path).absolute()"
   ],
   "metadata": {
    "collapsed": false,
    "pycharm": {
     "name": "#%%\n"
    }
   }
  },
  {
   "cell_type": "code",
   "execution_count": 15,
   "outputs": [
    {
     "ename": "ValueError",
     "evalue": "invalid literal for int() with base 10: 'H:\\\\medical\\\\orig\\\\3Dircadb1.1\\\\PATIENT_DICOM'",
     "output_type": "error",
     "traceback": [
      "\u001b[1;31m---------------------------------------------------------------------------\u001b[0m",
      "\u001b[1;31mValueError\u001b[0m                                Traceback (most recent call last)",
      "\u001b[1;32m<ipython-input-15-435886332223>\u001b[0m in \u001b[0;36m<module>\u001b[1;34m\u001b[0m\n\u001b[1;32m----> 1\u001b[1;33m \u001b[0mint\u001b[0m\u001b[1;33m(\u001b[0m\u001b[0minput_path\u001b[0m\u001b[1;33m)\u001b[0m\u001b[1;33m\u001b[0m\u001b[1;33m\u001b[0m\u001b[0m\n\u001b[0m",
      "\u001b[1;31mValueError\u001b[0m: invalid literal for int() with base 10: 'H:\\\\medical\\\\orig\\\\3Dircadb1.1\\\\PATIENT_DICOM'"
     ]
    }
   ],
   "source": [
    "int(input_path)"
   ],
   "metadata": {
    "collapsed": false,
    "pycharm": {
     "name": "#%%\n"
    }
   }
  },
  {
   "cell_type": "code",
   "execution_count": 16,
   "outputs": [
    {
     "data": {
      "text/plain": "3"
     },
     "execution_count": 16,
     "metadata": {},
     "output_type": "execute_result"
    }
   ],
   "source": [
    "import re\n",
    "\n",
    "# >>> string1 = \"498results should get\"\n",
    "int(re.search(r\"\\d+\", input_path).group())"
   ],
   "metadata": {
    "collapsed": false,
    "pycharm": {
     "name": "#%%\n"
    }
   }
  },
  {
   "cell_type": "code",
   "execution_count": 19,
   "outputs": [
    {
     "data": {
      "text/plain": "<function imma.image.resize_to_shape(data, shape, zoom=None, mode='constant', order=0, dtype=None, check_seeds=False, anti_aliasing=False, **kwargs)>"
     },
     "execution_count": 19,
     "metadata": {},
     "output_type": "execute_result"
    }
   ],
   "source": [
    "imma.image_manipulation.resize_to_shape()"
   ],
   "metadata": {
    "collapsed": false,
    "pycharm": {
     "name": "#%%\n"
    }
   }
  },
  {
   "cell_type": "code",
   "execution_count": null,
   "outputs": [],
   "source": [],
   "metadata": {
    "collapsed": false,
    "pycharm": {
     "name": "#%%\n"
    }
   }
  }
 ],
 "metadata": {
  "kernelspec": {
   "display_name": "Python 3",
   "language": "python",
   "name": "python3"
  },
  "language_info": {
   "codemirror_mode": {
    "name": "ipython",
    "version": 3
   },
   "file_extension": ".py",
   "mimetype": "text/x-python",
   "name": "python",
   "nbconvert_exporter": "python",
   "pygments_lexer": "ipython3",
   "version": "3.7.4"
  }
 },
 "nbformat": 4,
 "nbformat_minor": 4
}