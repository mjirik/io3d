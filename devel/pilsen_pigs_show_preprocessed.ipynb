{
 "cells": [
  {
   "metadata": {},
   "cell_type": "code",
   "outputs": [],
   "execution_count": null,
   "source": "#",
   "id": "91f7b2141d5a3999"
  },
  {
   "metadata": {},
   "cell_type": "markdown",
   "source": [
    "# Show and move preprocessed dirs\n",
    "\n",
    "The script is used to select best Ven and Art CT image of each animal. The input is directory with CT images converted to `nii.gz`."
   ],
   "id": "65006e71a643a38f"
  },
  {
   "metadata": {
    "collapsed": true,
    "ExecuteTime": {
     "end_time": "2025-10-02T19:25:11.714961Z",
     "start_time": "2025-10-02T19:25:10.785013Z"
    }
   },
   "cell_type": "code",
   "outputs": [],
   "execution_count": 1,
   "source": [
    "# reload modules\n",
    "%load_ext autoreload\n",
    "%autoreload 2\n",
    "\n",
    "from pathlib import Path\n",
    "import os\n"
   ],
   "id": "initial_id"
  },
  {
   "metadata": {},
   "cell_type": "code",
   "outputs": [],
   "execution_count": null,
   "source": "",
   "id": "7a6ddcb5b57884d3"
  },
  {
   "metadata": {
    "ExecuteTime": {
     "end_time": "2025-10-02T19:27:47.976044Z",
     "start_time": "2025-10-02T19:27:47.865792Z"
    }
   },
   "cell_type": "code",
   "source": [
    "# read from .env file or environment variables\n",
    "from dotenv import load_dotenv\n",
    "PILSEN_PIGS_CT_DIR = Path(\"~/bmc_ct\").expanduser()\n",
    "\n",
    "preprocessed_dirs = [PILSEN_PIGS_CT_DIR / r\"pilsen_pigs_all/transplantation_nii_transposed/preprocessed/Prasata_C.tmp_need_more_descriptive_names\"]\n",
    "preprocessed_dir = preprocessed_dirs[0]\n",
    "\n",
    "DEST_ROOT = PILSEN_PIGS_CT_DIR / \"pilsen_pigs_all/transplantation_nii_transposed/Prasata_C\"\n",
    "\n",
    "\n",
    "SOURCE_ROOT = preprocessed_dir"
   ],
   "id": "d62bc399734500ce",
   "outputs": [],
   "execution_count": 3
  },
  {
   "metadata": {},
   "cell_type": "code",
   "source": [
    "\n",
    "\n",
    "\n",
    "import os\n",
    "import re\n",
    "import glob\n",
    "import shutil\n",
    "import matplotlib.pyplot as plt\n",
    "import matplotlib.image as mpimg\n",
    "from collections import defaultdict\n",
    "\n",
    "# SOURCE_ROOT = \"/cesta/k/adresarove/strukture\"\n",
    "# DEST_ROOT = \"/cesta/kam/kopirovat\"\n",
    "\n",
    "# regex pro kód, např. C11, TX12, AB7\n",
    "CODE_REGEX = re.compile(r\"[A-Z]+[0-9]+\")\n",
    "\n",
    "# najdi všechny adresáře v rootu\n",
    "all_dirs = [d for d in glob.glob(os.path.join(SOURCE_ROOT, \"*\")) if os.path.isdir(d)]\n",
    "\n",
    "# seskup podle kódu\n",
    "groups = defaultdict(list)\n",
    "for d in all_dirs:\n",
    "    m = CODE_REGEX.search(os.path.basename(d))\n",
    "    if m:\n",
    "        groups[m.group()].append(d)\n",
    "\n",
    "# vypiš nalezené kódy\n",
    "print(\"Nalezené kódy:\")\n",
    "for i, code in enumerate(groups.keys()):\n",
    "    print(f\"{i}: {code} ({len(groups[code])} adresářů)\")\n",
    "\n",
    "# vyber kód\n",
    "# choice = int(input(\"Zadej číslo kódu: \"))\n",
    "# print(f\"{choice=}\")\n",
    "# selected_code = list(groups.keys())[choice]\n",
    "# print(f\"{selected_code=}\")\n",
    "# dirs = groups[selected_code]\n",
    "# print(f\"{len(dirs)=}\")\n",
    "#\n",
    "#\n",
    "# # načti obrázky\n",
    "# images = []\n",
    "# for d in dirs:\n",
    "#     d = Path(d)\n",
    "#     # print(f\"{d=}\")\n",
    "#     assert d.exists(), f\"Adresář neexistuje: {d}\"\n",
    "#     files = list(d.glob(\"*sagittal.jpg\"))\n",
    "#     if files:\n",
    "#         images.append((d, files[0]))\n",
    "#\n",
    "# # zobraz grid\n",
    "# cols = 4\n",
    "# rows = (len(images) + cols - 1) // cols\n",
    "# print(f\"{rows=}\")\n",
    "# fig, axes = plt.subplots(rows, cols, figsize=(18, 6*rows))\n",
    "# axes = axes.flatten()\n",
    "#\n",
    "# for i, (d, img_path) in enumerate(images):\n",
    "#     img = mpimg.imread(img_path)\n",
    "#     axes[i].imshow(img)\n",
    "#     axes[i].axis(\"off\")\n",
    "#     axes[i].set_title(f\"{i}: {os.path.basename(d)}\", fontsize=8)\n",
    "#\n",
    "# for j in range(i+1, len(axes)):\n",
    "#     axes[j].axis(\"off\")\n",
    "#\n",
    "# plt.tight_layout()\n",
    "# plt.show()\n"
   ],
   "id": "c50c13bc2aedb9d3",
   "outputs": [],
   "execution_count": null
  },
  {
   "metadata": {
    "ExecuteTime": {
     "end_time": "2025-10-02T19:29:03.254016Z",
     "start_time": "2025-10-02T19:29:02.944536Z"
    }
   },
   "cell_type": "code",
   "source": [
    "import ipywidgets as widgets\n",
    "from IPython.display import display, clear_output\n",
    "\n",
    "codes = list(groups.keys())\n",
    "\n",
    "dropdown = widgets.Dropdown(\n",
    "    options=codes,\n",
    "    description='Kód:',\n",
    "    value=codes[0]\n",
    ")\n",
    "\n",
    "out = widgets.Output()\n",
    "\n",
    "def on_change(change):\n",
    "    if change['type'] == 'change' and change['name'] == 'value':\n",
    "        with out:\n",
    "            clear_output(wait=True)\n",
    "            code = change['new']\n",
    "            dropdown.selected_code = change['new']\n",
    "            dirs = groups[code]\n",
    "\n",
    "            images = []\n",
    "            for d in dirs:\n",
    "                files = list(Path(d).glob(\"*sagittal.jpg\"))\n",
    "                if files:\n",
    "                    images.append((d, files[0]))\n",
    "\n",
    "            dropdown.images = images\n",
    "            print(f\"{len(dropdown.images)=}\")\n",
    "\n",
    "            cols = 4\n",
    "            rows = (len(images) + cols - 1) // cols\n",
    "            fig, axes = plt.subplots(rows, cols, figsize=(18, 6*rows))\n",
    "            axes = axes.flatten()\n",
    "\n",
    "            for i, (d, img_path) in enumerate(images):\n",
    "                img = mpimg.imread(img_path)\n",
    "                axes[i].imshow(img)\n",
    "                axes[i].axis(\"off\")\n",
    "                axes[i].set_title(f\"{i}: {os.path.basename(d)}\", fontsize=8)\n",
    "\n",
    "            for j in range(i+1, len(axes)):\n",
    "                axes[j].axis(\"off\")\n",
    "\n",
    "            plt.tight_layout()\n",
    "            plt.show()\n",
    "\n",
    "dropdown.observe(on_change)\n",
    "\n",
    "display(dropdown, out)"
   ],
   "id": "7efe05c1ee3eb6db",
   "outputs": [
    {
     "data": {
      "text/plain": [
       "Dropdown(description='Kód:', options=('C11', 'C12', 'C13', 'C14', 'C15', 'C16', 'C21', 'C22', 'C23', 'C24', 'C…"
      ],
      "application/vnd.jupyter.widget-view+json": {
       "version_major": 2,
       "version_minor": 0,
       "model_id": "f16e761c83c14a07854085e25581bfe9"
      }
     },
     "metadata": {},
     "output_type": "display_data"
    },
    {
     "data": {
      "text/plain": [
       "Output()"
      ],
      "application/vnd.jupyter.widget-view+json": {
       "version_major": 2,
       "version_minor": 0,
       "model_id": "f0505d9224894eeb84eb76ce368617f3"
      }
     },
     "metadata": {},
     "output_type": "display_data"
    }
   ],
   "execution_count": 5
  },
  {
   "metadata": {},
   "cell_type": "code",
   "outputs": [],
   "execution_count": null,
   "source": "",
   "id": "92bc19650b7f507d"
  },
  {
   "metadata": {
    "ExecuteTime": {
     "end_time": "2025-10-02T20:07:47.360328Z",
     "start_time": "2025-10-02T20:07:47.053156Z"
    }
   },
   "cell_type": "code",
   "source": [
    "selected_code = dropdown.selected_code\n",
    "print(f\"{dropdown.selected_code=}\")\n",
    "# print(f\"{dropdown.images=}\")\n",
    "selected_code\n"
   ],
   "id": "d15dc9423e5c648a",
   "outputs": [
    {
     "name": "stdout",
     "output_type": "stream",
     "text": [
      "dropdown.selected_code='C27'\n"
     ]
    },
    {
     "data": {
      "text/plain": [
       "'C27'"
      ]
     },
     "execution_count": 6,
     "metadata": {},
     "output_type": "execute_result"
    }
   ],
   "execution_count": 6
  },
  {
   "metadata": {
    "ExecuteTime": {
     "end_time": "2025-10-02T20:40:17.493514Z",
     "start_time": "2025-10-02T20:40:12.976581Z"
    }
   },
   "cell_type": "code",
   "source": [
    "import ipywidgets as widgets\n",
    "from IPython.display import display, clear_output\n",
    "import shutil\n",
    "from pathlib import Path\n",
    "\n",
    "# DEST_ROOT = Path(\"/cesta/kam/presunout\")\n",
    "DEST_ROOT.mkdir(parents=True, exist_ok=True)\n",
    "\n",
    "selected_code = dropdown.selected_code\n",
    "images = dropdown.images\n",
    "\n",
    "\n",
    "# vybrané indexy (např. z předchozího výběru)\n",
    "selection = input(\"Zadej čísla adresářů k přesunutí (oddělené čárkou): \")\n",
    "indices = [int(x.strip()) for x in selection.split(\",\") if x.strip().isdigit()]\n",
    "\n",
    "# připrav seznam textových polí pro nové názvy\n",
    "text_inputs = []\n",
    "for ind, i in enumerate(indices):\n",
    "    src_dir = Path(images[i][0])\n",
    "    art_ven = \"Art\" if ind == 0 else \"Ven\" if ind == 1 else \"\"\n",
    "    default_name = f\"{selected_code}_{i:03d}\"\n",
    "    default_name = f\"{selected_code}_{art_ven}\"\n",
    "    txt = widgets.Text(\n",
    "        value=default_name,\n",
    "        description=os.path.basename(src_dir),\n",
    "        layout=widgets.Layout(width=\"500px\")\n",
    "    )\n",
    "    text_inputs.append((src_dir, txt))\n",
    "\n",
    "# tlačítko pro spuštění přesunu\n",
    "button = widgets.Button(description=\"Přesunout vybrané\")\n",
    "\n",
    "output = widgets.Output()\n",
    "\n",
    "def on_click(b):\n",
    "    with output:\n",
    "        clear_output()\n",
    "        for src_dir, txt in text_inputs:\n",
    "            orig_name = src_dir.name\n",
    "            new_name = txt.value.strip()\n",
    "            dest_dir = DEST_ROOT / new_name\n",
    "\n",
    "            print(f\"Přesouvám {src_dir} -> {dest_dir}\")\n",
    "            shutil.move(str(src_dir), dest_dir)\n",
    "\n",
    "            note_path = dest_dir / \"note.txt\"\n",
    "            with open(note_path, \"w\", encoding=\"utf-8\") as f:\n",
    "                f.write(f\"Original name: {orig_name}\\n\")\n",
    "\n",
    "            list(dest_dir.glob(\"*.nii.gz\"))[0].rename(dest_dir / f\"{new_name}.nii.gz\")\n",
    "\n",
    "# propojení\n",
    "button.on_click(on_click)\n",
    "\n",
    "# zobraz widgety\n",
    "for _, txt in text_inputs:\n",
    "    display(txt)\n",
    "display(button, output)"
   ],
   "id": "b06cf92a8c85fbb1",
   "outputs": [
    {
     "data": {
      "text/plain": [
       "Text(value='C37_Art', description='Prasata_C-2025-C37_26.3.2025-DICOM-25032613-02310002', layout=Layout(width=…"
      ],
      "application/vnd.jupyter.widget-view+json": {
       "version_major": 2,
       "version_minor": 0,
       "model_id": "84aab774673e4d8ea81c72be8ce9092c"
      }
     },
     "metadata": {},
     "output_type": "display_data"
    },
    {
     "data": {
      "text/plain": [
       "Text(value='C37_Ven', description='Prasata_C-2025-C37_26.3.2025-DICOM-25032613-02310006', layout=Layout(width=…"
      ],
      "application/vnd.jupyter.widget-view+json": {
       "version_major": 2,
       "version_minor": 0,
       "model_id": "8b701258cf2d4b64b1d7883029436282"
      }
     },
     "metadata": {},
     "output_type": "display_data"
    },
    {
     "data": {
      "text/plain": [
       "Button(description='Přesunout vybrané', style=ButtonStyle())"
      ],
      "application/vnd.jupyter.widget-view+json": {
       "version_major": 2,
       "version_minor": 0,
       "model_id": "04234cbf11b44ff9b68912cdea0748bb"
      }
     },
     "metadata": {},
     "output_type": "display_data"
    },
    {
     "data": {
      "text/plain": [
       "Output()"
      ],
      "application/vnd.jupyter.widget-view+json": {
       "version_major": 2,
       "version_minor": 0,
       "model_id": "7f181ded7c46426f90a65092b8c4abfa"
      }
     },
     "metadata": {},
     "output_type": "display_data"
    }
   ],
   "execution_count": 17
  },
  {
   "metadata": {},
   "cell_type": "code",
   "outputs": [],
   "execution_count": null,
   "source": "",
   "id": "5c5ee2e14ccacf58"
  }
 ],
 "metadata": {
  "kernelspec": {
   "display_name": "Python 3",
   "language": "python",
   "name": "python3"
  },
  "language_info": {
   "codemirror_mode": {
    "name": "ipython",
    "version": 2
   },
   "file_extension": ".py",
   "mimetype": "text/x-python",
   "name": "python",
   "nbconvert_exporter": "python",
   "pygments_lexer": "ipython2",
   "version": "2.7.6"
  }
 },
 "nbformat": 4,
 "nbformat_minor": 5
}
