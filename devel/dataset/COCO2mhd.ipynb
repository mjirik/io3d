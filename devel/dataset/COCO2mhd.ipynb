{
 "cells": [
  {
   "metadata": {
    "ExecuteTime": {
     "end_time": "2024-07-29T08:34:32.452349Z",
     "start_time": "2024-07-29T08:34:32.439841Z"
    }
   },
   "cell_type": "code",
   "source": [
    "import tqdm\n",
    "import json\n",
    "import matplotlib.pyplot as plt\n",
    "import numpy as np\n",
    "from skimage.draw import polygon\n",
    "import skimage.io\n",
    "from pathlib import Path\n",
    "from loguru import logger\n"
   ],
   "outputs": [],
   "execution_count": 19
  },
  {
   "metadata": {
    "ExecuteTime": {
     "end_time": "2024-07-29T09:13:51.093586Z",
     "start_time": "2024-07-29T09:13:51.030587Z"
    }
   },
   "cell_type": "code",
   "source": [
    "class AnnotationTOmask:\n",
    "    def __init__(self, annotation_file):\n",
    "        # load dataset\n",
    "        print(\"loading annotations ...\")\n",
    "        dataset = json.load(open(annotation_file, \"r\"))\n",
    "        print(\"annotations loaded!\")\n",
    "\n",
    "        # creating index\n",
    "        print(\"creating index...\")\n",
    "        imgToAnns = {ann[\"image_id\"]: [] for ann in dataset[\"annotations\"]}\n",
    "        anns = {ann[\"id\"]: [] for ann in dataset[\"annotations\"]}\n",
    "        for ann in dataset[\"annotations\"]:\n",
    "            imgToAnns[ann[\"image_id\"]] += [ann]\n",
    "            anns[ann[\"id\"]] = ann\n",
    "\n",
    "        imgs = {im[\"id\"]: {} for im in dataset[\"images\"]}\n",
    "        for img in dataset[\"images\"]:\n",
    "            imgs[img[\"id\"]] = img\n",
    "\n",
    "        cats = []\n",
    "        catToImgs = []\n",
    "        cats = {cat[\"id\"]: [] for cat in dataset[\"categories\"]}\n",
    "        for cat in dataset[\"categories\"]:\n",
    "            cats[cat[\"id\"]] = cat\n",
    "        catToImgs = {cat[\"id\"]: [] for cat in dataset[\"categories\"]}\n",
    "        for ann in dataset[\"annotations\"]:\n",
    "            catToImgs[ann[\"category_id\"]] += [ann[\"image_id\"]]\n",
    "\n",
    "        print(f\"index created! {len(imgs)} images, {len(anns)} annotations, {len(cats)} categories\")\n",
    "\n",
    "        # create class members\n",
    "        self.anns = anns\n",
    "        self.imgToAnns = imgToAnns\n",
    "        self.catToImgs = catToImgs\n",
    "        self.imgs = imgs\n",
    "        self.cats = cats\n",
    "        self.dataset = dataset\n",
    "\n",
    "    def getAnnIds(self, imgIds, catIds):\n",
    "        \"\"\"\n",
    "        Get ann ids for given cats from all images\n",
    "        \"\"\"\n",
    "        imgIds = imgIds if type(imgIds) == list else [imgIds]\n",
    "        catIds = catIds if type(catIds) == list else [catIds]\n",
    "\n",
    "        if not len(imgIds) == 0:\n",
    "            anns = sum(\n",
    "                [self.imgToAnns[imgId] for imgId in imgIds if imgId in self.imgToAnns],\n",
    "                [],\n",
    "            )\n",
    "        else:\n",
    "            anns = self.dataset[\"annotations\"]\n",
    "        anns = (\n",
    "            anns\n",
    "            if len(catIds) == 0\n",
    "            else [ann for ann in anns if ann[\"category_id\"] in catIds]\n",
    "        )\n",
    "        ids = [ann[\"id\"] for ann in anns]\n",
    "\n",
    "        return ids\n",
    "\n",
    "    def getCatIds(self, catNms=[], catIds=[]):\n",
    "        \"\"\"\n",
    "        get integer array of cat ids for given cat names, given cat ids\n",
    "        \"\"\"\n",
    "        if len(catNms) == len(catIds) == 0:\n",
    "            cats = self.dataset[\"categories\"]\n",
    "        else:\n",
    "            print(\"+++++++++++++++++++++\")\n",
    "            cats = self.dataset[\"categories\"]\n",
    "            cats = (\n",
    "                cats\n",
    "                if len(catNms) == 0\n",
    "                else [cat for cat in cats if cat[\"name\"] in catNms]\n",
    "            )\n",
    "            cats = (\n",
    "                cats\n",
    "                if len(catIds) == 0\n",
    "                else [cat for cat in cats if cat[\"id\"] in catIds]\n",
    "            )\n",
    "        ids = [cat[\"id\"] for cat in cats]\n",
    "        return ids\n",
    "\n",
    "    def getImgIds(self, imgIds=[], catIds=[]):\n",
    "        \"\"\"\n",
    "        return an integer array of img ids for given ids with all given cats\n",
    "        \"\"\"\n",
    "        ids = set(imgIds)\n",
    "        for catId in catIds:\n",
    "            if len(ids) == 0:\n",
    "                ids = set(self.catToImgs[catId])\n",
    "            else:\n",
    "                ids &= set(self.catToImgs[catId])\n",
    "        return list(ids)\n",
    "\n",
    "    def loadAnns(self, ids=[]):\n",
    "        \"\"\"\n",
    "        loaded ann objects for integer ids specifying annotations\n",
    "        \"\"\"\n",
    "        if type(ids) == list:\n",
    "            return [self.anns[id] for id in ids]\n",
    "        elif type(ids) == int:\n",
    "            return [self.anns[ids]]\n",
    "\n",
    "    def loadImgs(self, ids):\n",
    "        \"\"\"\n",
    "        Load loaded img objects with the specified ids.\n",
    "        \"\"\"\n",
    "        return [self.imgs[ids]]\n",
    "\n",
    "    def getSeg(self, anns):\n",
    "        \"\"\"\n",
    "        get annotations segmentatins\n",
    "        \"\"\"\n",
    "        if len(anns) == 0:\n",
    "            print(\"no annotations found\")\n",
    "            return 0\n",
    "\n",
    "        S = []\n",
    "        for ann in anns:\n",
    "            for seg in ann[\"segmentation\"]:\n",
    "                S.append(seg)\n",
    "        return S\n",
    "\n",
    "    def segToMask(self, S, h, w):\n",
    "        \"\"\"\n",
    "        Convert polygon segmentation to binary mask.\n",
    "          S: polygon segmentation mask, h: target mask height, w: target mask width\n",
    "        \"\"\"\n",
    "        M = np.zeros((h, w))\n",
    "        for s in S:\n",
    "            N = len(s)\n",
    "            rr, cc = polygon(np.array(s[1:N:2]), np.array(s[0:N:2]))  # (y, x)\n",
    "            M[rr, cc] = 1\n",
    "        return M\n",
    "\n",
    "\n",
    "def coco_to_mask(\n",
    "    coco_filename,\n",
    "    output_dir,\n",
    "    organ,\n",
    "    voxelsize_mm=None,\n",
    "    output_type=\"png\",\n",
    "    show=False,\n",
    "    name_prefix=\"\",\n",
    "):\n",
    "    \"\"\"\n",
    "    :param coco_filename: coco_filename must include not only name of Coco file, but also it`s full direction (location) in your PC\n",
    "    :param output_dir: is used for controll output direction (location) in your PC\n",
    "    :param organ: name of segmentation part rom what we want have mask \"\"\n",
    "    :param voxelsize_mm:\n",
    "    :param output_type: type of \"Save fail\" of our program| results]\n",
    "    :param show:\n",
    "    :return:\n",
    "    \"\"\"\n",
    "    # file_path = 'task_cell track 20200226-dii-30las-2pre1-2020_10_26_13_28_36-coco 1.0/annotations/instances_default.json'\n",
    "\n",
    "    file_path = coco_filename\n",
    "    import datetime\n",
    "\n",
    "    t0 = datetime.datetime.now()\n",
    "    cv_an = AnnotationTOmask(file_path)\n",
    "    t1 = datetime.datetime.now()\n",
    "    cv_an1 = cv_an.getImgIds()\n",
    "    t2 = datetime.datetime.now()\n",
    "    logger.debug(f\"{t1 - t0}, {t2 - t1}\")\n",
    "    logger.debug(\"getImgIds\", cv_an1)\n",
    "    # extract the region we want to mask ( Right Kidny,  Liver)\n",
    "\n",
    "    # catIds = cv_an.getCatIds(catNms=['cell'])\n",
    "    catIds = cv_an.getCatIds(catNms=[organ])\n",
    "    # catIds = cv_an.getCatIds(catNms=['Liver'])\n",
    "    # catIds = cv_an.getCatIds(catNms=['Left Kidney'])\n",
    "\n",
    "    # logger.debug(\"catIds\", catIds)\n",
    "    imgIds = cv_an.getImgIds(catIds=catIds)\n",
    "    if len(imgIds) == 0:\n",
    "        logger.warning(f\"Label '{organ}' not found.\")\n",
    "    # logger.debug(f\"imgIds={imgIds}\")\n",
    "    Path(output_dir).mkdir(parents=True, exist_ok=True)\n",
    "\n",
    "    # TODO allow storing into one file\n",
    "    #  imgName = cv_an.dataset['images'][0]\n",
    "    #  M = np.zeros([imgName['width'], imgName['height'],len(cv_an[\"images\"])])\n",
    "    #  ...\n",
    "\n",
    "    # create empty files\n",
    "    for imgName in cv_an.dataset[\"images\"]:\n",
    "        # logger.debug(f\"imgName={imgName}\")\n",
    "        M = np.zeros([imgName[\"width\"], imgName[\"height\"]])\n",
    "        image_path = Path(output_dir) / organ / (\n",
    "            name_prefix + \n",
    "            # Path(imgName[\"file_name\"]).name + \".\" + output_type\n",
    "            imgName[\"file_name\"] + \".\" + output_type\n",
    "        )\n",
    "        image_path.parent.mkdir(parents=True, exist_ok=True)\n",
    "        # logger.debug(f\"image_path={image_path}\")\n",
    "        skimage.io.imsave(image_path, np.uint8(M), check_contrast=False)\n",
    "        # plt.imsave(image_path, np.uint8(M), cmap = 'gray')\n",
    "\n",
    "    # rewrite images with label\n",
    "    for im in tqdm.tqdm(imgIds):\n",
    "        # logger.debug(f\"iM{im}\")\n",
    "        imgName = cv_an.loadImgs(im)[0]\n",
    "        anns_ids = cv_an.getAnnIds(imgIds=imgName[\"id\"], catIds=catIds)\n",
    "        anns = cv_an.loadAnns(anns_ids)\n",
    "        S = cv_an.getSeg(anns)\n",
    "        M = cv_an.segToMask(S, imgName[\"width\"], imgName[\"height\"]) * 255\n",
    "        if show:\n",
    "            plt.figure()\n",
    "            plt.imshow(M)\n",
    "            plt.show()\n",
    "            plt.close()\n",
    "        # image_path = Path(output_dir) / ('MaskOfPIG_'+str(imgName['file_name'])+'.'+output_type)\n",
    "        image_path = Path(output_dir) / organ / (\n",
    "                name_prefix +\n",
    "                # Path(imgName[\"file_name\"]).name + \".\" + output_type\n",
    "                imgName[\"file_name\"] + \".\" + output_type\n",
    "        )\n",
    "        # logger.debug(image_path)\n",
    "        un = np.unique(M)\n",
    "        if len(un) < 2:\n",
    "            logger.warning(f\"No data found in annotation {imgName['file_name']}\")\n",
    "        skimage.io.imsave(image_path, np.uint8(M), check_contrast=False)\n",
    "        plt.imsave(image_path, np.uint8(M), cmap=\"gray\")\n",
    "\n",
    "    logger.debug(\"Done\")"
   ],
   "outputs": [],
   "execution_count": 51
  },
  {
   "metadata": {
    "ExecuteTime": {
     "end_time": "2024-07-29T08:26:23.498544Z",
     "start_time": "2024-07-29T08:26:23.486546Z"
    }
   },
   "cell_type": "code",
   "source": [
    "# json_path = Path(r\"H:\\biomedical\\orig\\pilsen_pigs_all\\transplantation_annotation\\annotations_\\pilsen_pigs_coco_from_cvat/instances_default.json\")\n",
    "# # json_path = Path(r\"H:\\biomedical\\orig\\pilsen_pigs_all\\transplantation_annotation\\annotations_\\tx028_coco\\annotations\\instances_default.json\")\n",
    "# assert json_path.exists()"
   ],
   "outputs": [],
   "execution_count": 15
  },
  {
   "metadata": {
    "ExecuteTime": {
     "end_time": "2024-07-29T08:26:25.429325Z",
     "start_time": "2024-07-29T08:26:25.276329Z"
    }
   },
   "cell_type": "code",
   "source": [
    "\n",
    "# file_path = json_path\n",
    "# organ=\"Left Kidney\"\n",
    "# \n",
    "# \n",
    "# import datetime\n",
    "# \n",
    "# t0 = datetime.datetime.now()\n",
    "# cv_an = AnnotationTOmask(file_path)\n",
    "# t1 = datetime.datetime.now()\n",
    "# cv_an1 = cv_an.getImgIds()\n",
    "# t2 = datetime.datetime.now()\n",
    "# logger.debug(f\"{t1 - t0}, {t2 - t1}\")\n",
    "# logger.debug(\"getImgIds\", cv_an1)\n",
    "# # extract the region we want to mask ( Right Kidny,  Liver)\n",
    "# \n",
    "# # catIds = cv_an.getCatIds(catNms=['cell'])\n",
    "# catIds = cv_an.getCatIds(catNms=[organ])\n",
    "# # catIds = cv_an.getCatIds(catNms=['Liver'])\n",
    "# # catIds = cv_an.getCatIds(catNms=['Left Kidney'])\n",
    "# \n",
    "# logger.debug(\"catIds\", catIds)\n",
    "# imgIds = cv_an.getImgIds(catIds=catIds)\n",
    "# if len(imgIds) == 0:\n",
    "#     logger.warning(f\"Label '{organ}' not found.\")\n"
   ],
   "outputs": [
    {
     "name": "stderr",
     "output_type": "stream",
     "text": [
      "2024-07-29 10:26:25.423 | DEBUG    | __main__:<module>:12 - 0:00:00.143986, 0:00:00\n",
      "2024-07-29 10:26:25.424 | DEBUG    | __main__:<module>:13 - getImgIds\n",
      "2024-07-29 10:26:25.424 | DEBUG    | __main__:<module>:21 - catIds\n"
     ]
    },
    {
     "name": "stdout",
     "output_type": "stream",
     "text": [
      "loading annotations ...\n",
      "annotations loaded!\n",
      "creating index...\n",
      "index created!\n",
      "+++++++++++++++++++++\n"
     ]
    }
   ],
   "execution_count": 16
  },
  {
   "metadata": {
    "ExecuteTime": {
     "end_time": "2024-07-29T08:49:48.938879Z",
     "start_time": "2024-07-29T08:49:48.931866Z"
    }
   },
   "cell_type": "code",
   "source": [
    "# len(cv_an.dataset[\"images\"])\n",
    "cv_an.dataset[\"images\"][0]\n"
   ],
   "outputs": [
    {
     "data": {
      "text/plain": [
       "{'id': 1,\n",
       " 'width': 512,\n",
       " 'height': 512,\n",
       " 'file_name': 'Tx040D_Ven/Tx040D_Vensoubor_01123.jpg',\n",
       " 'license': 0,\n",
       " 'flickr_url': '',\n",
       " 'coco_url': '',\n",
       " 'date_captured': 0}"
      ]
     },
     "execution_count": 25,
     "metadata": {},
     "output_type": "execute_result"
    }
   ],
   "execution_count": 25
  },
  {
   "metadata": {
    "ExecuteTime": {
     "end_time": "2024-07-29T08:46:55.275311Z",
     "start_time": "2024-07-29T08:46:55.256310Z"
    }
   },
   "cell_type": "code",
   "source": "# cv_an.dataset[\"categories\"]",
   "outputs": [
    {
     "data": {
      "text/plain": [
       "[{'id': 1, 'name': 'Heart', 'supercategory': ''},\n",
       " {'id': 2, 'name': 'Thoracic Cavity', 'supercategory': ''},\n",
       " {'id': 3, 'name': 'Left Kidney', 'supercategory': ''},\n",
       " {'id': 4, 'name': 'Right Kidney', 'supercategory': ''},\n",
       " {'id': 5, 'name': 'Liver', 'supercategory': ''},\n",
       " {'id': 6, 'name': 'Portal Vein', 'supercategory': ''},\n",
       " {'id': 7, 'name': 'Vena Cava', 'supercategory': ''},\n",
       " {'id': 8, 'name': 'Aorta', 'supercategory': ''},\n",
       " {'id': 9, 'name': 'Portal Vein Entry Point', 'supercategory': ''}]"
      ]
     },
     "execution_count": 24,
     "metadata": {},
     "output_type": "execute_result"
    }
   ],
   "execution_count": 24
  },
  {
   "metadata": {
    "ExecuteTime": {
     "end_time": "2024-07-29T09:03:45.081980Z",
     "start_time": "2024-07-29T09:03:45.067980Z"
    }
   },
   "cell_type": "code",
   "source": [
    "\n",
    "coco_path= Path(r\"H:\\biomedical\\orig\\pilsen_pigs_all\\transplantation_annotation\\annotations_\\pilsen_pigs_coco_from_cvat/instances_default.json\")\n",
    "output_path_png= Path(r\"H:\\biomedical\\orig\\pilsen_pigs_all\\transplantation_annotation\\masks_from_annotations\\2024-07_png\")\n",
    "output_path_mhd = Path(r\"H:\\biomedical\\orig\\pilsen_pigs_all\\transplantation_annotation\\masks_from_annotations\\2024-07_mhd\")\n"
   ],
   "outputs": [],
   "execution_count": 40
  },
  {
   "cell_type": "code",
   "metadata": {
    "ExecuteTime": {
     "end_time": "2024-07-29T09:19:33.095837Z",
     "start_time": "2024-07-29T09:13:59.615097Z"
    }
   },
   "source": [
    "# Coco_Path = \"F:/PigProject/pig28/annotations/Pig28.json\"\n",
    "# Output_Path = \"F:/PigProject/pig28/annotations/PNG\"\n",
    "# organ = \"Left Kidney\"\n",
    "\n",
    "for organ in [\n",
    "    # \"Left Kidney\", \n",
    "    \"Right Kidney\", \"Liver\", \"Portal Vein\", \"Aorta\"\n",
    "]:\n",
    "    coco_to_mask1 = coco_to_mask(\n",
    "        coco_path,\n",
    "        output_path_png,\n",
    "        organ,\n",
    "        voxelsize_mm=None,\n",
    "        output_type=\"png\",\n",
    "        show=False,\n",
    "        name_prefix=\"\",\n",
    "    )"
   ],
   "outputs": [
    {
     "name": "stdout",
     "output_type": "stream",
     "text": [
      "loading annotations ...\n"
     ]
    },
    {
     "name": "stderr",
     "output_type": "stream",
     "text": [
      "2024-07-29 11:13:59.846 | DEBUG    | __main__:coco_to_mask:166 - 0:00:00.230001, 0:00:00\n",
      "2024-07-29 11:13:59.847 | DEBUG    | __main__:coco_to_mask:167 - getImgIds\n"
     ]
    },
    {
     "name": "stdout",
     "output_type": "stream",
     "text": [
      "annotations loaded!\n",
      "creating index...\n",
      "index created! 17016 images, 6396 annotations, 9 categories\n",
      "+++++++++++++++++++++\n"
     ]
    },
    {
     "name": "stderr",
     "output_type": "stream",
     "text": [
      "100%|██████████| 1006/1006 [00:25<00:00, 38.86it/s]\n",
      "2024-07-29 11:15:20.664 | DEBUG    | __main__:coco_to_mask:227 - Done\n",
      "2024-07-29 11:15:20.823 | DEBUG    | __main__:coco_to_mask:166 - 0:00:00.141998, 0:00:00\n",
      "2024-07-29 11:15:20.824 | DEBUG    | __main__:coco_to_mask:167 - getImgIds\n"
     ]
    },
    {
     "name": "stdout",
     "output_type": "stream",
     "text": [
      "loading annotations ...\n",
      "annotations loaded!\n",
      "creating index...\n",
      "index created! 17016 images, 6396 annotations, 9 categories\n",
      "+++++++++++++++++++++\n"
     ]
    },
    {
     "name": "stderr",
     "output_type": "stream",
     "text": [
      "100%|██████████| 1673/1673 [01:00<00:00, 27.61it/s]\n",
      "2024-07-29 11:17:30.300 | DEBUG    | __main__:coco_to_mask:227 - Done\n"
     ]
    },
    {
     "name": "stdout",
     "output_type": "stream",
     "text": [
      "loading annotations ...\n"
     ]
    },
    {
     "name": "stderr",
     "output_type": "stream",
     "text": [
      "2024-07-29 11:17:30.533 | DEBUG    | __main__:coco_to_mask:166 - 0:00:00.219023, 0:00:00\n",
      "2024-07-29 11:17:30.534 | DEBUG    | __main__:coco_to_mask:167 - getImgIds\n"
     ]
    },
    {
     "name": "stdout",
     "output_type": "stream",
     "text": [
      "annotations loaded!\n",
      "creating index...\n",
      "index created! 17016 images, 6396 annotations, 9 categories\n",
      "+++++++++++++++++++++\n"
     ]
    },
    {
     "name": "stderr",
     "output_type": "stream",
     "text": [
      "100%|██████████| 107/107 [00:02<00:00, 42.03it/s]\n",
      "2024-07-29 11:18:38.571 | DEBUG    | __main__:coco_to_mask:227 - Done\n",
      "2024-07-29 11:18:38.730 | DEBUG    | __main__:coco_to_mask:166 - 0:00:00.142999, 0:00:00\n",
      "2024-07-29 11:18:38.731 | DEBUG    | __main__:coco_to_mask:167 - getImgIds\n",
      "2024-07-29 11:18:38.731 | WARNING  | __main__:coco_to_mask:178 - Label 'Aorta' not found.\n"
     ]
    },
    {
     "name": "stdout",
     "output_type": "stream",
     "text": [
      "loading annotations ...\n",
      "annotations loaded!\n",
      "creating index...\n",
      "index created! 17016 images, 6396 annotations, 9 categories\n",
      "+++++++++++++++++++++\n"
     ]
    },
    {
     "name": "stderr",
     "output_type": "stream",
     "text": [
      "0it [00:00, ?it/s]\n",
      "2024-07-29 11:19:33.071 | DEBUG    | __main__:coco_to_mask:227 - Done\n"
     ]
    }
   ],
   "execution_count": 52
  },
  {
   "metadata": {},
   "cell_type": "markdown",
   "source": "# Convert to RAW / MHD"
  },
  {
   "cell_type": "code",
   "metadata": {
    "ExecuteTime": {
     "end_time": "2024-07-29T10:46:49.224030Z",
     "start_time": "2024-07-29T10:40:00.602295Z"
    }
   },
   "source": [
    "# go over dirs in output_path\n",
    "import io3d\n",
    "\n",
    "\n",
    "for fn in tqdm.tqdm(list(output_path_png.glob(\"**/*0000.jpg.png\"))):\n",
    "    fn_parent = fn.parent\n",
    "    fn_parent_rel = fn_parent.relative_to(output_path_png)\n",
    "    mhd_path = output_path_mhd / fn_parent_rel.parent / (fn_parent_rel.name + \".mhd\")\n",
    "    mhd_path.parent.mkdir(parents=True, exist_ok=True)\n",
    "    # logger.debug(fn_parent_rel)\n",
    "    # logger.debug(mhd_path)\n",
    "    datap = io3d.read(fn_parent)\n",
    "    io3d.write(datap.data3d, mhd_path, metadata={\"voxelsize_mm\": datap.voxelsize_mm})\n",
    "    # logger.debug(f\"{datap.data3d.shape}\")\n",
    "    \n",
    "    "
   ],
   "outputs": [
    {
     "name": "stderr",
     "output_type": "stream",
     "text": [
      "100%|██████████| 80/80 [06:42<00:00,  5.04s/it]\n"
     ]
    }
   ],
   "execution_count": 53
  },
  {
   "metadata": {},
   "cell_type": "code",
   "outputs": [],
   "execution_count": null,
   "source": ""
  }
 ],
 "metadata": {
  "kernelspec": {
   "display_name": "Python 3 (ipykernel)",
   "language": "python",
   "name": "python3"
  },
  "language_info": {
   "codemirror_mode": {
    "name": "ipython",
    "version": 3
   },
   "file_extension": ".py",
   "mimetype": "text/x-python",
   "name": "python",
   "nbconvert_exporter": "python",
   "pygments_lexer": "ipython3",
   "version": "3.7.4"
  }
 },
 "nbformat": 4,
 "nbformat_minor": 4
}
