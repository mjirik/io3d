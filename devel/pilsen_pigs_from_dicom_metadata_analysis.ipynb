{
 "cells": [
  {
   "metadata": {},
   "cell_type": "markdown",
   "source": "# Load all the pig dicom data and convert them to nifti",
   "id": "894ea1f31ad36796"
  },
  {
   "metadata": {},
   "cell_type": "code",
   "source": [
    "%load_ext autoreload\n",
    "%autoreload 2"
   ],
   "id": "9b38245d338462cb",
   "outputs": [],
   "execution_count": null
  },
  {
   "metadata": {},
   "cell_type": "code",
   "source": [
    "# !pip install loguru pydicom scipy scikit-image\n",
    "\n",
    "# !pip install git+https://github.com/mjirik/io3d --upgrade --force-reinstall\n",
    "# !pip install git+https://github.com/mjirik/imma --upgrade --force-reinstall\n",
    "\n",
    "# !pip install git+https://github.com/mjirik/io3d\n",
    "# !pip install git+https://github.com/mjirik/imma\n",
    "\n"
   ],
   "id": "a25c7d87e0d6f6e6",
   "outputs": [],
   "execution_count": null
  },
  {
   "metadata": {},
   "cell_type": "code",
   "source": [
    "import io3d\n",
    "from pathlib import Path\n",
    "from loguru import logger\n",
    "from pprint import pprint, pformat\n",
    "import pandas as pd\n",
    "import re\n",
    "import numpy as np\n",
    "import json\n",
    "import tqdm\n",
    "\n",
    "logger.enable(\"io3d\")\n",
    "force = True\n",
    "# force = False\n",
    "\n",
    "# recreate_meta = False\n",
    "# recreate_meta = True\n",
    "# base_path = Path(r\"H:\\biomedical\\orig\\pilsen_pigs_all\\transplantation_dicom\")\n",
    "# dirname = \"Prasata DC\"\n",
    "# dirname = \"Prasata H\"\n",
    "dataset_base_path = Path(r\"~/mnt/nas-bmc3_ct/\").expanduser().resolve()\n",
    "# base_path = dataset_base_path / dirname\n",
    "# fn_prefix = dirname.replace(\" \", '_') + \"-\"\n",
    "# output_dir_part = dirname.replace(\" \", '_')\n",
    "# base_path = Path(r\"~/Downloads/_temp/\").expanduser()  #: used when the zip files are downloaded manually\n",
    "# raw_path = Path(r\"H:\\biomedical\\orig\\pilsen_pigs_all\\transplantation_nii_transposed\")\n",
    "# transposed_path = Path(r\"H:\\biomedical\\orig\\pilsen_pigs_all\\transplantation_nii_transposed\")\n",
    "# output_path = Path(r\"H:\\biomedical\\orig\\pilsen_pigs\")\n",
    "# output_path= Path(r\"~/mnt/nas-bmc3_ct/pilsen_pigs_all/transplantation_nii_transposed\").expanduser() / output_dir_part\n",
    "metadata_path=dataset_base_path / \"metadata.csv\"\n",
    "\n",
    "assert metadata_path.exists()"
   ],
   "id": "a4c3a66ba976b797",
   "outputs": [],
   "execution_count": null
  },
  {
   "metadata": {},
   "cell_type": "code",
   "source": [
    "import pandas as pd\n",
    "metadata_df = pd.read_csv(metadata_path, index_col=0)"
   ],
   "id": "b800900481f2c876",
   "outputs": [],
   "execution_count": null
  },
  {
   "metadata": {},
   "cell_type": "code",
   "source": [
    "# metadata_df['voxelsize_mm_0'] = metadata_df.voxelsize_mm.apply(lambda x: json.loads(x)[0] if isinstance(x, str) else np.nan)\n",
    "# metadata_df['voxelsize_mm_1'] = metadata_df.voxelsize_mm.apply(lambda x: json.loads(x)[1] if isinstance(x, str) else np.nan)\n",
    "# metadata_df['voxelsize_mm_2'] = metadata_df.voxelsize_mm.apply(lambda x: json.loads(x)[2] if isinstance(x, str) else np.nan)"
   ],
   "id": "6a4062dc1bbad75f",
   "outputs": [],
   "execution_count": null
  },
  {
   "metadata": {},
   "cell_type": "code",
   "source": "metadata_df\n",
   "id": "c5a10a946b7a8b60",
   "outputs": [],
   "execution_count": null
  }
 ],
 "metadata": {
  "kernelspec": {
   "display_name": "Python 3",
   "language": "python",
   "name": "python3"
  },
  "language_info": {
   "codemirror_mode": {
    "name": "ipython",
    "version": 2
   },
   "file_extension": ".py",
   "mimetype": "text/x-python",
   "name": "python",
   "nbconvert_exporter": "python",
   "pygments_lexer": "ipython2",
   "version": "2.7.6"
  }
 },
 "nbformat": 4,
 "nbformat_minor": 5
}
